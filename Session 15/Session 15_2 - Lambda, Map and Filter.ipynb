{
 "cells": [
  {
   "cell_type": "markdown",
   "metadata": {},
   "source": [
    "# 🚀 Lambda Expressions, `map()`, and `filter()` in Python\n",
    "\n",
    "Lambda functions are **anonymous**, **concise**, and often used when you need a quick function for a short task—especially with functional tools like `map()` and `filter()`.\n",
    "\n",
    "<div style=\"text-align: center;\">\n",
    "  <a href=\"https://colab.research.google.com/github/MinooSdpr/python-for-beginners/blob/main/Session%2015/Session%2015_2%20-%20Lambda%2C%20Map%20and%20Filter.ipynb\">\n",
    "    <img src=\"https://colab.research.google.com/assets/colab-badge.svg\" alt=\"Open In Colab\" />\n",
    "  </a>\n",
    "  &nbsp;\n",
    "  <a href=\"https://github.com/MinooSdpr/python-for-beginners/blob/main/Session%2015/Session%2015_2%20-%20Lambda%2C%20Map%20and%20Filter.ipynb\">\n",
    "    <img src=\"https://img.shields.io/badge/Open%20in-GitHub-24292e?logo=github&logoColor=white\" alt=\"Open In GitHub\" />\n",
    "  </a>\n",
    "</div>\n",
    "\n",
    "---\n",
    "\n",
    "## 🔹 Basic Lambda Example"
   ]
  },
  {
   "cell_type": "code",
   "execution_count": 1,
   "metadata": {},
   "outputs": [
    {
     "name": "stdout",
     "output_type": "stream",
     "text": [
      "4\n"
     ]
    }
   ],
   "source": [
    "square = lambda num: num ** 2\n",
    "print(square(2))"
   ]
  },
  {
   "cell_type": "markdown",
   "metadata": {},
   "source": [
    "## 🔄 Transforming Data with `map()`\n",
    "\n",
    "Use `map()` when you want to **transform every item** in a list.\n"
   ]
  },
  {
   "cell_type": "code",
   "execution_count": 2,
   "metadata": {},
   "outputs": [
    {
     "name": "stdout",
     "output_type": "stream",
     "text": [
      "[1, 4, 9, 16, 25]\n"
     ]
    }
   ],
   "source": [
    "my_nums = [1, 2, 3, 4, 5]\n",
    "\n",
    "squared = list(map(lambda num: num ** 2, my_nums))\n",
    "print(squared)"
   ]
  },
  {
   "cell_type": "markdown",
   "metadata": {},
   "source": [
    "## 🧹 Filtering Data with `filter()`\n",
    "\n",
    "Use `filter()` when you want to **select items that meet a condition**.\n"
   ]
  },
  {
   "cell_type": "code",
   "execution_count": 3,
   "metadata": {},
   "outputs": [
    {
     "name": "stdout",
     "output_type": "stream",
     "text": [
      "[0, 2, 4, 6, 8, 10]\n"
     ]
    }
   ],
   "source": [
    "nums = list(range(11))\n",
    "\n",
    "evens = list(filter(lambda n: n % 2 == 0, nums))\n",
    "print(evens)"
   ]
  },
  {
   "cell_type": "markdown",
   "metadata": {},
   "source": [
    "## 🧵 More Lambda Examples\n",
    "\n",
    "### 🔤 First Character of a String"
   ]
  },
  {
   "cell_type": "code",
   "execution_count": 4,
   "metadata": {},
   "outputs": [
    {
     "name": "stdout",
     "output_type": "stream",
     "text": [
      "H\n"
     ]
    }
   ],
   "source": [
    "get_first_char = lambda s: s[0]\n",
    "print(get_first_char(\"Hello\"))"
   ]
  },
  {
   "cell_type": "markdown",
   "metadata": {
    "collapsed": true,
    "jupyter": {
     "outputs_hidden": true
    }
   },
   "source": [
    "### 🔁 Reverse a String"
   ]
  },
  {
   "cell_type": "code",
   "execution_count": 5,
   "metadata": {},
   "outputs": [
    {
     "name": "stdout",
     "output_type": "stream",
     "text": [
      "nohtyP\n"
     ]
    }
   ],
   "source": [
    "reverse_string = lambda s: s[::-1]\n",
    "print(reverse_string(\"Python\"))"
   ]
  },
  {
   "cell_type": "markdown",
   "metadata": {},
   "source": [
    "### ➕ Combine Two Lists Element-wise\n"
   ]
  },
  {
   "cell_type": "code",
   "execution_count": 6,
   "metadata": {},
   "outputs": [
    {
     "name": "stdout",
     "output_type": "stream",
     "text": [
      "[12, 14, 8, 10, 664, 10]\n"
     ]
    }
   ],
   "source": [
    "l1 = [1, 2, 4, 5, 657, 5]\n",
    "l2 = [11, 12, 4, 5, 7, 5]\n",
    "\n",
    "summed = list(map(lambda x, y: x + y, l1, l2))\n",
    "print(summed)"
   ]
  },
  {
   "cell_type": "markdown",
   "metadata": {},
   "source": [
    "## 📌 Summary\n",
    "\n",
    "| Concept       | Purpose                                 | Example                         |\n",
    "| ------------- | --------------------------------------- | ------------------------------- |\n",
    "| `lambda`      | Define small, anonymous functions       | `lambda x: x * 2`               |\n",
    "| `map()`       | Apply a function to each item in a list | `map(lambda x: x+1, data)`      |\n",
    "| `filter()`    | Filter items based on a condition       | `filter(lambda x: x > 0, data)` |\n",
    "| Multiple Args | Lambdas can take more than one argument | `lambda x, y: x + y`            |\n",
    "\n",
    "✅ Use `lambda` when:\n",
    "\n",
    "* The function is short and used once.\n",
    "* You want cleaner, more expressive code.\n",
    "* You're working with functions like `map()`, `filter()`, or `sorted()`."
   ]
  },
  {
   "cell_type": "markdown",
   "metadata": {},
   "source": [
    "## ❓ Questions\n",
    "\n",
    "1. **Given the list `words = [\"apple\", \"banana\", \"pear\"]`, write a `lambda` expression using `map()` to return a length of each word.**\n",
    "\n",
    "2. 🔍 **Use a `lambda` and `filter()` to return only the words with more than 4 letters from the list**\n",
    "\n",
    "```python\n",
    "words = [\"sun\", \"planet\", \"star\", \"galaxy\", \"moon\"]\n",
    "```\n",
    "\n",
    "3. **Given two lists of equal length, use `map()` and a `lambda` to return greater number:**\n",
    "\n",
    "```python\n",
    "a = [10, 20, 30]\n",
    "b = [1, 2, 3]\n",
    "\n",
    "```\n",
    "\n",
    "\n",
    "<div style=\"float:right;\">\n",
    "  <a href=\"https://github.com/MinooSdpr/python-for-beginners/blob/main/Session%2015/Session%2015_3%20-%20Functions%20and%20Methods%20Assessment%20Test.ipynb\"\n",
    "     style=\"\n",
    "       display:inline-block;\n",
    "       padding:8px 20px;\n",
    "       background-color:#414f6f;\n",
    "       color:white;\n",
    "       border-radius:12px;\n",
    "       text-decoration:none;\n",
    "       font-family:sans-serif;\n",
    "       transition:background-color 0.3s ease;\n",
    "     \"\n",
    "     onmouseover=\"this.style.backgroundColor='#2f3a52';\"\n",
    "     onmouseout=\"this.style.backgroundColor='#414f6f';\">\n",
    "    ▶️ Next\n",
    "  </a>\n",
    "</div>\n"
   ]
  }
 ],
 "metadata": {
  "kernelspec": {
   "display_name": "Python [conda env:base] *",
   "language": "python",
   "name": "conda-base-py"
  },
  "language_info": {
   "codemirror_mode": {
    "name": "ipython",
    "version": 3
   },
   "file_extension": ".py",
   "mimetype": "text/x-python",
   "name": "python",
   "nbconvert_exporter": "python",
   "pygments_lexer": "ipython3",
   "version": "3.12.7"
  }
 },
 "nbformat": 4,
 "nbformat_minor": 4
}
