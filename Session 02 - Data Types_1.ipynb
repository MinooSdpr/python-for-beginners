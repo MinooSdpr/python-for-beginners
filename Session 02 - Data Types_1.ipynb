{
 "cells": [
  {
   "cell_type": "markdown",
   "id": "4885c5c4",
   "metadata": {},
   "source": [
    "# Number Data Type and Arithmetic in Python!\n",
    "\n",
    "In this lecture, we will learn about numbers in Python and how to use them.\n",
    "\n",
    "We'll learn about the following topics:\n",
    "\n",
    "    1.) Types of Numbers in Python\n",
    "    2.) Basic Arithmetic\n",
    "    3.) Differences between classic division and floor division\n",
    "    4.) Object Assignment in Python"
   ]
  },
  {
   "cell_type": "markdown",
   "id": "f7353e1f",
   "metadata": {},
   "source": [
    "### Basic Arithmetic"
   ]
  },
  {
   "cell_type": "code",
   "execution_count": 1,
   "id": "ba4c3a5f",
   "metadata": {},
   "outputs": [
    {
     "name": "stdout",
     "output_type": "stream",
     "text": [
      "salam\n"
     ]
    }
   ],
   "source": [
    "print('salam')"
   ]
  },
  {
   "cell_type": "code",
   "execution_count": 3,
   "id": "c25140c1",
   "metadata": {},
   "outputs": [
    {
     "name": "stdout",
     "output_type": "stream",
     "text": [
      "3\n"
     ]
    }
   ],
   "source": [
    "# Addition\n",
    "print(2+1)"
   ]
  },
  {
   "cell_type": "code",
   "execution_count": 2,
   "id": "a4cd0064",
   "metadata": {},
   "outputs": [
    {
     "name": "stdout",
     "output_type": "stream",
     "text": [
      "1\n"
     ]
    }
   ],
   "source": [
    "# Subtraction\n",
    "print(2-1)"
   ]
  },
  {
   "cell_type": "code",
   "execution_count": 4,
   "id": "9d7b5de0",
   "metadata": {},
   "outputs": [
    {
     "name": "stdout",
     "output_type": "stream",
     "text": [
      "6\n"
     ]
    }
   ],
   "source": [
    "# Multiplication\n",
    "print(2*3)"
   ]
  },
  {
   "cell_type": "code",
   "execution_count": 5,
   "id": "a7406760",
   "metadata": {},
   "outputs": [
    {
     "name": "stdout",
     "output_type": "stream",
     "text": [
      "2.0\n"
     ]
    }
   ],
   "source": [
    "# Division\n",
    "print(4/2)"
   ]
  },
  {
   "cell_type": "code",
   "execution_count": 5,
   "id": "4a1e3939",
   "metadata": {},
   "outputs": [
    {
     "name": "stdout",
     "output_type": "stream",
     "text": [
      "1.75\n",
      "1\n"
     ]
    }
   ],
   "source": [
    "# Floor Division\n",
    "print(7/4)\n",
    "print(7//4)"
   ]
  },
  {
   "cell_type": "markdown",
   "id": "db1f9f4e",
   "metadata": {},
   "source": [
    "We get this result is because we are using \"*floor*\" division. The // operator (two forward slashes) truncates the decimal without rounding, and returns an integer result."
   ]
  },
  {
   "cell_type": "code",
   "execution_count": 6,
   "id": "84d2ce8d",
   "metadata": {},
   "outputs": [
    {
     "name": "stdout",
     "output_type": "stream",
     "text": [
      "3\n"
     ]
    }
   ],
   "source": [
    "# Modulo\n",
    "print(7%4)"
   ]
  },
  {
   "cell_type": "markdown",
   "id": "afd19867",
   "metadata": {},
   "source": [
    "The % operator returns the remainder after division."
   ]
  },
  {
   "cell_type": "code",
   "execution_count": 7,
   "id": "732b3492",
   "metadata": {},
   "outputs": [
    {
     "name": "stdout",
     "output_type": "stream",
     "text": [
      "8\n"
     ]
    }
   ],
   "source": [
    "# Powers\n",
    "print(2**3)"
   ]
  },
  {
   "cell_type": "code",
   "execution_count": 6,
   "id": "f52258f1",
   "metadata": {},
   "outputs": [
    {
     "name": "stdout",
     "output_type": "stream",
     "text": [
      "243\n"
     ]
    }
   ],
   "source": [
    "print(3**5)"
   ]
  },
  {
   "cell_type": "code",
   "execution_count": 8,
   "id": "71960d2d",
   "metadata": {},
   "outputs": [
    {
     "name": "stdout",
     "output_type": "stream",
     "text": [
      "2.0\n"
     ]
    }
   ],
   "source": [
    "# do roots this way\n",
    "print(4**0.5)"
   ]
  },
  {
   "cell_type": "code",
   "execution_count": 9,
   "id": "4ec30a05",
   "metadata": {},
   "outputs": [
    {
     "name": "stdout",
     "output_type": "stream",
     "text": [
      "3.0\n"
     ]
    }
   ],
   "source": [
    "print(27**(1/3))"
   ]
  },
  {
   "cell_type": "code",
   "execution_count": 7,
   "id": "f1b9dff0",
   "metadata": {},
   "outputs": [
    {
     "name": "stdout",
     "output_type": "stream",
     "text": [
      "132\n"
     ]
    }
   ],
   "source": [
    "# Order of Operations followed in Python\n",
    "print(2 + 10 * (10 + 3))"
   ]
  },
  {
   "cell_type": "code",
   "execution_count": 9,
   "id": "be17f83d",
   "metadata": {},
   "outputs": [
    {
     "name": "stdout",
     "output_type": "stream",
     "text": [
      "1.5\n"
     ]
    }
   ],
   "source": [
    "print(3*2/4)"
   ]
  },
  {
   "cell_type": "code",
   "execution_count": 11,
   "id": "c5db5f0c",
   "metadata": {},
   "outputs": [
    {
     "name": "stdout",
     "output_type": "stream",
     "text": [
      "156\n"
     ]
    }
   ],
   "source": [
    "# Can use parentheses to specify orders\n",
    "print((2+10) * (10+3))"
   ]
  },
  {
   "cell_type": "markdown",
   "id": "a777724f",
   "metadata": {},
   "source": [
    "## Variable Assignments\n",
    "\n",
    "We use a single equals sign to assign labels to variables. Variable assignment follows `name = object`, where a single equals sign `=` is an *assignment operator*"
   ]
  },
  {
   "cell_type": "code",
   "execution_count": 11,
   "id": "a245e4cb",
   "metadata": {},
   "outputs": [
    {
     "name": "stdout",
     "output_type": "stream",
     "text": [
      "<class 'float'>\n"
     ]
    }
   ],
   "source": [
    "a = 5.37\n",
    "print(type(a))"
   ]
  },
  {
   "cell_type": "code",
   "execution_count": 12,
   "id": "650f566d",
   "metadata": {},
   "outputs": [
    {
     "name": "stdout",
     "output_type": "stream",
     "text": [
      "<class 'str'>\n"
     ]
    }
   ],
   "source": [
    "string = 'hello'\n",
    "print(type(string))"
   ]
  },
  {
   "cell_type": "code",
   "execution_count": 13,
   "id": "ab3c03ea",
   "metadata": {},
   "outputs": [
    {
     "name": "stdout",
     "output_type": "stream",
     "text": [
      "10.74\n"
     ]
    }
   ],
   "source": [
    "print(a+a)"
   ]
  },
  {
   "cell_type": "code",
   "execution_count": 14,
   "id": "db13df86",
   "metadata": {},
   "outputs": [],
   "source": [
    "a = 20"
   ]
  },
  {
   "cell_type": "code",
   "execution_count": 15,
   "id": "24a29a01",
   "metadata": {},
   "outputs": [
    {
     "name": "stdout",
     "output_type": "stream",
     "text": [
      "20\n"
     ]
    }
   ],
   "source": [
    "# Check\n",
    "print(a)"
   ]
  },
  {
   "cell_type": "code",
   "execution_count": 16,
   "id": "48ec7784",
   "metadata": {},
   "outputs": [],
   "source": [
    "# Use A to redefine A\n",
    "a = a + a"
   ]
  },
  {
   "cell_type": "code",
   "execution_count": 17,
   "id": "0a830435",
   "metadata": {},
   "outputs": [
    {
     "name": "stdout",
     "output_type": "stream",
     "text": [
      "40\n"
     ]
    }
   ],
   "source": [
    "print(a)"
   ]
  },
  {
   "cell_type": "code",
   "execution_count": 18,
   "id": "cc9821e9",
   "metadata": {},
   "outputs": [
    {
     "name": "stdout",
     "output_type": "stream",
     "text": [
      "25000000\n",
      "25000000\n"
     ]
    }
   ],
   "source": [
    "num1 = 25_000_000\n",
    "num2 = 25000000\n",
    "print(num1)\n",
    "print(num2)"
   ]
  },
  {
   "cell_type": "code",
   "execution_count": 19,
   "id": "69296f5a",
   "metadata": {
    "scrolled": true
   },
   "outputs": [
    {
     "name": "stdout",
     "output_type": "stream",
     "text": [
      "175000.0\n",
      "inf\n"
     ]
    }
   ],
   "source": [
    "num = 1.75e5\n",
    "print(num)\n",
    "print(2e308)"
   ]
  },
  {
   "cell_type": "markdown",
   "id": "80eb9a3c",
   "metadata": {},
   "source": [
    "## Variable Name Rules\n",
    "The names you use when creating these labels need to follow a few rules:\n",
    "\n",
    "    1. Names can not start with a number.\n",
    "    2. There can be no spaces in the name, use _ instead.\n",
    "    3. Can't use any of these symbols :'\",<>/?|\\()!@#$%^&*~-+\n",
    "    4. Avoid using words that have special meaning in Python like \"list\" and \"str\"\n",
    "    + 5. It's considered best practice (PEP8) that names are lowercase.\n",
    "    + 6. Avoid using the characters 'l' (lowercase letter el), 'O' (uppercase letter oh), \n",
    "       or 'I' (uppercase letter eye) as single character variable names."
   ]
  },
  {
   "cell_type": "code",
   "execution_count": 23,
   "id": "fc974cd4",
   "metadata": {},
   "outputs": [
    {
     "name": "stdout",
     "output_type": "stream",
     "text": [
      "Enter your score: 15.75\n",
      "Your score is  16.75\n"
     ]
    }
   ],
   "source": [
    "myname = 'minoo'\n",
    "m = float(input('Enter your score: '))\n",
    "print('Your score is ',m+1)"
   ]
  },
  {
   "cell_type": "code",
   "execution_count": 20,
   "id": "12d69e6d",
   "metadata": {},
   "outputs": [
    {
     "name": "stdout",
     "output_type": "stream",
     "text": [
      "10.0\n"
     ]
    }
   ],
   "source": [
    "my_income = 100\n",
    "\n",
    "tax_rate = 0.1\n",
    "\n",
    "my_taxes = my_income*tax_rate\n",
    "print(my_taxes)"
   ]
  },
  {
   "cell_type": "markdown",
   "id": "682bfa1b",
   "metadata": {},
   "source": [
    "## Reassigning Variables"
   ]
  },
  {
   "cell_type": "markdown",
   "id": "05e73731",
   "metadata": {},
   "source": [
    "There's actually a shortcut for this. Python lets you add, subtract, multiply and divide numbers with reassignment using `+=`, `-=`, `*=`, and `/=`."
   ]
  },
  {
   "cell_type": "code",
   "execution_count": 21,
   "id": "67d1e4ed",
   "metadata": {},
   "outputs": [
    {
     "name": "stdout",
     "output_type": "stream",
     "text": [
      "10\n"
     ]
    }
   ],
   "source": [
    "a=0\n",
    "a += 10\n",
    "print(a)"
   ]
  },
  {
   "cell_type": "code",
   "execution_count": 34,
   "id": "fd74571d",
   "metadata": {},
   "outputs": [
    {
     "name": "stdout",
     "output_type": "stream",
     "text": [
      "20\n"
     ]
    }
   ],
   "source": [
    "a = 10\n",
    "#a=a+a \n",
    "a+=a\n",
    "print(a)"
   ]
  },
  {
   "cell_type": "code",
   "execution_count": 35,
   "id": "82d83ab3",
   "metadata": {},
   "outputs": [
    {
     "name": "stdout",
     "output_type": "stream",
     "text": [
      "40\n"
     ]
    }
   ],
   "source": [
    "a *= 2\n",
    "print(a)"
   ]
  },
  {
   "cell_type": "markdown",
   "id": "0b6b91d5",
   "metadata": {},
   "source": [
    "## Determining variable type\n",
    "You can check what type of object is assigned to a variable using Python's built-in `type()` function. Common data types include:\n",
    "* **int** (for integer)\n",
    "* **float**\n",
    "* **str** (for string)\n",
    "* **list**\n",
    "* **tuple**\n",
    "* **dict** (for dictionary)\n",
    "* **set**\n",
    "* **bool** (for Boolean True/False)"
   ]
  },
  {
   "cell_type": "code",
   "execution_count": 24,
   "id": "44a46caf",
   "metadata": {},
   "outputs": [
    {
     "name": "stdout",
     "output_type": "stream",
     "text": [
      "<class 'int'>\n"
     ]
    }
   ],
   "source": [
    "print(type(a))"
   ]
  },
  {
   "cell_type": "code",
   "execution_count": 25,
   "id": "754afe90",
   "metadata": {},
   "outputs": [
    {
     "name": "stdout",
     "output_type": "stream",
     "text": [
      "<class 'bool'>\n",
      "True\n",
      "False\n"
     ]
    }
   ],
   "source": [
    "#Boolean\n",
    "t, f = True, False\n",
    "print(type(t))\n",
    "print(t)\n",
    "print(f)"
   ]
  },
  {
   "cell_type": "code",
   "execution_count": 37,
   "id": "381b95f2",
   "metadata": {},
   "outputs": [
    {
     "name": "stdout",
     "output_type": "stream",
     "text": [
      "Enter first number: 20\n",
      "Enter second number: 30\n",
      "20 30\n",
      "30 20\n"
     ]
    }
   ],
   "source": [
    "num1=int(input('Enter first number: ')) #20\n",
    "num2 = int(input('Enter second number: ')) #30\n",
    "print(num1,num2)\n",
    "#temp = num1\n",
    "#num1 = num2\n",
    "#num2 = temp\n",
    "\n",
    "num1,num2=num2,num1\n",
    "print(num1,num2)"
   ]
  },
  {
   "cell_type": "code",
   "execution_count": 26,
   "id": "711a99af",
   "metadata": {},
   "outputs": [
    {
     "name": "stdout",
     "output_type": "stream",
     "text": [
      "12 7 33 23\n"
     ]
    }
   ],
   "source": [
    "#swapping\n",
    "data1 = 7 \n",
    "data2 = 12\n",
    "data3 = 23\n",
    "data4 = 33\n",
    "\n",
    "data1, data2, data3 , data4 = data2 , data1, data4, data3\n",
    "\n",
    "print(data1, data2, data3, data4)"
   ]
  },
  {
   "cell_type": "code",
   "execution_count": 27,
   "id": "5cffcc67",
   "metadata": {},
   "outputs": [
    {
     "name": "stdout",
     "output_type": "stream",
     "text": [
      "102\n"
     ]
    }
   ],
   "source": [
    "print(35+67)"
   ]
  },
  {
   "cell_type": "code",
   "execution_count": 28,
   "id": "54aac85d",
   "metadata": {},
   "outputs": [
    {
     "name": "stdout",
     "output_type": "stream",
     "text": [
      "3567\n"
     ]
    }
   ],
   "source": [
    "print(\"35\"+\"67\")"
   ]
  },
  {
   "cell_type": "code",
   "execution_count": 29,
   "id": "a6d8cd54",
   "metadata": {},
   "outputs": [
    {
     "ename": "TypeError",
     "evalue": "unsupported operand type(s) for +: 'int' and 'str'",
     "output_type": "error",
     "traceback": [
      "\u001b[1;31m---------------------------------------------------------------------------\u001b[0m",
      "\u001b[1;31mTypeError\u001b[0m                                 Traceback (most recent call last)",
      "Input \u001b[1;32mIn [29]\u001b[0m, in \u001b[0;36m<cell line: 1>\u001b[1;34m()\u001b[0m\n\u001b[1;32m----> 1\u001b[0m \u001b[38;5;28mprint\u001b[39m(\u001b[38;5;241;43m1\u001b[39;49m\u001b[38;5;241;43m+\u001b[39;49m\u001b[38;5;124;43m'\u001b[39;49m\u001b[38;5;124;43m2\u001b[39;49m\u001b[38;5;124;43m'\u001b[39;49m)\n",
      "\u001b[1;31mTypeError\u001b[0m: unsupported operand type(s) for +: 'int' and 'str'"
     ]
    }
   ],
   "source": [
    "print(1+'2')"
   ]
  },
  {
   "cell_type": "markdown",
   "id": "207ba29f",
   "metadata": {},
   "source": [
    "## Some Important functions"
   ]
  },
  {
   "cell_type": "code",
   "execution_count": 30,
   "id": "24fa91a4",
   "metadata": {},
   "outputs": [
    {
     "name": "stdout",
     "output_type": "stream",
     "text": [
      "20\n",
      "hello world\n"
     ]
    }
   ],
   "source": [
    "print(a)\n",
    "print('hello world')"
   ]
  },
  {
   "cell_type": "code",
   "execution_count": 31,
   "id": "c2a14349",
   "metadata": {},
   "outputs": [
    {
     "name": "stdout",
     "output_type": "stream",
     "text": [
      "what you wrote was :  123\n"
     ]
    }
   ],
   "source": [
    "a = input('write something ')\n",
    "print('what you wrote was : ',a)"
   ]
  },
  {
   "cell_type": "code",
   "execution_count": 32,
   "id": "b7d918a8",
   "metadata": {},
   "outputs": [
    {
     "name": "stdout",
     "output_type": "stream",
     "text": [
      "37.5\n"
     ]
    }
   ],
   "source": [
    "num1 = float(input('Enter a number '))\n",
    "num1*=3\n",
    "print(num1)"
   ]
  },
  {
   "cell_type": "markdown",
   "id": "56e2ef75",
   "metadata": {},
   "source": [
    "**Get two numbers from user one for base and one for power.**"
   ]
  },
  {
   "cell_type": "code",
   "execution_count": null,
   "id": "41854a2f",
   "metadata": {
    "scrolled": true
   },
   "outputs": [],
   "source": [
    "a= int(input('enter base number: '))\n",
    "b = int(input('enter base number: '))\n"
   ]
  },
  {
   "cell_type": "markdown",
   "id": "cb214e93",
   "metadata": {},
   "source": [
    "## Comments in python code"
   ]
  },
  {
   "cell_type": "code",
   "execution_count": 52,
   "id": "7aa920e9",
   "metadata": {},
   "outputs": [
    {
     "ename": "SyntaxError",
     "evalue": "invalid syntax (1576252560.py, line 13)",
     "output_type": "error",
     "traceback": [
      "\u001b[1;36m  Input \u001b[1;32mIn [52]\u001b[1;36m\u001b[0m\n\u001b[1;33m    but this is not a comment and gets error\u001b[0m\n\u001b[1;37m        ^\u001b[0m\n\u001b[1;31mSyntaxError\u001b[0m\u001b[1;31m:\u001b[0m invalid syntax\n"
     ]
    }
   ],
   "source": [
    "# This is a comment and won't be run\n",
    "\"\"\"\n",
    "    this is another comment known as summary\n",
    "    and it will be used to have multiple lines comments\n",
    "    it won't be run again\n",
    "    \"\"\"\n",
    "'''\n",
    "three single quotation is also used to indicate multiple\n",
    "line comments\n",
    "when you run the code they won't be executed.\n",
    "'''\n",
    "\n",
    "but this is not a comment and gets error"
   ]
  },
  {
   "cell_type": "markdown",
   "id": "06dc792c",
   "metadata": {},
   "source": [
    "In Python, errors can be broadly categorized into three main types: syntax errors, runtime errors, and logical errors.\n",
    "\n",
    "1. Syntax Errors:\n",
    "Syntax errors occur when the code is not written according to the syntax rules of the Python language. These errors are detected by the Python interpreter during the parsing of the code. Common syntax errors include missing colons, incorrect indentation, misspelled keywords, and missing parentheses.\n"
   ]
  },
  {
   "cell_type": "code",
   "execution_count": 25,
   "id": "c93494d7",
   "metadata": {},
   "outputs": [
    {
     "ename": "SyntaxError",
     "evalue": "unterminated string literal (detected at line 2) (1857184325.py, line 2)",
     "output_type": "error",
     "traceback": [
      "\u001b[1;36m  Cell \u001b[1;32mIn [25], line 2\u001b[1;36m\u001b[0m\n\u001b[1;33m    a= 'name\u001b[0m\n\u001b[1;37m       ^\u001b[0m\n\u001b[1;31mSyntaxError\u001b[0m\u001b[1;31m:\u001b[0m unterminated string literal (detected at line 2)\n"
     ]
    }
   ],
   "source": [
    "#print(\"x is 5\"\n",
    "a= 'name\n"
   ]
  },
  {
   "cell_type": "markdown",
   "id": "a41c76b5",
   "metadata": {},
   "source": [
    "2. Runtime Errors:\n",
    "Runtime errors, also known as exceptions, occur during the execution of the program. These errors are not detected by the Python interpreter until the code is actually running. Common runtime errors include division by zero, accessing an index out of range, and trying to use a variable that has not been defined.\n",
    "\n"
   ]
  },
  {
   "cell_type": "code",
   "execution_count": 3,
   "id": "a9749898",
   "metadata": {},
   "outputs": [
    {
     "ename": "ZeroDivisionError",
     "evalue": "division by zero",
     "output_type": "error",
     "traceback": [
      "\u001b[1;31m---------------------------------------------------------------------------\u001b[0m",
      "\u001b[1;31mZeroDivisionError\u001b[0m                         Traceback (most recent call last)",
      "Input \u001b[1;32mIn [3]\u001b[0m, in \u001b[0;36m<cell line: 3>\u001b[1;34m()\u001b[0m\n\u001b[0;32m      1\u001b[0m x \u001b[38;5;241m=\u001b[39m \u001b[38;5;241m5\u001b[39m\n\u001b[0;32m      2\u001b[0m y \u001b[38;5;241m=\u001b[39m \u001b[38;5;241m0\u001b[39m\n\u001b[1;32m----> 3\u001b[0m result \u001b[38;5;241m=\u001b[39m \u001b[43mx\u001b[49m\u001b[43m \u001b[49m\u001b[38;5;241;43m/\u001b[39;49m\u001b[43m \u001b[49m\u001b[43my\u001b[49m\n\u001b[0;32m      4\u001b[0m \u001b[38;5;28mprint\u001b[39m(result)\n",
      "\u001b[1;31mZeroDivisionError\u001b[0m: division by zero"
     ]
    }
   ],
   "source": [
    "x = 5\n",
    "y = 0\n",
    "result = x / y\n",
    "print(result)"
   ]
  },
  {
   "cell_type": "markdown",
   "id": "e4f1efab",
   "metadata": {},
   "source": [
    "3. Logical Errors:\n",
    "Logical errors occur when the code runs without any syntax or runtime errors, but produces incorrect results due to a mistake in the logic of the program. These errors are the most difficult to detect and fix because they do not cause the program to crash or throw an error.\n"
   ]
  },
  {
   "cell_type": "code",
   "execution_count": 26,
   "id": "fcfa0cec",
   "metadata": {},
   "outputs": [
    {
     "name": "stdout",
     "output_type": "stream",
     "text": [
      "125.0\n"
     ]
    }
   ],
   "source": [
    "average = (123+125+127)/3\n",
    "print(average)"
   ]
  },
  {
   "cell_type": "markdown",
   "id": "006fae57",
   "metadata": {},
   "source": [
    "## Space and blocks in python code\n",
    "In Python, blocks of code are defined by indentation. A block of code is a group of statements that are executed together as a single unit. <br>\n",
    "Blocks are used to define loops, conditional statements, function definitions, and other structures in Python. <br>\n",
    "The beginning and end of a block are determined by the level of indentation. All statements within the same block must have the same level of indentation. "
   ]
  },
  {
   "cell_type": "code",
   "execution_count": 28,
   "id": "22ba3b05",
   "metadata": {},
   "outputs": [
    {
     "ename": "SyntaxError",
     "evalue": "invalid syntax (1134630102.py, line 1)",
     "output_type": "error",
     "traceback": [
      "\u001b[1;36m  Cell \u001b[1;32mIn [28], line 1\u001b[1;36m\u001b[0m\n\u001b[1;33m    print('first')  print('second')\u001b[0m\n\u001b[1;37m                    ^\u001b[0m\n\u001b[1;31mSyntaxError\u001b[0m\u001b[1;31m:\u001b[0m invalid syntax\n"
     ]
    }
   ],
   "source": [
    "print('first')  print('second')"
   ]
  },
  {
   "cell_type": "code",
   "execution_count": 31,
   "id": "6fdecdb9",
   "metadata": {},
   "outputs": [
    {
     "ename": "IndentationError",
     "evalue": "unexpected indent (174960967.py, line 6)",
     "output_type": "error",
     "traceback": [
      "\u001b[1;36m  Cell \u001b[1;32mIn [31], line 6\u001b[1;36m\u001b[0m\n\u001b[1;33m    print('second')\u001b[0m\n\u001b[1;37m    ^\u001b[0m\n\u001b[1;31mIndentationError\u001b[0m\u001b[1;31m:\u001b[0m unexpected indent\n"
     ]
    }
   ],
   "source": [
    "print('first')\n",
    "\n",
    "\n",
    "\n",
    "\n",
    "            print('second')"
   ]
  },
  {
   "cell_type": "code",
   "execution_count": 55,
   "id": "3c0c5931",
   "metadata": {},
   "outputs": [
    {
     "name": "stdout",
     "output_type": "stream",
     "text": [
      "first\n",
      "second\n"
     ]
    }
   ],
   "source": [
    "print('first') \n",
    "print('second')"
   ]
  },
  {
   "cell_type": "markdown",
   "id": "68fcd157",
   "metadata": {},
   "source": [
    "## Import module or libraries"
   ]
  },
  {
   "cell_type": "code",
   "execution_count": 56,
   "id": "8a5f3893",
   "metadata": {},
   "outputs": [
    {
     "name": "stdout",
     "output_type": "stream",
     "text": [
      "4.0\n",
      "3.141592653589793\n"
     ]
    }
   ],
   "source": [
    "import math \n",
    "print(math.sqrt(16))\n",
    "print(math.pi)"
   ]
  },
  {
   "cell_type": "code",
   "execution_count": 47,
   "id": "81accb00",
   "metadata": {},
   "outputs": [
    {
     "name": "stdout",
     "output_type": "stream",
     "text": [
      "0.7676345320762006\n"
     ]
    }
   ],
   "source": [
    "import random as r\n",
    "print(r.random())"
   ]
  },
  {
   "cell_type": "code",
   "execution_count": 50,
   "id": "a9952d5d",
   "metadata": {},
   "outputs": [
    {
     "name": "stdout",
     "output_type": "stream",
     "text": [
      "10\n"
     ]
    }
   ],
   "source": [
    "from random import randint, randrange\n",
    "#from random import *\n",
    "print(randint(0,10))"
   ]
  },
  {
   "cell_type": "markdown",
   "id": "fb5f4546",
   "metadata": {},
   "source": [
    "**Get radius of circle from user and calculate area and perimeter**"
   ]
  },
  {
   "cell_type": "code",
   "execution_count": null,
   "id": "28c0c8da",
   "metadata": {},
   "outputs": [],
   "source": []
  },
  {
   "cell_type": "markdown",
   "id": "cd988ab2",
   "metadata": {},
   "source": [
    "## Project"
   ]
  },
  {
   "cell_type": "code",
   "execution_count": 7,
   "id": "3a6ccc20",
   "metadata": {},
   "outputs": [
    {
     "name": "stdout",
     "output_type": "stream",
     "text": [
      "🧮 Welcome to the restaurant bill Calculator! 🧮\n",
      "What was the total bill? $2000\n",
      "What percentage tip would you like to give? 10, 12, or 15? 10\n",
      "How many people to split the bill? 5\n",
      "🧮 Each person should pay:  440.0\n"
     ]
    }
   ],
   "source": []
  },
  {
   "cell_type": "markdown",
   "id": "0da3fc52",
   "metadata": {},
   "source": [
    "## Built-in Functions"
   ]
  },
  {
   "cell_type": "code",
   "execution_count": 1,
   "id": "94a47516",
   "metadata": {},
   "outputs": [
    {
     "name": "stdout",
     "output_type": "stream",
     "text": [
      "Enter a number: 12.356879331\n",
      "12.356879331 rounded to 2 decimal places is 12.36\n"
     ]
    }
   ],
   "source": [
    "user_input = input(\"Enter a number: \")\n",
    "num = float(user_input)\n",
    "print(f\"{num} rounded to 2 decimal places is {round(num, 2)}\")"
   ]
  },
  {
   "cell_type": "code",
   "execution_count": 3,
   "id": "931712b0",
   "metadata": {},
   "outputs": [
    {
     "name": "stdout",
     "output_type": "stream",
     "text": [
      "Enter a number: -1\n",
      "The absolute value of -1.0 is 1.0\n"
     ]
    }
   ],
   "source": [
    "user_input = input(\"Enter a number: \")\n",
    "num = float(user_input)\n",
    "print(f\"The absolute value of {num} is {abs(num)}\")"
   ]
  },
  {
   "cell_type": "code",
   "execution_count": 4,
   "id": "f64bd3ee",
   "metadata": {},
   "outputs": [
    {
     "name": "stdout",
     "output_type": "stream",
     "text": [
      "Enter a number: 12.5\n",
      "Enter another number: 13.5\n",
      "The difference between 12.5 and 13.5 is an integer? True!\n"
     ]
    }
   ],
   "source": [
    "num1 = float(input(\"Enter a number: \"))\n",
    "num2 = float(input(\"Enter another number: \"))\n",
    "print(f\"The difference between {num1} and {num2} is an integer? \"\n",
    "    f\"{(num1 - num2).is_integer()}!\")"
   ]
  },
  {
   "cell_type": "code",
   "execution_count": 5,
   "id": "1a08da12",
   "metadata": {},
   "outputs": [
    {
     "name": "stdout",
     "output_type": "stream",
     "text": [
      "False\n"
     ]
    }
   ],
   "source": [
    "print(isinstance(\"5.5\",float)) #5,int"
   ]
  },
  {
   "cell_type": "code",
   "execution_count": 38,
   "id": "b6ffb7b2",
   "metadata": {},
   "outputs": [
    {
     "name": "stdout",
     "output_type": "stream",
     "text": [
      "64\n"
     ]
    }
   ],
   "source": [
    "print(pow(4, 3))"
   ]
  },
  {
   "cell_type": "code",
   "execution_count": 6,
   "id": "b59422b7",
   "metadata": {},
   "outputs": [
    {
     "name": "stdout",
     "output_type": "stream",
     "text": [
      "0o214\n"
     ]
    }
   ],
   "source": [
    "print(oct(140))"
   ]
  },
  {
   "cell_type": "code",
   "execution_count": 8,
   "id": "6e13fa6b",
   "metadata": {},
   "outputs": [
    {
     "name": "stdout",
     "output_type": "stream",
     "text": [
      "0x86\n"
     ]
    }
   ],
   "source": [
    "print(hex(134))"
   ]
  },
  {
   "cell_type": "code",
   "execution_count": 41,
   "id": "7920e6cf",
   "metadata": {},
   "outputs": [
    {
     "name": "stdout",
     "output_type": "stream",
     "text": [
      "0b100100\n"
     ]
    }
   ],
   "source": [
    "print(bin(36))"
   ]
  },
  {
   "cell_type": "code",
   "execution_count": 42,
   "id": "7b1b8353",
   "metadata": {},
   "outputs": [
    {
     "name": "stdout",
     "output_type": "stream",
     "text": [
      "Help on built-in function hex in module builtins:\n",
      "\n",
      "hex(number, /)\n",
      "    Return the hexadecimal representation of an integer.\n",
      "    \n",
      "    >>> hex(12648430)\n",
      "    '0xc0ffee'\n",
      "\n",
      "None\n"
     ]
    }
   ],
   "source": [
    "print(help(hex))"
   ]
  },
  {
   "cell_type": "code",
   "execution_count": 43,
   "id": "54484ac5",
   "metadata": {},
   "outputs": [
    {
     "name": "stdout",
     "output_type": "stream",
     "text": [
      "c\n"
     ]
    }
   ],
   "source": [
    "print(chr(99)) #Convert back to unicode"
   ]
  },
  {
   "cell_type": "code",
   "execution_count": 44,
   "id": "b1763dbb",
   "metadata": {},
   "outputs": [
    {
     "name": "stdout",
     "output_type": "stream",
     "text": [
      "(3, 1)\n"
     ]
    }
   ],
   "source": [
    "print(divmod(10, 3)) # returns the quotient  and the remainder"
   ]
  },
  {
   "cell_type": "markdown",
   "id": "45539fde",
   "metadata": {},
   "source": [
    "### minoosayyadpour3@gmail.com"
   ]
  }
 ],
 "metadata": {
  "kernelspec": {
   "display_name": "Python 3 (ipykernel)",
   "language": "python",
   "name": "python3"
  },
  "language_info": {
   "codemirror_mode": {
    "name": "ipython",
    "version": 3
   },
   "file_extension": ".py",
   "mimetype": "text/x-python",
   "name": "python",
   "nbconvert_exporter": "python",
   "pygments_lexer": "ipython3",
   "version": "3.10.6"
  }
 },
 "nbformat": 4,
 "nbformat_minor": 5
}
