{
 "cells": [
  {
   "cell_type": "code",
   "execution_count": 1,
   "metadata": {},
   "outputs": [
    {
     "name": "stdout",
     "output_type": "stream",
     "text": [
      "1719825442.962023\n"
     ]
    }
   ],
   "source": [
    "import time\n",
    "ticks = time.time()\n",
    "print(ticks)\n"
   ]
  },
  {
   "cell_type": "code",
   "execution_count": 2,
   "metadata": {},
   "outputs": [
    {
     "name": "stdout",
     "output_type": "stream",
     "text": [
      "time.struct_time(tm_year=2024, tm_mon=7, tm_mday=1, tm_hour=13, tm_min=47, tm_sec=22, tm_wday=0, tm_yday=183, tm_isdst=1)\n"
     ]
    }
   ],
   "source": [
    "print(time.localtime())\n"
   ]
  },
  {
   "cell_type": "code",
   "execution_count": 3,
   "metadata": {},
   "outputs": [
    {
     "name": "stdout",
     "output_type": "stream",
     "text": [
      "Mon Jul  1 13:47:23 2024\n"
     ]
    }
   ],
   "source": [
    "print(time.asctime(time.localtime()))"
   ]
  },
  {
   "cell_type": "code",
   "execution_count": 4,
   "metadata": {},
   "outputs": [
    {
     "name": "stdout",
     "output_type": "stream",
     "text": [
      "1451545785.0\n",
      "Dec 31 2015 10:39:45\n"
     ]
    }
   ],
   "source": [
    "t = (2015,12,31,10,39,45,1,48,0)\n",
    "t = time.mktime(t)\n",
    "print(t)\n",
    "print(time.strftime('%b %d %Y %H:%M:%S',time.localtime(t)))"
   ]
  },
  {
   "cell_type": "markdown",
   "metadata": {},
   "source": [
    "for more click on [This](https://strftime.org/)"
   ]
  },
  {
   "cell_type": "code",
   "execution_count": 5,
   "metadata": {},
   "outputs": [
    {
     "name": "stdout",
     "output_type": "stream",
     "text": [
      "time.struct_time(tm_year=2015, tm_mon=10, tm_mday=2, tm_hour=0, tm_min=0, tm_sec=0, tm_wday=4, tm_yday=275, tm_isdst=-1)\n"
     ]
    }
   ],
   "source": [
    "print(time.strptime('10 2 2015','%m %d %Y'))"
   ]
  },
  {
   "cell_type": "markdown",
   "metadata": {},
   "source": [
    "# datetime module\n",
    "\n",
    "Python has the datetime module to help deal with timestamps in your code. Time values are represented with the time class. Times have attributes for hour, minute, second, and microsecond. They can also include time zone information. The arguments to initialize a time instance are optional, but the default of 0 is unlikely to be what you want.\n",
    "\n",
    "## time\n",
    "We can create a timestamp by specifying datetime.time(hour,minute,second,microsecond)"
   ]
  },
  {
   "cell_type": "code",
   "execution_count": 11,
   "metadata": {},
   "outputs": [
    {
     "name": "stdout",
     "output_type": "stream",
     "text": [
      "04:20:01\n",
      "hour  : 4\n",
      "minute: 20\n",
      "second: 1\n",
      "microsecond: 0\n"
     ]
    }
   ],
   "source": [
    "import datetime\n",
    "\n",
    "t = datetime.time(4, 20, 1)\n",
    "\n",
    "# Let's show the different components\n",
    "print(t)\n",
    "print('hour  :', t.hour)\n",
    "print('minute:', t.minute)\n",
    "print('second:', t.second)\n",
    "print('microsecond:', t.microsecond)"
   ]
  },
  {
   "cell_type": "markdown",
   "metadata": {},
   "source": [
    "Note: A time instance only holds values of time, and not a date associated with the time. \n",
    "\n",
    "We can also check the min and max values a time of day can have in the module:"
   ]
  },
  {
   "cell_type": "code",
   "execution_count": 7,
   "metadata": {},
   "outputs": [
    {
     "name": "stdout",
     "output_type": "stream",
     "text": [
      "Earliest  : 00:00:00\n",
      "Latest    : 23:59:59.999999\n",
      "Resolution: 0:00:00.000001\n"
     ]
    }
   ],
   "source": [
    "print('Earliest  :', datetime.time.min)\n",
    "print('Latest    :', datetime.time.max)\n",
    "print('Resolution:', datetime.time.resolution)"
   ]
  },
  {
   "cell_type": "markdown",
   "metadata": {},
   "source": [
    "The min and max class attributes reflect the valid range of times in a single day."
   ]
  },
  {
   "cell_type": "markdown",
   "metadata": {},
   "source": [
    "## Dates\n",
    "datetime (as you might suspect) also allows us to work with date timestamps. Calendar date values are represented with the date class. Instances have attributes for year, month, and day. It is easy to create a date representing today’s date using the today() class method."
   ]
  },
  {
   "cell_type": "code",
   "execution_count": 8,
   "metadata": {},
   "outputs": [
    {
     "name": "stdout",
     "output_type": "stream",
     "text": [
      "2024-07-01\n",
      "ctime: Mon Jul  1 00:00:00 2024\n",
      "tuple: time.struct_time(tm_year=2024, tm_mon=7, tm_mday=1, tm_hour=0, tm_min=0, tm_sec=0, tm_wday=0, tm_yday=183, tm_isdst=-1)\n",
      "ordinal: 739068\n",
      "Year : 2024\n",
      "Month: 7\n",
      "Day  : 1\n"
     ]
    }
   ],
   "source": [
    "today = datetime.date.today()\n",
    "print(today)\n",
    "print('ctime:', today.ctime())\n",
    "print('tuple:', today.timetuple())\n",
    "print('ordinal:', today.toordinal())\n",
    "print('Year :', today.year)\n",
    "print('Month:', today.month)\n",
    "print('Day  :', today.day)"
   ]
  },
  {
   "cell_type": "code",
   "execution_count": 12,
   "metadata": {},
   "outputs": [
    {
     "name": "stdout",
     "output_type": "stream",
     "text": [
      "Earliest  : 0001-01-01\n",
      "Latest    : 9999-12-31\n",
      "Resolution: 1 day, 0:00:00\n"
     ]
    }
   ],
   "source": [
    "print('Earliest  :', datetime.date.min)\n",
    "print('Latest    :', datetime.date.max)\n",
    "print('Resolution:', datetime.date.resolution)"
   ]
  },
  {
   "cell_type": "code",
   "execution_count": 9,
   "metadata": {},
   "outputs": [
    {
     "name": "stdout",
     "output_type": "stream",
     "text": [
      "Datetime from timestamp: 2029-10-25 19:47:48\n"
     ]
    }
   ],
   "source": [
    "from datetime import datetime\n",
    " \n",
    "# Getting Datetime from timestamp\n",
    "date_time = datetime.fromtimestamp(1887639468)\n",
    "print(\"Datetime from timestamp:\", date_time)\n"
   ]
  },
  {
   "cell_type": "markdown",
   "metadata": {},
   "source": [
    "As with time, the range of date values supported can be determined using the min and max attributes."
   ]
  },
  {
   "cell_type": "markdown",
   "metadata": {},
   "source": [
    "Another way to create new date instances uses the replace() method of an existing date. For example, you can change the year, leaving the day and month alone."
   ]
  },
  {
   "cell_type": "code",
   "execution_count": 13,
   "metadata": {},
   "outputs": [
    {
     "name": "stdout",
     "output_type": "stream",
     "text": [
      "d1: 2015-03-11\n",
      "d2: 1990-03-11\n"
     ]
    }
   ],
   "source": [
    "d1 = datetime.date(2015, 3, 11)\n",
    "print('d1:', d1)\n",
    "\n",
    "d2 = d1.replace(year=1990)\n",
    "print('d2:', d2)"
   ]
  },
  {
   "cell_type": "code",
   "execution_count": 14,
   "metadata": {},
   "outputs": [
    {
     "name": "stdout",
     "output_type": "stream",
     "text": [
      "year = 1999\n",
      "month = 12\n",
      "hour = 12\n",
      "minute = 12\n",
      "timestamp = 944988132.0\n"
     ]
    }
   ],
   "source": [
    "from datetime import datetime\n",
    " \n",
    "a = datetime(1999, 12, 12, 12, 12, 12)\n",
    " \n",
    "print(\"year =\", a.year)\n",
    "print(\"month =\", a.month)\n",
    "print(\"hour =\", a.hour)\n",
    "print(\"minute =\", a.minute)\n",
    "print(\"timestamp =\", a.timestamp())\n"
   ]
  },
  {
   "cell_type": "markdown",
   "metadata": {},
   "source": [
    "# Arithmetic\n",
    "We can perform arithmetic on date objects to check for time differences. For example:"
   ]
  },
  {
   "cell_type": "code",
   "execution_count": 15,
   "metadata": {},
   "outputs": [
    {
     "name": "stdout",
     "output_type": "stream",
     "text": [
      "2015-03-11\n"
     ]
    }
   ],
   "source": [
    "print(d1)"
   ]
  },
  {
   "cell_type": "code",
   "execution_count": 16,
   "metadata": {},
   "outputs": [
    {
     "name": "stdout",
     "output_type": "stream",
     "text": [
      "1990-03-11\n"
     ]
    }
   ],
   "source": [
    "print(d2)"
   ]
  },
  {
   "cell_type": "code",
   "execution_count": 17,
   "metadata": {},
   "outputs": [
    {
     "name": "stdout",
     "output_type": "stream",
     "text": [
      "9131 days, 0:00:00\n"
     ]
    }
   ],
   "source": [
    "print(d1-d2)"
   ]
  },
  {
   "cell_type": "markdown",
   "metadata": {},
   "source": [
    "This gives us the difference in days between the two dates. You can use the timedelta method to specify various units of times (days, minutes, hours, etc.)\n",
    "for more:  [this](https://docs.python.org/3/library/datetime.html)"
   ]
  }
 ],
 "metadata": {
  "kernelspec": {
   "display_name": "Python 3 (ipykernel)",
   "language": "python",
   "name": "python3"
  },
  "language_info": {
   "codemirror_mode": {
    "name": "ipython",
    "version": 3
   },
   "file_extension": ".py",
   "mimetype": "text/x-python",
   "name": "python",
   "nbconvert_exporter": "python",
   "pygments_lexer": "ipython3",
   "version": "3.10.6"
  }
 },
 "nbformat": 4,
 "nbformat_minor": 1
}
