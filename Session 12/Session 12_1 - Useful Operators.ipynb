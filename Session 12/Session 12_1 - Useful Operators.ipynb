{
 "cells": [
  {
   "cell_type": "markdown",
   "metadata": {},
   "source": [
    "# 🧰 Useful Python Operators and Patterns\n",
    "\n",
    "This notebook explores a selection of Python's most **practical built-in functions** and **programming patterns** that can simplify your code and improve readability. These tools are especially useful when working with collections, logical evaluations, and structured output.\n",
    "\n",
    "\n",
    "<div style=\"text-align: center;\">\n",
    "  <a href=\"https://colab.research.google.com/github/MinooSdpr/python-for-beginners/blob/main/Session%2012/Session%2012_1%20-%20Useful%20Operators.ipynb\">\n",
    "    <img src=\"https://colab.research.google.com/assets/colab-badge.svg\" alt=\"Open In Colab\" />\n",
    "  </a>\n",
    "  &nbsp;\n",
    "  <a href=\"https://github.com/MinooSdpr/python-for-beginners/blob/main/Session%2012/Session%2012_1%20-%20Useful%20Operators.ipynb\">\n",
    "    <img src=\"https://img.shields.io/badge/Open%20in-GitHub-24292e?logo=github&logoColor=white\" alt=\"Open In GitHub\" />\n",
    "  </a>\n",
    "</div>\n",
    "\n",
    "---\n",
    "\n",
    "## 📚 What You'll Learn\n",
    "\n",
    "1. **`enumerate()`**\n",
    "   Automatically get both index and value while looping.\n",
    "\n",
    "2. **`zip()`**\n",
    "   Combine multiple iterables (e.g., lists) element-wise into tuples.\n",
    "\n",
    "3. **Nested Loops with `enumerate()`**\n",
    "   Use double iteration to find unique index pairs that sum to a target number.\n",
    "\n",
    "4. **`all()` and `any()`**\n",
    "   Perform clean, readable checks across an entire list.\n",
    "\n",
    "5. **`random` Module**\n",
    "   Generate random test data for demo programs.\n",
    "\n",
    "---\n",
    "\n",
    "These features and patterns are used in real-world Python codebases to write cleaner, faster, and more Pythonic code. Let’s explore how they work together.\n"
   ]
  },
  {
   "cell_type": "markdown",
   "metadata": {},
   "source": [
    "## 🔢 `enumerate()`\n",
    "\n",
    "The `enumerate()` function in Python is used when you need **both the index and the value** while looping over an iterable like a list or string. It eliminates the need to manually maintain a counter variable.\n",
    "\n",
    "---\n",
    "\n",
    "### 🧠 Syntax\n",
    "\n",
    "```python\n",
    "enumerate(iterable, start=0)\n",
    "````\n",
    "\n",
    "* **iterable**: Any iterable object (e.g., list, string, tuple)\n",
    "* **start** *(optional)*: The starting index (default is `0`)\n",
    "\n",
    "---\n",
    "\n",
    "### ✅ Why Use `enumerate()`?\n",
    "\n",
    "* `enumerate()` gives you **index-value pairs** in a loop\n",
    "* Makes your code **more readable** and **less error-prone**\n",
    "* Supports custom start index\n"
   ]
  },
  {
   "cell_type": "code",
   "execution_count": 1,
   "metadata": {},
   "outputs": [
    {
     "name": "stdout",
     "output_type": "stream",
     "text": [
      "0 a\n",
      "1 b\n",
      "2 c\n"
     ]
    }
   ],
   "source": [
    "lst = ['a', 'b', 'c']\n",
    "\n",
    "for index, item in enumerate(lst):\n",
    "    print(index, item)"
   ]
  },
  {
   "cell_type": "code",
   "execution_count": 2,
   "metadata": {},
   "outputs": [
    {
     "name": "stdout",
     "output_type": "stream",
     "text": [
      "a\n",
      "b\n"
     ]
    }
   ],
   "source": [
    "for count,item in enumerate(lst):\n",
    "    if count >= 2:\n",
    "        break\n",
    "    else:\n",
    "        print(item)"
   ]
  },
  {
   "cell_type": "code",
   "execution_count": 3,
   "metadata": {},
   "outputs": [
    {
     "name": "stdout",
     "output_type": "stream",
     "text": [
      "At index 0 the letter is a\n",
      "At index 1 the letter is b\n",
      "At index 2 the letter is c\n",
      "At index 3 the letter is d\n",
      "At index 4 the letter is e\n"
     ]
    }
   ],
   "source": [
    "index = 0\n",
    "for letter in 'abcde':\n",
    "    print(f\"At index {index} the letter is {letter}\")\n",
    "    index += 1"
   ]
  },
  {
   "cell_type": "code",
   "execution_count": 7,
   "metadata": {},
   "outputs": [
    {
     "name": "stdout",
     "output_type": "stream",
     "text": [
      "[(0, 'a'), (1, 'b'), (2, 'c'), (3, 'd'), (4, 'e')]\n"
     ]
    }
   ],
   "source": [
    "a = list(enumerate('abcde'))\n",
    "print(a)"
   ]
  },
  {
   "cell_type": "code",
   "execution_count": 4,
   "metadata": {},
   "outputs": [
    {
     "name": "stdout",
     "output_type": "stream",
     "text": [
      "At index 0 the letter is a\n",
      "At index 1 the letter is b\n",
      "At index 2 the letter is c\n",
      "At index 3 the letter is d\n",
      "At index 4 the letter is e\n"
     ]
    }
   ],
   "source": [
    "for index, letter in enumerate('abcde'):\n",
    "    print(f\"At index {index} the letter is {letter}\")\n"
   ]
  },
  {
   "cell_type": "code",
   "execution_count": 5,
   "metadata": {},
   "outputs": [
    {
     "name": "stdout",
     "output_type": "stream",
     "text": [
      "[(3, 'March'), (4, 'April'), (5, 'May'), (6, 'June')]\n"
     ]
    }
   ],
   "source": [
    "months = ['March', 'April', 'May', 'June']\n",
    "print(list(enumerate(months, start=3)))"
   ]
  },
  {
   "cell_type": "code",
   "execution_count": 9,
   "metadata": {},
   "outputs": [
    {
     "name": "stdout",
     "output_type": "stream",
     "text": [
      "✅ Question 1: Correct\n",
      "❌ Question 2: Incorrect (Your answer: B, Correct answer: C)\n",
      "✅ Question 3: Correct\n",
      "✅ Question 4: Correct\n",
      "❌ Question 5: Incorrect (Your answer: C, Correct answer: A)\n"
     ]
    }
   ],
   "source": [
    "correct_answers = ['A', 'C', 'B', 'D', 'A']\n",
    "user_answers = ['A', 'B', 'B', 'D', 'C']\n",
    "\n",
    "for i, (correct, user) in enumerate(zip(correct_answers, user_answers), start=1):\n",
    "    if correct == user:\n",
    "        print(f\"✅ Question {i}: Correct\")\n",
    "    else:\n",
    "        print(f\"❌ Question {i}: Incorrect (Your answer: {user}, Correct answer: {correct})\")\n"
   ]
  },
  {
   "cell_type": "markdown",
   "metadata": {},
   "source": [
    "## 🔗 `zip()`\n",
    "\n",
    "The `zip()` function in Python allows you to **pair elements from two or more iterables** into tuples. It’s a concise and readable way to combine data in parallel.\n",
    "\n",
    "---\n",
    "\n",
    "### 🧠 Syntax\n",
    "\n",
    "```python\n",
    "zip(iterable1, iterable2, ...)\n",
    "````\n",
    "\n",
    "* Returns an iterator of tuples, where each tuple contains one element from each iterable.\n",
    "* Stops when the shortest iterable is exhausted.\n",
    "\n",
    "### 📏 What Happens If Lists Are Uneven?\n",
    "\n",
    "If the iterables are not the same length, `zip()` will stop at the **shortest** one.\n",
    "\n",
    "\n",
    "---\n",
    "\n",
    "### 🧑‍🏫  Why Use `zip()`?\n",
    "\n",
    "* Use `zip()` to iterate through multiple sequences **in parallel**\n",
    "* Returns **tuples** of matched elements\n",
    "* Stops at the **shortest** iterable\n",
    "* Combine with `enumerate()` for indexed, structured iteration\n",
    "\n",
    "It's perfect for processing paired data like quiz scoring, table formatting, or synchronizing datasets."
   ]
  },
  {
   "cell_type": "code",
   "execution_count": 10,
   "metadata": {},
   "outputs": [
    {
     "name": "stdout",
     "output_type": "stream",
     "text": [
      "Alice scored 85\n",
      "Bob scored 92\n",
      "Charlie scored 78\n"
     ]
    }
   ],
   "source": [
    "names = ['Alice', 'Bob', 'Charlie']\n",
    "scores = [85, 92, 78]\n",
    "\n",
    "for name, score in zip(names, scores):\n",
    "    print(f\"{name} scored {score}\")"
   ]
  },
  {
   "cell_type": "code",
   "execution_count": 11,
   "metadata": {},
   "outputs": [
    {
     "name": "stdout",
     "output_type": "stream",
     "text": [
      "[('Alice', 85), ('Bob', 92), ('Charlie', 78)]\n"
     ]
    }
   ],
   "source": [
    "paired = list(zip(names, scores))\n",
    "print(paired)"
   ]
  },
  {
   "cell_type": "code",
   "execution_count": 12,
   "metadata": {},
   "outputs": [
    {
     "name": "stdout",
     "output_type": "stream",
     "text": [
      "[(1, 4), (2, 5), (3, 6)]\n"
     ]
    }
   ],
   "source": [
    "x = [1,2,3]\n",
    "y = [4,5,6,7,8]\n",
    "\n",
    "# Zip the lists together\n",
    "print(list(zip(x,y)))"
   ]
  },
  {
   "cell_type": "code",
   "execution_count": 13,
   "metadata": {},
   "outputs": [
    {
     "name": "stdout",
     "output_type": "stream",
     "text": [
      "✅ Question 1: Your answer = A, Correct = A\n",
      "❌ Question 2: Your answer = C, Correct = B\n",
      "✅ Question 3: Your answer = B, Correct = B\n"
     ]
    }
   ],
   "source": [
    "questions = ['Q1', 'Q2', 'Q3']\n",
    "user_answers = ['A', 'C', 'B']\n",
    "correct_answers = ['A', 'B', 'B']\n",
    "\n",
    "for i, (user, correct) in enumerate(zip(user_answers, correct_answers), start=1):\n",
    "    status = '✅' if user == correct else '❌'\n",
    "    print(f\"{status} Question {i}: Your answer = {user}, Correct = {correct}\")"
   ]
  },
  {
   "cell_type": "code",
   "execution_count": 14,
   "metadata": {},
   "outputs": [
    {
     "name": "stdout",
     "output_type": "stream",
     "text": [
      "[('a', 'c'), ('b', 'd')]\n"
     ]
    }
   ],
   "source": [
    "d1 = {'a':1,'b':2}\n",
    "d2 = {'c':4,'d':5}\n",
    "\n",
    "a = list(zip(d1,d2))\n",
    "print(a)"
   ]
  },
  {
   "cell_type": "markdown",
   "metadata": {},
   "source": [
    "This makes sense because simply iterating through the dictionaries will result in just the keys. We would have to call methods to mix keys and values:"
   ]
  },
  {
   "cell_type": "code",
   "execution_count": 15,
   "metadata": {},
   "outputs": [
    {
     "name": "stdout",
     "output_type": "stream",
     "text": [
      "[('c', 1), ('d', 2)]\n"
     ]
    }
   ],
   "source": [
    "a = list(zip(d2.keys(),d1.values()))\n",
    "print(a)"
   ]
  },
  {
   "cell_type": "markdown",
   "metadata": {},
   "source": [
    "## ✅ Logical Evaluation with `all()` and `any()`\n",
    "\n",
    "Python provides two very useful built-in functions — `all()` and `any()` — that help you evaluate multiple conditions across an iterable (like a list) in a clean, readable way.\n",
    "\n",
    "---\n",
    "\n",
    "### 🧠 Syntax\n",
    "\n",
    "```python\n",
    "all(iterable)\n",
    "any(iterable)\n",
    "````\n",
    "\n",
    "| Function | Returns `True` If...                 | Common Use Case                         |\n",
    "| -------- | ------------------------------------ | --------------------------------------- |\n",
    "| `all()`  | **All** conditions are `True`        | Full validation (e.g. all inputs valid) |\n",
    "| `any()`  | **At least one** condition is `True` | Partial match (e.g. one success flag)   |\n",
    "\n",
    "The elements are usually the result of boolean expressions (e.g., comparisons like `x > 10`).\n",
    "These functions are powerful for **data validation**, **filtering**, and writing **concise conditionals**.\n",
    "\n",
    "---\n",
    "\n",
    "### 🔎 Use Cases\n",
    "\n",
    "* ✅ Checking if all inputs meet a requirement\n",
    "* 🔄 Validating form fields or data\n",
    "* 🔍 Detecting the presence of a specific type of item in a dataset\n",
    "* 🧪 Combining with list comprehensions for concise logic\n",
    "\n",
    "---"
   ]
  },
  {
   "cell_type": "code",
   "execution_count": 17,
   "metadata": {},
   "outputs": [
    {
     "name": "stdout",
     "output_type": "stream",
     "text": [
      "True\n",
      "True\n",
      "True\n"
     ]
    }
   ],
   "source": [
    "print(all([1, \"text\", True]))\n",
    "print(any([0, \"\", False, 5]))    \n",
    "print(all([]))          "
   ]
  },
  {
   "cell_type": "code",
   "execution_count": 19,
   "metadata": {},
   "outputs": [
    {
     "name": "stdout",
     "output_type": "stream",
     "text": [
      "⚠️ The student failed at least one subject.\n",
      "Subject 1: 85 → Pass\n",
      "Subject 2: 76 → Pass\n",
      "Subject 3: 49 → Pass\n",
      "Subject 4: 91 → Pass\n",
      "Subject 5: 37 → Fail\n"
     ]
    }
   ],
   "source": [
    "scores = [85, 76, 49, 91, 37] \n",
    "all_passed = all(score >= 40 for score in scores)\n",
    "any_failed = any(score < 40 for score in scores)\n",
    "\n",
    "if all_passed:\n",
    "    print(\"✅ The student passed all subjects.\")\n",
    "elif any_failed:\n",
    "    print(\"⚠️ The student failed at least one subject.\")\n",
    "\n",
    "for i, score in enumerate(scores, start=1):\n",
    "    status = \"Pass\" if score >= 40 else \"Fail\"\n",
    "    print(f\"Subject {i}: {score} → {status}\")\n"
   ]
  },
  {
   "cell_type": "markdown",
   "metadata": {},
   "source": [
    "## 🎲 Python `random` Module Guide\n",
    "\n",
    "The `random` module in Python provides functions to generate pseudo-random numbers, select random elements, shuffle data, and more. It’s widely used in simulations, games, testing, and anywhere you need randomness.\n",
    "\n",
    "| Function                | Description                         | Example           |\n",
    "| ----------------------- | ----------------------------------- | ----------------- |\n",
    "| `random.random()`       | Float between 0.0 and 1.0           | `0.374`           |\n",
    "| `random.randint(a, b)`  | Integer between a and b (inclusive) | `5`               |\n",
    "| `random.choice(seq)`    | Single random element from sequence | `'green'`         |\n",
    "| `random.sample(seq, k)` | k unique random elements            | `['blue', 'red']` |\n",
    "| `random.shuffle(list)`  | Shuffle list in-place               | `[3, 1, 4, 2]`    |\n",
    "| `random.seed(x)`        | Set seed for reproducibility        | —                 |\n",
    "\n",
    "\n",
    "#### `random.uniform(a, b)`\n",
    "\n",
    "Returns a random float between `a` and `b` (inclusive).\n",
    "\n",
    "```python\n",
    "print(random.uniform(1, 10))\n",
    "```\n",
    "\n",
    "#### `random.randrange(start, stop[, step])`\n",
    "\n",
    "Returns a randomly selected element from `range(start, stop, step)`.\n",
    "\n",
    "#### `random.choices(population, weights=None, k=1)`\n",
    "\n",
    "Returns a list of `k` elements chosen with replacement, optionally weighted.\n",
    "\n",
    "---\n",
    "\n",
    "### 🛠️ Utility Functions\n",
    "\n",
    "* `random.getrandbits(k)` — Returns an integer with `k` random bits.\n",
    "* `random.betavariate(alpha, beta)` — Beta distribution.\n",
    "* `random.gauss(mu, sigma)` — Gaussian distribution.\n",
    "\n",
    "Check the [official docs](https://docs.python.org/3/library/random.html) for more!\n"
   ]
  },
  {
   "cell_type": "code",
   "execution_count": 20,
   "metadata": {},
   "outputs": [],
   "source": [
    "import random"
   ]
  },
  {
   "cell_type": "code",
   "execution_count": 21,
   "metadata": {},
   "outputs": [],
   "source": [
    "from random import shuffle"
   ]
  },
  {
   "cell_type": "code",
   "execution_count": 23,
   "metadata": {},
   "outputs": [],
   "source": [
    "# This shuffles the list \"in-place\" meaning it won't return\n",
    "# anything, instead it will effect the list passed\n",
    "mylist = [100, 40, 20, 30, 10]\n",
    "shuffle(mylist)"
   ]
  },
  {
   "cell_type": "code",
   "execution_count": 24,
   "metadata": {},
   "outputs": [
    {
     "name": "stdout",
     "output_type": "stream",
     "text": [
      "[10, 100, 40, 20, 30]\n"
     ]
    }
   ],
   "source": [
    "print(mylist)"
   ]
  },
  {
   "cell_type": "code",
   "execution_count": 25,
   "metadata": {},
   "outputs": [],
   "source": [
    "from random import randint"
   ]
  },
  {
   "cell_type": "code",
   "execution_count": 26,
   "metadata": {},
   "outputs": [
    {
     "name": "stdout",
     "output_type": "stream",
     "text": [
      "6\n"
     ]
    }
   ],
   "source": [
    "print(randint(1,6))"
   ]
  },
  {
   "cell_type": "code",
   "execution_count": 27,
   "metadata": {},
   "outputs": [
    {
     "name": "stdout",
     "output_type": "stream",
     "text": [
      "0.8111124000695009\n"
     ]
    }
   ],
   "source": [
    "random_float = random.random()\n",
    "print(random_float)"
   ]
  },
  {
   "cell_type": "markdown",
   "metadata": {},
   "source": [
    "The range specified in random.randrange(start, stop) is inclusive of start and exclusive of stop.\n",
    "\n",
    "You can also specify a step value as the third argument, similar to the range() function."
   ]
  },
  {
   "cell_type": "code",
   "execution_count": 5,
   "metadata": {},
   "outputs": [
    {
     "name": "stdout",
     "output_type": "stream",
     "text": [
      "Give me everybody's names, separated by a comma. amir,ali,ahmad\n",
      "ali is going to buy ice cream next Session!\n"
     ]
    }
   ],
   "source": [
    "names_string = input(\"Give me everybody's names, separated by a comma. \")\n",
    "names = names_string.split(\",\")\n",
    "\n",
    "index = random.randrange(0, len(names))\n",
    "print(f'{names[index]} is going to buy ice cream next Session!')"
   ]
  },
  {
   "cell_type": "code",
   "execution_count": 28,
   "metadata": {},
   "outputs": [
    {
     "name": "stdout",
     "output_type": "stream",
     "text": [
      "6\n",
      "t\n"
     ]
    }
   ],
   "source": [
    "list1 = [1, 2, 3, 4, 5, 6]  \n",
    "print(random.choice(list1)) \n",
    "  \n",
    "string = \"striver\" \n",
    "print(random.choice(string))"
   ]
  },
  {
   "cell_type": "code",
   "execution_count": 29,
   "metadata": {},
   "outputs": [
    {
     "name": "stdout",
     "output_type": "stream",
     "text": [
      "3\n",
      "49276\n"
     ]
    }
   ],
   "source": [
    "# a random number with 4 bits\n",
    "print(random.getrandbits(4))\n",
    " \n",
    "# a random number with 16 bits\n",
    "print(random.getrandbits(16))"
   ]
  },
  {
   "cell_type": "code",
   "execution_count": 30,
   "metadata": {},
   "outputs": [
    {
     "name": "stdout",
     "output_type": "stream",
     "text": [
      "[3, 1, 2]\n"
     ]
    }
   ],
   "source": [
    "list1 = [1, 2, 3, 4, 5]  \n",
    "  \n",
    "print(random.sample(list1,3)) "
   ]
  },
  {
   "cell_type": "code",
   "execution_count": 10,
   "metadata": {},
   "outputs": [
    {
     "name": "stdout",
     "output_type": "stream",
     "text": [
      "['zard', 'ghermez', 'Abi', 'zard', 'Abi', 'Abi']\n"
     ]
    }
   ],
   "source": [
    "mylist = [\"Abi\", \"ghermez\", \"zard\"] \n",
    "  \n",
    "print(random.choices(mylist, weights = [10, 3, 4], k = 6)) "
   ]
  },
  {
   "cell_type": "code",
   "execution_count": 12,
   "metadata": {},
   "outputs": [
    {
     "name": "stdout",
     "output_type": "stream",
     "text": [
      "45.9353959475165\n"
     ]
    }
   ],
   "source": [
    "low = 10\n",
    "high = 100\n",
    "mode = 20\n",
    "  \n",
    "# using the triangular() method \n",
    "print(random.triangular(low, high, mode)) "
   ]
  },
  {
   "cell_type": "markdown",
   "metadata": {},
   "source": [
    "## 📝 Quiz\n",
    "\n",
    "\n",
    "- 1️⃣ Find pairs of elements in a list whose sum equals a target value.\n",
    "\n",
    "Given a list `nums` and a target sum `target_number`, which approach correctly finds all pairs `(i, j)` equals to `target_number`?\n",
    "\n",
    "---\n",
    "\n",
    "- 2️⃣ A n-line pyramid of stars increasing from 1 to n stars per line\n",
    "* B) A square of stars of size nxn\n",
    "\n",
    "----\n",
    "\n",
    "- 3️⃣ Write a program that takes a list of integers as input and determines whether all the numbers in the list are greater than 10 and whether any of the numbers are even. Use the all() and any() functions to implement this efficiently."
   ]
  },
  {
   "cell_type": "markdown",
   "metadata": {},
   "source": [
    "<div style=\"float:right;\">\n",
    "  <a href=\"https://github.com/MinooSdpr/python-for-beginners/blob/main/Session%2008/Session%2008_1%20-%20Sets%20and%20Booleans.ipynb\"\n",
    "     style=\"\n",
    "       display:inline-block;\n",
    "       padding:8px 20px;\n",
    "       background-color:#414f6f;\n",
    "       color:white;\n",
    "       border-radius:12px;\n",
    "       text-decoration:none;\n",
    "       font-family:sans-serif;\n",
    "       transition:background-color 0.3s ease;\n",
    "     \"\n",
    "     onmouseover=\"this.style.backgroundColor='#2f3a52';\"\n",
    "     onmouseout=\"this.style.backgroundColor='#414f6f';\">\n",
    "    ▶️ Next\n",
    "  </a>\n",
    "</div>"
   ]
  }
 ],
 "metadata": {
  "kernelspec": {
   "display_name": "Python [conda env:base] *",
   "language": "python",
   "name": "conda-base-py"
  },
  "language_info": {
   "codemirror_mode": {
    "name": "ipython",
    "version": 3
   },
   "file_extension": ".py",
   "mimetype": "text/x-python",
   "name": "python",
   "nbconvert_exporter": "python",
   "pygments_lexer": "ipython3",
   "version": "3.12.7"
  }
 },
 "nbformat": 4,
 "nbformat_minor": 4
}
