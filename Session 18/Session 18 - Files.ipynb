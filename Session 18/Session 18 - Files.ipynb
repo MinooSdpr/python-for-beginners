{
 "cells": [
  {
   "cell_type": "markdown",
   "metadata": {},
   "source": [
    "# Files in Python\n",
    "\n",
    "\n",
    "Python has a built-in `open()` function that allows us to open and work with files. Files are essential for storing and retrieving data outside of your program.\n",
    "\n",
    "<div style=\"text-align: center;\">\n",
    "  <a href=\"https://colab.research.google.com/github/MinooSdpr/python-for-beginners/blob/main/Session%2016%20-%20Recursive%20function.ipynb\">\n",
    "    <img src=\"https://colab.research.google.com/assets/colab-badge.svg\" alt=\"Open In Colab\" />\n",
    "  </a>\n",
    "  &nbsp;\n",
    "  <a href=\"https://github.com/MinooSdpr/python-for-beginners/blob/main/Session%2016%20-%20Recursive%20function.ipynb\">\n",
    "    <img src=\"https://img.shields.io/badge/Open%20in-GitHub-24292e?logo=github&logoColor=white\" alt=\"Open In GitHub\" />\n",
    "  </a>\n",
    "</div>\n",
    "\n",
    "---\n",
    "\n",
    "## Opening Files\n",
    "\n",
    "To open a file, use:\n",
    "\n",
    "```python\n",
    "file_object = open(file_name, mode)\n",
    "```\n",
    "\n",
    "### Common Modes:\n",
    "\n",
    "| Mode  | Description                                                         |\n",
    "| ----- | ------------------------------------------------------------------- |\n",
    "| `'r'` | Read mode (default) – opens a file for reading                      |\n",
    "| `'w'` | Write mode – creates a new file or overwrites an existing file      |\n",
    "| `'a'` | Append mode – adds data to the end of the file                      |\n",
    "| `'x'` | Create mode – creates a new file, errors if file exists             |\n",
    "| `'b'` | Binary mode – used with other modes for binary files (e.g., `'rb'`) |\n",
    "\n",
    "---\n",
    "\n",
    "## Example: Opening a File for Reading\n"
   ]
  },
  {
   "cell_type": "code",
   "execution_count": 1,
   "metadata": {},
   "outputs": [
    {
     "name": "stdout",
     "output_type": "stream",
     "text": [
      "First line.\n",
      "Second line.\n",
      "Third line.\n",
      "This is a new line\n",
      "This line is appended.\n",
      "Second line.\n",
      "Third line.\n",
      "\n"
     ]
    }
   ],
   "source": [
    "myfile = open('test.txt', 'r')\n",
    "print(myfile.read())\n",
    "myfile.close()"
   ]
  },
  {
   "cell_type": "markdown",
   "metadata": {},
   "source": [
    "### File Paths\n",
    "\n",
    "If your file is not in the current directory, you can provide the full path.\n",
    "\n",
    "* **Windows**: Use double backslashes `\\\\` to avoid escape characters.\n",
    "\n",
    "```python\n",
    "myfile = open(\"C:\\\\Users\\\\YourUserName\\\\Documents\\\\myfile.txt\")\n",
    "```\n",
    "\n",
    "* **macOS/Linux**: Use forward slashes `/`.\n",
    "\n",
    "```python\n",
    "myfile = open(\"/Users/YourUserName/Documents/myfile.txt\")\n",
    "```\n",
    "\n",
    "---\n",
    "\n",
    "## Reading Files\n",
    "\n",
    "Reading the file moves the \"cursor\" to the end, so if you try to read again, it returns nothing:\n",
    "\n",
    "You can reset the cursor to the beginning with `.seek(0)`:"
   ]
  },
  {
   "cell_type": "code",
   "execution_count": 2,
   "metadata": {},
   "outputs": [
    {
     "name": "stdout",
     "output_type": "stream",
     "text": [
      "First line.\n",
      "Second line.\n",
      "Third line.\n",
      "This is a new line\n",
      "This line is appended.\n",
      "Second line.\n",
      "Third line.\n",
      "\n",
      "\n"
     ]
    }
   ],
   "source": [
    "myfile = open('test.txt', 'r')\n",
    "print(myfile.read())\n",
    "print(myfile.read())\n",
    "myfile.close()"
   ]
  },
  {
   "cell_type": "code",
   "execution_count": 3,
   "metadata": {},
   "outputs": [
    {
     "name": "stdout",
     "output_type": "stream",
     "text": [
      "First line.\n",
      "Second line.\n",
      "Third line.\n",
      "This is a new line\n",
      "This line is appended.\n",
      "Second line.\n",
      "Third line.\n",
      "\n",
      "First line.\n",
      "Second line.\n",
      "Third line.\n",
      "This is a new line\n",
      "This line is appended.\n",
      "Second line.\n",
      "Third line.\n",
      "\n"
     ]
    }
   ],
   "source": [
    "myfile = open('test.txt', 'r')\n",
    "print(myfile.read())\n",
    "myfile.seek(0)\n",
    "print(myfile.read()) \n",
    "myfile.close()"
   ]
  },
  {
   "cell_type": "markdown",
   "metadata": {},
   "source": [
    "## Reading Files Line by Line\n",
    "\n",
    "You can read files line by line using `.readlines()`, which returns a list of lines:\n"
   ]
  },
  {
   "cell_type": "code",
   "execution_count": 4,
   "metadata": {},
   "outputs": [
    {
     "name": "stdout",
     "output_type": "stream",
     "text": [
      "First line.\n",
      "\n",
      "Sec\n",
      "16\n"
     ]
    }
   ],
   "source": [
    "file = open('test.txt', 'r')\n",
    "#print(file.readline(2))\n",
    "print(file.readline())\n",
    "print(file.readline(3))\n",
    "print(file.tell())\n",
    "file.close()"
   ]
  },
  {
   "cell_type": "code",
   "execution_count": 5,
   "metadata": {},
   "outputs": [
    {
     "name": "stdout",
     "output_type": "stream",
     "text": [
      "['First line.\\n', 'Second line.\\n', 'Third line.\\n', 'This is a new line\\n', 'This line is appended.\\n', 'Second line.\\n', 'Third line.\\n']\n"
     ]
    }
   ],
   "source": [
    "myfile = open('test.txt', 'r')\n",
    "lines = myfile.readlines()\n",
    "print(lines)\n",
    "myfile.close()"
   ]
  },
  {
   "cell_type": "markdown",
   "metadata": {},
   "source": [
    "**Warning:** Be careful with very large files as `.readlines()` loads the entire file into memory.\n",
    "\n",
    "---\n",
    "\n",
    "## Writing to Files\n",
    "\n",
    "By default, `open()` only reads files. To write to a file, open it in write mode `'w'` or write+read mode `'w+'`.\n",
    "\n",
    "\n"
   ]
  },
  {
   "cell_type": "code",
   "execution_count": 6,
   "metadata": {},
   "outputs": [
    {
     "name": "stdout",
     "output_type": "stream",
     "text": [
      "First line.\n",
      "Second line.\n",
      "Third line.\n",
      "This is a new line\n",
      "\n"
     ]
    }
   ],
   "source": [
    "my_file = open('test.txt', 'w+')\n",
    "lines = ['First line.\\n', 'Second line.\\n', 'Third line.\\n']\n",
    "my_file.writelines(lines)\n",
    "my_file.write('This is a new line\\n')\n",
    "my_file.seek(0)\n",
    "print(my_file.read())\n",
    "my_file.close()"
   ]
  },
  {
   "cell_type": "markdown",
   "metadata": {},
   "source": [
    "> **Warning:** Opening a file with `'w'` or `'w+'` truncates the file (clears existing content).\n",
    "\n",
    "---\n",
    "\n",
    "## Appending to Files\n",
    "\n",
    "To add new content without deleting the original, use append mode `'a'` or `'a+'`:"
   ]
  },
  {
   "cell_type": "code",
   "execution_count": 7,
   "metadata": {},
   "outputs": [
    {
     "name": "stdout",
     "output_type": "stream",
     "text": [
      "First line.\n",
      "Second line.\n",
      "Third line.\n",
      "This is a new line\n",
      "This line is appended.\n",
      "\n"
     ]
    }
   ],
   "source": [
    "my_file = open('test.txt', 'a+')\n",
    "my_file.write('This line is appended.\\n')\n",
    "my_file.seek(0)\n",
    "print(my_file.read())\n",
    "my_file.close()"
   ]
  },
  {
   "cell_type": "markdown",
   "metadata": {},
   "source": [
    "| Mode | File Must Exist? | Truncates File? | File Pointer Starts     | Can Read? | Can Write? |\n",
    "| ---- | ---------------- | --------------- | ----------------------- | --------- | ---------- |\n",
    "| `r+` | ✅ Yes            | ❌ No            | Beginning               | ✅ Yes     | ✅ Yes      |\n",
    "| `w+` | ❌ No             | ✅ Yes           | Beginning (empty)       | ✅ Yes     | ✅ Yes      |\n",
    "| `a+` | ❌ No             | ❌ No            | End (need seek to read) | ✅ Yes     | ✅ Yes      |\n"
   ]
  },
  {
   "cell_type": "markdown",
   "metadata": {},
   "source": [
    "## Reading a File Line by Line in a Loop\n",
    "\n",
    "You can iterate over a file object directly:"
   ]
  },
  {
   "cell_type": "code",
   "execution_count": 8,
   "metadata": {},
   "outputs": [
    {
     "name": "stdout",
     "output_type": "stream",
     "text": [
      "First line.\n",
      "Second line.\n",
      "Third line.\n",
      "This is a new line\n",
      "This line is appended.\n"
     ]
    }
   ],
   "source": [
    "with open('test.txt', 'r') as f:\n",
    "    for line in f:\n",
    "        print(line, end='') "
   ]
  },
  {
   "cell_type": "markdown",
   "metadata": {},
   "source": [
    "## Using `with` Statement (Recommended)\n",
    "\n",
    "The `with` statement handles closing the file automatically:"
   ]
  },
  {
   "cell_type": "code",
   "execution_count": 9,
   "metadata": {},
   "outputs": [
    {
     "name": "stdout",
     "output_type": "stream",
     "text": [
      "First line.\n",
      "Second line.\n",
      "Third line.\n",
      "This is a new line\n",
      "This line is appended.\n",
      "\n"
     ]
    }
   ],
   "source": [
    "with open('test.txt', 'r') as f:\n",
    "    content = f.read()\n",
    "    print(content)"
   ]
  },
  {
   "cell_type": "code",
   "execution_count": 10,
   "metadata": {},
   "outputs": [],
   "source": [
    "import random\n",
    "\n",
    "lines = ['simple line.\\n', 'another one.\\n', 'another two.\\n']\n",
    "with open('test.txt', 'a+') as f:\n",
    "    sample_lines = random.sample(lines, 2)\n",
    "    f.writelines(sample_lines)"
   ]
  },
  {
   "cell_type": "markdown",
   "metadata": {},
   "source": [
    "---\n",
    "## **Quiz**\n",
    "\n",
    "### ✅ **Exercise 1: Count Lines in a File**\n",
    "\n",
    "**Task:**\n",
    "Write a function `count_lines(filename)` that opens a file and returns the number of lines in it.\n",
    "\n",
    "**Example Usage:**\n",
    "\n",
    "```python\n",
    "print(count_lines('sample.txt'))\n",
    "```\n",
    "\n",
    "---\n",
    "\n",
    "### ✅ **Exercise 2: Copy Contents of a File**\n",
    "\n",
    "**Task:**\n",
    "Write a function `copy_file(src, dest)` that reads the contents of the source file and writes it into the destination file.\n",
    "\n",
    "**Example Usage:**\n",
    "\n",
    "```python\n",
    "copy_file('data.txt', 'backup.txt')\n",
    "```\n",
    "\n",
    "---\n",
    "\n",
    "### ✅ **Exercise 3: Append a Line to a File**\n",
    "\n",
    "**Task:**\n",
    "Write a function `append_line(filename, line)` that appends a single line to the end of the file, followed by a newline character.\n",
    "\n",
    "**Example Usage:**\n",
    "\n",
    "```python\n",
    "append_line('notes.txt', 'This is a new note.')\n",
    "```\n",
    "\n",
    "---\n",
    "\n",
    "### 🛠 Bonus Challenge: Word Frequency Counter\n",
    "\n",
    "**Task:**\n",
    "Write a function `word_frequency(filename)` that reads a file and returns a dictionary of word counts (ignore punctuation, count all words in lowercase).\n",
    "\n",
    "**Example Usage:**\n",
    "\n",
    "```python\n",
    "word_frequency('text.txt')\n",
    "# Output: {'hello': 2, 'world': 1, 'again': 1}\n",
    "```"
   ]
  },
  {
   "cell_type": "markdown",
   "metadata": {},
   "source": [
    "<div style=\"border: 2px solid #4CAF50; padding: 20px; border-radius: 10px; background-color: #e8f5e9; text-align: center; font-family: Arial, sans-serif;\">\n",
    "  <h2 style=\"color: #2e7d32;\">🎉 <strong>Congratulations!</strong> 🎉</h2>\n",
    "  <p style=\"font-size: 16px; color: #555;\">You've successfully completed the course.</p>\n",
    "  <p style=\"font-size: 15px; color: #444; margin-top: 10px;\">\n",
    "    Keep practicing, stay curious, and never stop learning. This is just one step in your journey — and you're doing amazing.\n",
    "  </p>\n",
    "</div>\n"
   ]
  }
 ],
 "metadata": {
  "kernelspec": {
   "display_name": "Python [conda env:base] *",
   "language": "python",
   "name": "conda-base-py"
  },
  "language_info": {
   "codemirror_mode": {
    "name": "ipython",
    "version": 3
   },
   "file_extension": ".py",
   "mimetype": "text/x-python",
   "name": "python",
   "nbconvert_exporter": "python",
   "pygments_lexer": "ipython3",
   "version": "3.12.7"
  }
 },
 "nbformat": 4,
 "nbformat_minor": 4
}
