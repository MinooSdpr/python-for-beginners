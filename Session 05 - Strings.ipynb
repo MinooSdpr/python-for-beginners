{
 "cells": [
  {
   "cell_type": "markdown",
   "id": "439bfc84",
   "metadata": {},
   "source": [
    "# 🧠 Understanding Strings in Python\n",
    "\n",
    "In this notebook, we will dive into one of the most essential data types in Python: **strings**. Strings are used to represent and manipulate text in Python programs, and mastering them is crucial for any developer.\n",
    "\n",
    "## 📚 What You Will Learn\n",
    "\n",
    "In this session, you will:\n",
    "\n",
    "- 🧵 Understand what strings are and how they work in Python\n",
    "- ✍️ Create and manipulate string variables\n",
    "- 📐 Explore string indexing and slicing\n",
    "- 🔁 Use string methods for transforming and analyzing text\n",
    "- 🔗 Learn about string concatenation and repetition\n",
    "- 🧩 Practice string formatting using different techniques\n",
    "\n",
    "By the end of this session, you'll have a strong foundation in working with textual data using Python strings.\n",
    "<div style=\"text-align: center;\">\n",
    "  <a href=\"https://colab.research.google.com/github/MinooSdpr/python-for-beginners/blob/main/Session%2005%20-%20Strings.ipynb\">\n",
    "    <img src=\"https://colab.research.google.com/assets/colab-badge.svg\" alt=\"Open In Colab\" />\n",
    "  </a>\n",
    "  &nbsp;\n",
    "  <a href=\"https://github.com/MinooSdpr/python-for-beginners/blob/main/Session%2005%20-%20Strings.ipynb\">\n",
    "    <img src=\"https://img.shields.io/badge/Open%20in-GitHub-24292e?logo=github&logoColor=white\" alt=\"Open In GitHub\" />\n",
    "  </a>\n",
    "</div>\n",
    "\n",
    "Let’s get started!\n"
   ]
  },
  {
   "cell_type": "code",
   "execution_count": 1,
   "id": "b2f8e713",
   "metadata": {},
   "outputs": [
    {
     "name": "stdout",
     "output_type": "stream",
     "text": [
      "hello\n"
     ]
    }
   ],
   "source": [
    "# Single word\n",
    "print('hello')"
   ]
  },
  {
   "cell_type": "code",
   "execution_count": 2,
   "id": "ef837ad0",
   "metadata": {},
   "outputs": [
    {
     "name": "stdout",
     "output_type": "stream",
     "text": [
      "This is also a string 154451\n"
     ]
    }
   ],
   "source": [
    "# Entire phrase \n",
    "print('This is also a string 154451')"
   ]
  },
  {
   "cell_type": "markdown",
   "id": "2926f1d8",
   "metadata": {},
   "source": [
    "## 🔤 What is a String in Python?\n",
    "\n",
    "A **string** in Python is a sequence of characters enclosed in single (`'`) or double (`\"`) quotes. Strings are used to store and manipulate text.\n",
    "\n",
    "Here are some examples of how to define strings in Python:\n"
   ]
  },
  {
   "cell_type": "code",
   "execution_count": 3,
   "id": "99ce537b",
   "metadata": {},
   "outputs": [
    {
     "name": "stdout",
     "output_type": "stream",
     "text": [
      "Hello, world!\n",
      "Python is fun\n",
      "This is\n",
      "a multi-line\n",
      "string.\n",
      "<class 'str'>\n"
     ]
    }
   ],
   "source": [
    "text1 = 'Hello, world!'\n",
    "text2 = \"Python is fun\"\n",
    "\n",
    "text3 = '''This is\n",
    "a multi-line\n",
    "string.'''\n",
    "\n",
    "print(text1)\n",
    "print(text2)\n",
    "print(text3)\n",
    "print(type(text3))"
   ]
  },
  {
   "cell_type": "code",
   "execution_count": 4,
   "id": "318e6095",
   "metadata": {},
   "outputs": [
    {
     "ename": "SyntaxError",
     "evalue": "unterminated string literal (detected at line 2) (1272364499.py, line 2)",
     "output_type": "error",
     "traceback": [
      "\u001b[1;36m  Cell \u001b[1;32mIn[4], line 2\u001b[1;36m\u001b[0m\n\u001b[1;33m    print(' I'm using single quotes, but this will create an error')\u001b[0m\n\u001b[1;37m                                                                  ^\u001b[0m\n\u001b[1;31mSyntaxError\u001b[0m\u001b[1;31m:\u001b[0m unterminated string literal (detected at line 2)\n"
     ]
    }
   ],
   "source": [
    "# Be careful with quotes!\n",
    "print(' I'm using single quotes, but this will create an error')"
   ]
  },
  {
   "cell_type": "code",
   "execution_count": 5,
   "id": "1ea7356e",
   "metadata": {},
   "outputs": [
    {
     "name": "stdout",
     "output_type": "stream",
     "text": [
      "Now I'm ready to use the single quotes inside a string!\n"
     ]
    }
   ],
   "source": [
    "print(\"Now I'm ready to use the single quotes inside a string!\")"
   ]
  },
  {
   "cell_type": "markdown",
   "id": "261f7839-3846-468e-9789-20aef8f855a4",
   "metadata": {},
   "source": [
    "## ✨ Escape Characters in Python Strings\n",
    "\n",
    "Sometimes, you need to include characters in your strings that can't be typed directly or would otherwise be interpreted differently by Python (like new lines or quotation marks). In such cases, **escape sequences** are used.\n",
    "\n",
    "Escape sequences in Python start with a backslash (`\\`) followed by a character that has a special meaning.\n",
    "\n",
    "### 🔍 Examples of Common Escape Sequences:\n",
    "\n",
    "- `\\n` – New line  \n",
    "- `\\t` – Horizontal tab  \n",
    "- `\\\\` – Backslash  \n",
    "- `\\'` or `\\\"` – Single or double quotes  \n",
    "- `\\b` – Backspace  \n",
    "- `\\ooo` – Character with octal value  \n",
    "- `\\xhh` – Character with hexadecimal value  \n",
    "- `\\uhhhh` – Unicode character (4 digits)  \n",
    "- `\\Uhhhhhhhh` – Unicode character (8 digits)  \n",
    "- `\\N{name}` – Unicode character by name  \n",
    "\n",
    "Let’s look at some examples:\n"
   ]
  },
  {
   "cell_type": "code",
   "execution_count": 6,
   "id": "6a8034ec",
   "metadata": {},
   "outputs": [
    {
     "name": "stdout",
     "output_type": "stream",
     "text": [
      "Hello World 1\n",
      "Hello \t World 2\n",
      "Use \n",
      " to print a new line\n",
      "\" '\n",
      "hello I\"m minoo\n",
      "hell\n",
      "A\n",
      "A\n",
      "See \\ what I mean?\n",
      "Ω\n",
      "Ω\n",
      "😀\n",
      "🐍\n"
     ]
    }
   ],
   "source": [
    "print('Hello World 1')\n",
    "print('Hello \\t World 2')\n",
    "print('Use \\n to print a new line')\n",
    "print('\\\" \\'')\n",
    "print('hello I\\\"m minoo')\n",
    "print('hello\\b')\n",
    "print('\\101')\n",
    "print('\\x41')\n",
    "\n",
    "print('See \\\\ what I mean?')\n",
    "\n",
    "print('\\u03A9')  # Output: Ω\n",
    "\n",
    "print('\\N{GREEK CAPITAL LETTER OMEGA}')  # Output: Ω\n",
    " \n",
    "print('\\U0001F600') \n",
    "print('\\U0001F40D')\n"
   ]
  },
  {
   "cell_type": "markdown",
   "id": "d6c68189",
   "metadata": {},
   "source": [
    "## 📏 Spaces, Tabs, and String Length in Python\n",
    "\n",
    "Whitespace characters like **spaces** and **tabs (`\\t`)** can affect how strings are displayed and how their lengths are calculated.\n",
    "\n",
    "### 🧪 Let's explore the difference:\n",
    "\n",
    "- You can use multiple **spaces** to add visual separation between characters.\n",
    "- The `\\t` escape sequence inserts a **tab character**, which usually equals 4 or 8 spaces, depending on the environment.\n",
    "- The `len()` function returns the **number of characters** in the string, including spaces and tabs as a single character each.\n",
    "\n",
    "### 🔍 Examples:\n"
   ]
  },
  {
   "cell_type": "code",
   "execution_count": 7,
   "id": "73b40eb9",
   "metadata": {},
   "outputs": [
    {
     "name": "stdout",
     "output_type": "stream",
     "text": [
      "hello        w\n",
      "11\n",
      "Hello\tWorld\n"
     ]
    }
   ],
   "source": [
    "print('hello        w')\n",
    "print(len('hello     w'))\n",
    "print('Hello\\tWorld')"
   ]
  },
  {
   "cell_type": "markdown",
   "id": "17b1b9fa",
   "metadata": {},
   "source": [
    "## 🔢 String Indexing in Python\n",
    "\n",
    "In Python, strings are **ordered sequences** of characters, and each character has an index.  \n",
    "You can use **indexing** to access individual characters in a string.\n",
    "\n",
    "### 🧭 Indexing Rules:\n",
    "\n",
    "- Indexes start at **0** (zero-based indexing).\n",
    "- You can also use **negative indexes** to count from the end of the string.\n",
    "\n",
    "Use square brackets `[ ]` to get a character at a specific position."
   ]
  },
  {
   "cell_type": "code",
   "execution_count": 8,
   "id": "d022846a",
   "metadata": {},
   "outputs": [
    {
     "name": "stdout",
     "output_type": "stream",
     "text": [
      "Hello World\n"
     ]
    }
   ],
   "source": [
    "s = 'Hello World'\n",
    "print(s)"
   ]
  },
  {
   "cell_type": "code",
   "execution_count": 9,
   "id": "390cedd0",
   "metadata": {},
   "outputs": [
    {
     "name": "stdout",
     "output_type": "stream",
     "text": [
      "H\n",
      "e\n",
      "d\n"
     ]
    }
   ],
   "source": [
    "print(s[0])\n",
    "print(s[1])\n",
    "print(s[10])\n"
   ]
  },
  {
   "cell_type": "markdown",
   "id": "161baa6f",
   "metadata": {},
   "source": [
    "## ✂️ String Slicing in Python\n",
    "\n",
    "**Slicing** allows you to extract a portion (or \"slice\") of a string using the syntax:\n",
    "\n",
    "`string[start:end]`\n",
    "- start: The index where the slice begins (inclusive)\n",
    "\n",
    "- end: The index where the slice ends (exclusive)\n",
    "\n",
    "- If start is omitted, it starts from the beginning.\n",
    "\n",
    "- If end is omitted, it goes until the end.\n",
    "\n",
    "You can also use a third argument: step"
   ]
  },
  {
   "cell_type": "code",
   "execution_count": 10,
   "id": "b81c982b",
   "metadata": {},
   "outputs": [
    {
     "name": "stdout",
     "output_type": "stream",
     "text": [
      "Python\n",
      "Programming\n",
      "Python\n",
      "Programming\n",
      "Pro\n"
     ]
    }
   ],
   "source": [
    "text = \"Python Programming\"\n",
    "\n",
    "print(text[0:6])   \n",
    "print(text[7:18])   \n",
    "print(text[:6])     \n",
    "print(text[7:])      \n",
    "print(text[-11:-8]) "
   ]
  },
  {
   "cell_type": "code",
   "execution_count": 11,
   "id": "7f484152",
   "metadata": {},
   "outputs": [
    {
     "name": "stdout",
     "output_type": "stream",
     "text": [
      "Pto rgamn\n",
      "gnimmargorP nohtyP\n"
     ]
    }
   ],
   "source": [
    "print(text[::2])   \n",
    "print(text[::-1])"
   ]
  },
  {
   "cell_type": "markdown",
   "id": "127247a1",
   "metadata": {},
   "source": [
    "Here we're telling Python to grab everything from 0 up to 3. It doesn't include the 3rd index. You'll notice this a lot in Python, where statements and are usually in the context of \"up to, but not including\"."
   ]
  },
  {
   "cell_type": "code",
   "execution_count": 12,
   "id": "950b00bc",
   "metadata": {},
   "outputs": [
    {
     "name": "stdout",
     "output_type": "stream",
     "text": [
      "Hello World\n"
     ]
    }
   ],
   "source": [
    "# Note that there is no change to the original s\n",
    "s = 'Hello World'\n",
    "print(s[:])"
   ]
  },
  {
   "cell_type": "code",
   "execution_count": 13,
   "id": "706efdde",
   "metadata": {},
   "outputs": [
    {
     "name": "stdout",
     "output_type": "stream",
     "text": [
      "d\n"
     ]
    }
   ],
   "source": [
    "# Last letter (one index behind 0 so it loops back around)\n",
    "print(s[-1])"
   ]
  },
  {
   "cell_type": "code",
   "execution_count": 14,
   "id": "10243a61",
   "metadata": {},
   "outputs": [
    {
     "name": "stdout",
     "output_type": "stream",
     "text": [
      "Hello Worl\n"
     ]
    }
   ],
   "source": [
    "# Grab everything but the last letter\n",
    "print(s[:-1])"
   ]
  },
  {
   "cell_type": "code",
   "execution_count": 15,
   "id": "c9b1af28",
   "metadata": {},
   "outputs": [
    {
     "name": "stdout",
     "output_type": "stream",
     "text": [
      "r\n"
     ]
    }
   ],
   "source": [
    "print(s[-3])"
   ]
  },
  {
   "cell_type": "code",
   "execution_count": 16,
   "id": "57ea3e8d",
   "metadata": {},
   "outputs": [
    {
     "name": "stdout",
     "output_type": "stream",
     "text": [
      "HloWrd\n"
     ]
    }
   ],
   "source": [
    "# Grab everything, but go in step sizes of 2\n",
    "print(s[::2])"
   ]
  },
  {
   "cell_type": "code",
   "execution_count": 17,
   "id": "07d2f641",
   "metadata": {},
   "outputs": [
    {
     "name": "stdout",
     "output_type": "stream",
     "text": [
      "dlroW olleH\n"
     ]
    }
   ],
   "source": [
    "# We can use this to print a string backwards\n",
    "print(s[::-1])"
   ]
  },
  {
   "cell_type": "markdown",
   "id": "3ab9b70b",
   "metadata": {},
   "source": [
    "## 🔒 String Properties: Immutability\n",
    "\n",
    "It's important to note that strings in Python have a key property known as **immutability**.\n",
    "\n",
    "> 🧠 **Immutability** means that once a string is created, its content cannot be changed — individual characters cannot be modified or replaced directly.\n",
    "\n",
    "### 🔥 What does this mean?\n",
    "\n",
    "You cannot change a character in a string using indexing like this:\n",
    "\n",
    "\n"
   ]
  },
  {
   "cell_type": "code",
   "execution_count": 18,
   "id": "214ce337",
   "metadata": {
    "scrolled": true
   },
   "outputs": [
    {
     "ename": "TypeError",
     "evalue": "'str' object does not support item assignment",
     "output_type": "error",
     "traceback": [
      "\u001b[1;31m---------------------------------------------------------------------------\u001b[0m",
      "\u001b[1;31mTypeError\u001b[0m                                 Traceback (most recent call last)",
      "Cell \u001b[1;32mIn[18], line 2\u001b[0m\n\u001b[0;32m      1\u001b[0m text \u001b[38;5;241m=\u001b[39m \u001b[38;5;124m\"\u001b[39m\u001b[38;5;124mHello\u001b[39m\u001b[38;5;124m\"\u001b[39m\n\u001b[1;32m----> 2\u001b[0m text[\u001b[38;5;241m0\u001b[39m] \u001b[38;5;241m=\u001b[39m \u001b[38;5;124m\"\u001b[39m\u001b[38;5;124mY\u001b[39m\u001b[38;5;124m\"\u001b[39m\n",
      "\u001b[1;31mTypeError\u001b[0m: 'str' object does not support item assignment"
     ]
    }
   ],
   "source": [
    "text = \"Hello\"\n",
    "text[0] = \"Y\"  # ❌ This will raise a TypeError!"
   ]
  },
  {
   "cell_type": "code",
   "execution_count": 19,
   "id": "94830554",
   "metadata": {},
   "outputs": [
    {
     "name": "stdout",
     "output_type": "stream",
     "text": [
      "H\n"
     ]
    }
   ],
   "source": [
    "print(s[0])"
   ]
  },
  {
   "cell_type": "markdown",
   "id": "3715319e",
   "metadata": {},
   "source": [
    "Something we *can* do is concatenate strings!"
   ]
  },
  {
   "cell_type": "code",
   "execution_count": 20,
   "id": "e68d296e",
   "metadata": {},
   "outputs": [
    {
     "name": "stdout",
     "output_type": "stream",
     "text": [
      "Hello World concatenate me!\n"
     ]
    }
   ],
   "source": [
    "print(s + ' concatenate me!')"
   ]
  },
  {
   "cell_type": "code",
   "execution_count": 21,
   "id": "43f6f38c",
   "metadata": {},
   "outputs": [
    {
     "name": "stdout",
     "output_type": "stream",
     "text": [
      "Hello World concatenate me!\n"
     ]
    }
   ],
   "source": [
    "# We can reassign s completely though!\n",
    "s = s + ' concatenate me!'\n",
    "print(s)"
   ]
  },
  {
   "cell_type": "code",
   "execution_count": 22,
   "id": "54649943-3ccc-4ea7-84bc-3f6428891968",
   "metadata": {},
   "outputs": [
    {
     "name": "stdout",
     "output_type": "stream",
     "text": [
      "Yello\n"
     ]
    }
   ],
   "source": [
    "text = \"Hello\"\n",
    "new_text = \"Y\" + text[1:]\n",
    "print(new_text)\n"
   ]
  },
  {
   "cell_type": "markdown",
   "id": "162be12c",
   "metadata": {},
   "source": [
    "We can use the multiplication symbol to create repetition!"
   ]
  },
  {
   "cell_type": "code",
   "execution_count": 23,
   "id": "f1761d2f",
   "metadata": {},
   "outputs": [
    {
     "name": "stdout",
     "output_type": "stream",
     "text": [
      "zzzzzzzzzz\n"
     ]
    }
   ],
   "source": [
    "letter = 'z'\n",
    "l2 = letter*10\n",
    "print(letter*10)"
   ]
  },
  {
   "cell_type": "markdown",
   "id": "b9e5945e",
   "metadata": {},
   "source": [
    "## 🛠️ Basic Built-in String Methods\n",
    "\n",
    "Python strings come with many **built-in methods** that allow you to perform actions or transformations on the string.\n",
    "\n",
    "### 📌 What is a method?\n",
    "\n",
    "A **method** is like a function that \"belongs\" to an object.  \n",
    "In the case of strings, methods are actions you can perform **on string objects**.\n",
    "\n",
    "We call methods using this syntax:\n",
    "\n",
    "```python\n",
    "object.method(parameters)\n",
    "```\n",
    "- `object` → the string you're working with\n",
    "\n",
    "- `method` → the action you want to perform\n",
    "\n",
    "- `parameters` → (optional) values passed to customize how the method works"
   ]
  },
  {
   "cell_type": "code",
   "execution_count": 24,
   "id": "99bd7d94",
   "metadata": {},
   "outputs": [
    {
     "name": "stdout",
     "output_type": "stream",
     "text": [
      "  hello, python!  \n",
      "  HELLO, PYTHON!  \n",
      "Hello, Python!\n",
      "  Hello, World!  \n",
      "True\n",
      "True\n",
      "2\n"
     ]
    }
   ],
   "source": [
    "text = \"  Hello, Python!  \"\n",
    "\n",
    "print(text.lower())       \n",
    "print(text.upper())      \n",
    "print(text.strip())      \n",
    "print(text.replace(\"Python\", \"World\")) \n",
    "print(text.startswith(\"  H\"))  \n",
    "print(text.endswith(\"!  \"))   \n",
    "print(text.count(\"o\"))"
   ]
  },
  {
   "cell_type": "code",
   "execution_count": 25,
   "id": "1275b202",
   "metadata": {},
   "outputs": [
    {
     "name": "stdout",
     "output_type": "stream",
     "text": [
      "Hello World Concatenate Me!\n"
     ]
    }
   ],
   "source": [
    "print(s.title())"
   ]
  },
  {
   "cell_type": "code",
   "execution_count": 26,
   "id": "bd1f92cf-6e3c-401c-bf3a-d982dfdb1e5c",
   "metadata": {},
   "outputs": [
    {
     "name": "stdout",
     "output_type": "stream",
     "text": [
      "Hello world concatenate me!\n"
     ]
    }
   ],
   "source": [
    "print(s.capitalize())"
   ]
  },
  {
   "cell_type": "code",
   "execution_count": 27,
   "id": "a1e2c62a",
   "metadata": {},
   "outputs": [
    {
     "name": "stdout",
     "output_type": "stream",
     "text": [
      "['Hello', 'World', 'concatenate', 'me!']\n"
     ]
    }
   ],
   "source": [
    "# Split a string by blank space (this is the default)\n",
    "print(s.split())"
   ]
  },
  {
   "cell_type": "code",
   "execution_count": 28,
   "id": "d603a2fb",
   "metadata": {},
   "outputs": [
    {
     "name": "stdout",
     "output_type": "stream",
     "text": [
      "['Hello ', 'orld concatenate me!']\n"
     ]
    }
   ],
   "source": [
    "# Split by a specific element (doesn't include the element that was split on)\n",
    "print(s.split('W'))"
   ]
  },
  {
   "cell_type": "code",
   "execution_count": 29,
   "id": "705dcd90",
   "metadata": {},
   "outputs": [
    {
     "name": "stdout",
     "output_type": "stream",
     "text": [
      "mp3\n"
     ]
    }
   ],
   "source": [
    "my_string = \"mp\"\n",
    "my_int = 3\n",
    "print(my_string + str(my_int))"
   ]
  },
  {
   "cell_type": "code",
   "execution_count": 30,
   "id": "36c1e5f8",
   "metadata": {},
   "outputs": [
    {
     "name": "stdin",
     "output_type": "stream",
     "text": [
      "Enter a number:  5\n",
      "Enter another number:  6\n"
     ]
    },
    {
     "name": "stdout",
     "output_type": "stream",
     "text": [
      "5 x 6 = 30.0\n"
     ]
    }
   ],
   "source": [
    "a = input(\"Enter a number: \")\n",
    "b = input(\"Enter another number: \")\n",
    "product = float(a) * float(b)\n",
    "print( a + \" x \" + b + \" = \" + str(product))"
   ]
  },
  {
   "cell_type": "code",
   "execution_count": 31,
   "id": "20a36fdb",
   "metadata": {},
   "outputs": [
    {
     "name": "stdin",
     "output_type": "stream",
     "text": [
      "Enter a number:  5\n",
      "Enter another number:  3\n"
     ]
    },
    {
     "name": "stdout",
     "output_type": "stream",
     "text": [
      "5 in power of 3 is 125\n"
     ]
    }
   ],
   "source": [
    "a = input(\"Enter a number: \")\n",
    "b = input(\"Enter another number: \")\n",
    "product = int(a) ** int(b)\n",
    "print(str(a)+\" in power of \"+ str(b)+\" is \"+ str(product))"
   ]
  },
  {
   "cell_type": "code",
   "execution_count": 32,
   "id": "93485711",
   "metadata": {},
   "outputs": [
    {
     "name": "stdout",
     "output_type": "stream",
     "text": [
      "4\n",
      "-1\n"
     ]
    }
   ],
   "source": [
    "print(\"hello world\".find(\"o\"))\n",
    "s = \"python class Ai class ML class\"\n",
    "print(s.find('hello'))"
   ]
  },
  {
   "cell_type": "markdown",
   "id": "f83ea6a7-2d78-4a02-86ec-6f2180321451",
   "metadata": {},
   "source": [
    "### ⚠️ Remember:\n",
    "Most string methods do not change the original string — they return a new string.\n",
    "\n",
    "Strings are immutable, so all transformations return modified copies."
   ]
  },
  {
   "cell_type": "code",
   "execution_count": 33,
   "id": "ba3cdf21",
   "metadata": {},
   "outputs": [
    {
     "name": "stdout",
     "output_type": "stream",
     "text": [
      "True\n",
      "Somebody xaid xomething to Samantha.\n"
     ]
    }
   ],
   "source": [
    "phrase = \"Somebody said something to Samantha.\"\n",
    "print('s' in phrase)\n",
    "phrase = phrase.replace(\"s\", \"x\")\n",
    "print(phrase)"
   ]
  },
  {
   "cell_type": "code",
   "execution_count": 34,
   "id": "028a5985",
   "metadata": {},
   "outputs": [
    {
     "name": "stdout",
     "output_type": "stream",
     "text": [
      "22\n"
     ]
    }
   ],
   "source": [
    "s = 'A hello world this is A python'\n",
    "#print(s.split())\n",
    "print(s.rfind(\"A\")) # rfind"
   ]
  },
  {
   "cell_type": "code",
   "execution_count": 35,
   "id": "b930b3e4",
   "metadata": {},
   "outputs": [
    {
     "name": "stdin",
     "output_type": "stream",
     "text": [
      "Enter your email address hellopython@yahoo.com\n"
     ]
    },
    {
     "name": "stdout",
     "output_type": "stream",
     "text": [
      "yahoo.com\n"
     ]
    }
   ],
   "source": [
    "email = input('Enter your email address')\n",
    "dot = email.index('.') #rindex\n",
    "print(email.split('@')[1])"
   ]
  },
  {
   "cell_type": "code",
   "execution_count": 36,
   "id": "b995fef8",
   "metadata": {},
   "outputs": [
    {
     "name": "stdin",
     "output_type": "stream",
     "text": [
      "Enter some text:  python text\n"
     ]
    },
    {
     "name": "stdout",
     "output_type": "stream",
     "text": [
      "py7h0n 73x7\n"
     ]
    }
   ],
   "source": [
    "my_text = input(\"Enter some text: \").lower()\n",
    "\n",
    "my_text = my_text.replace(\"a\", \"4\")\n",
    "my_text = my_text.replace(\"b\", \"8\")\n",
    "my_text = my_text.replace(\"e\", \"3\")\n",
    "my_text = my_text.replace(\"l\", \"1\")\n",
    "my_text = my_text.replace(\"o\", \"0\")\n",
    "my_text = my_text.replace(\"s\", \"5\")\n",
    "my_text = my_text.replace(\"t\", \"7\")\n",
    "\n",
    "print(my_text)"
   ]
  },
  {
   "cell_type": "code",
   "execution_count": 37,
   "id": "fe3c1fb3-15ba-4d89-97b9-15a3ca2b593c",
   "metadata": {},
   "outputs": [
    {
     "name": "stdout",
     "output_type": "stream",
     "text": [
      "zzzzpy7h0n 73x7zzzzz\n"
     ]
    }
   ],
   "source": [
    "print(my_text.center(20,'z'))"
   ]
  },
  {
   "cell_type": "code",
   "execution_count": 38,
   "id": "7a625225-3eb3-441a-9e3a-ed453be59ab0",
   "metadata": {},
   "outputs": [
    {
     "name": "stdout",
     "output_type": "stream",
     "text": [
      "hello   hi\n"
     ]
    }
   ],
   "source": [
    "print('hello\\thi'.expandtabs())"
   ]
  },
  {
   "cell_type": "markdown",
   "id": "c7e6c45c-cbdf-4f00-91ce-7cb16246dae1",
   "metadata": {},
   "source": [
    "We can use <code>partition()</code> to return a tuple that includes the first occurrence of the separator sandwiched between the first half and the end half."
   ]
  },
  {
   "cell_type": "code",
   "execution_count": 39,
   "id": "03d6e6c1-7a02-496c-8515-2f32a43eeb8b",
   "metadata": {},
   "outputs": [
    {
     "name": "stdout",
     "output_type": "stream",
     "text": [
      "('he', 'l', 'lo world')\n"
     ]
    }
   ],
   "source": [
    "s = 'hello world'\n",
    "s2 = s.partition('l')\n",
    "print(s2)"
   ]
  },
  {
   "cell_type": "markdown",
   "id": "b7dcdb2b-5b3a-4867-97a2-96485fe17c36",
   "metadata": {},
   "source": [
    "## 🧰 More String Methods in Python\n",
    "\n",
    "Python provides a rich set of built-in string methods that can help you analyze, format, and manipulate text more efficiently.\n",
    "\n",
    "Here is a reference list of some useful string methods:\n",
    "\n",
    "### ✅ Character Type Check Methods\n",
    "- `s.isalpha()` → Checks if all characters are alphabetic (a–z, A–Z)\n",
    "- `s.isdigit()` → Checks if all characters are digits (0–9)\n",
    "- `s.isdecimal()` → Checks if all characters are decimal numbers\n",
    "- `s.isnumeric()` → Checks if all characters are numeric (includes digits, subscripts, etc.)\n",
    "- `s.isalnum()` → Checks if all characters are alphanumeric (letters + numbers)\n",
    "- `s.isidentifier()` → Checks if the string is a valid Python identifier\n",
    "- `s.isprintable()` → Checks if all characters are printable\n",
    "\n",
    "🧠 More info on differences between `isdigit()`, `isnumeric()`, and `isdecimal()`:\n",
    "🔗 [Read this explanation](https://miguendes.me/python-isdigit-isnumeric-isdecimal)\n",
    "\n",
    "---\n",
    "\n",
    "### 🔤 Case and Formatting\n",
    "- `s.casefold()` → Converts the string to lowercase (more aggressive than `lower()`)\n",
    "- `s.swapcase()` → Swaps upper and lower case\n",
    "- `s.format()` → Inserts values into placeholders in a string\n",
    "- `s.zfill(width)` → Pads the string from the left with zeros\n",
    "\n",
    "---\n",
    "\n",
    "### 📐 Alignment and Spacing\n",
    "- `s.ljust(width)` → Left-justifies the string in a field of given width\n",
    "- `s.expandtabs(tabsize)` → Replaces tab characters (`\\t`) with spaces\n",
    "\n",
    "---\n",
    "\n",
    "### 🔗 Joining and Splitting\n",
    "- `s.join(iterable)` → Joins items of an iterable with the string as a separator\n",
    "- `s.splitlines()` → Splits the string at line breaks (`\\n`) into a list\n",
    "\n",
    "---\n",
    "\n",
    "### 🌐 Encoding and Translation\n",
    "- `s.encode()` → Returns an encoded (e.g., UTF-8) version of the string\n",
    "- `s.maketrans()` → Creates a mapping table for character replacements\n",
    "- `s.translate(map)` → Translates characters using a mapping table\n",
    "\n",
    "---\n",
    "\n",
    "These methods can help you write cleaner and more powerful string-processing code.\n",
    "\n",
    "you can explore several of these in depth. 🔍\n"
   ]
  },
  {
   "cell_type": "markdown",
   "id": "d27168c4-c68a-4922-aaaa-6ac64266d566",
   "metadata": {},
   "source": [
    "<div style=\"float:right;\">\n",
    "  <a href=\"https://github.com/MinooSdpr/python-for-beginners/blob/main/Session%2004%20-%20Data%20Types_2%20-%20strings.ipynb\"\n",
    "     style=\"\n",
    "       display:inline-block;\n",
    "       padding:8px 20px;\n",
    "       background-color:#414f6f;\n",
    "       color:white;\n",
    "       border-radius:12px;\n",
    "       text-decoration:none;\n",
    "       font-family:sans-serif;\n",
    "       transition:background-color 0.3s ease;\n",
    "     \"\n",
    "     onmouseover=\"this.style.backgroundColor='#2f3a52';\"\n",
    "     onmouseout=\"this.style.backgroundColor='#414f6f';\">\n",
    "    ▶️ Next\n",
    "  </a>\n",
    "</div>"
   ]
  }
 ],
 "metadata": {
  "kernelspec": {
   "display_name": "Python [conda env:base] *",
   "language": "python",
   "name": "conda-base-py"
  },
  "language_info": {
   "codemirror_mode": {
    "name": "ipython",
    "version": 3
   },
   "file_extension": ".py",
   "mimetype": "text/x-python",
   "name": "python",
   "nbconvert_exporter": "python",
   "pygments_lexer": "ipython3",
   "version": "3.12.7"
  }
 },
 "nbformat": 4,
 "nbformat_minor": 5
}
