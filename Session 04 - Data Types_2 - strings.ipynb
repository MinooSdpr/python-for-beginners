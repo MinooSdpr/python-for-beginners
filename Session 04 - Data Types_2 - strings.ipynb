{
 "cells": [
  {
   "cell_type": "markdown",
   "id": "439bfc84",
   "metadata": {},
   "source": [
    "# Strings\n",
    "\n",
    "\n",
    "    1.) Creating Strings\n",
    "    2.) Printing Strings\n",
    "    3.) String Indexing and Slicing\n",
    "    4.) String Properties\n",
    "    5.) String Methods\n",
    "    6.) Print Formatting"
   ]
  },
  {
   "cell_type": "code",
   "execution_count": 6,
   "id": "b2f8e713",
   "metadata": {},
   "outputs": [
    {
     "name": "stdout",
     "output_type": "stream",
     "text": [
      "hello\n"
     ]
    }
   ],
   "source": [
    "# Single word\n",
    "print('hello')"
   ]
  },
  {
   "cell_type": "code",
   "execution_count": 7,
   "id": "ef837ad0",
   "metadata": {},
   "outputs": [
    {
     "name": "stdout",
     "output_type": "stream",
     "text": [
      "This is also a string 154451\n"
     ]
    }
   ],
   "source": [
    "# Entire phrase \n",
    "print('This is also a string 154451')"
   ]
  },
  {
   "cell_type": "code",
   "execution_count": 8,
   "id": "99ce537b",
   "metadata": {},
   "outputs": [
    {
     "name": "stdout",
     "output_type": "stream",
     "text": [
      "String built with double quotes\n"
     ]
    }
   ],
   "source": [
    "# We can also use double quote\n",
    "print(\"String built with double quotes\")"
   ]
  },
  {
   "cell_type": "code",
   "execution_count": 9,
   "id": "318e6095",
   "metadata": {},
   "outputs": [
    {
     "ename": "SyntaxError",
     "evalue": "unterminated string literal (detected at line 2) (1272364499.py, line 2)",
     "output_type": "error",
     "traceback": [
      "\u001b[1;36m  Cell \u001b[1;32mIn[9], line 2\u001b[1;36m\u001b[0m\n\u001b[1;33m    print(' I'm using single quotes, but this will create an error')\u001b[0m\n\u001b[1;37m                                                                  ^\u001b[0m\n\u001b[1;31mSyntaxError\u001b[0m\u001b[1;31m:\u001b[0m unterminated string literal (detected at line 2)\n"
     ]
    }
   ],
   "source": [
    "# Be careful with quotes!\n",
    "print(' I'm using single quotes, but this will create an error')"
   ]
  },
  {
   "cell_type": "code",
   "execution_count": null,
   "id": "1ea7356e",
   "metadata": {},
   "outputs": [],
   "source": [
    "print(\"Now I'm ready to use the single quotes inside a string!\")"
   ]
  },
  {
   "cell_type": "markdown",
   "id": "2926f1d8",
   "metadata": {},
   "source": [
    "## Printing a String\n",
    "\n",
    "Using Jupyter notebook with just a string in a cell will automatically output strings, but the correct way to display strings in your output is by using a print function."
   ]
  },
  {
   "cell_type": "code",
   "execution_count": null,
   "id": "f0611de1",
   "metadata": {},
   "outputs": [],
   "source": [
    "s = 'Hello World'\n",
    "s2= '''sfdjkjkdjfjl \n",
    "fdsjkfdkjfkdjfkds\n",
    "dfsjfhdjkfhhdskjkfs\n",
    "fsdjhfldsjkhfkdhkfsk'''\n",
    "#print(type(s))\n",
    "print(s2)"
   ]
  },
  {
   "cell_type": "code",
   "execution_count": null,
   "id": "6a8034ec",
   "metadata": {},
   "outputs": [],
   "source": [
    "print('Hello World 1')\n",
    "print('Hello \\t World 2')\n",
    "print('Use \\n to print a new line')\n",
    "print('\\\" \\'')\n",
    "print('hello I\\\"m minoo')\n",
    "print('hello\\b')\n",
    "print('\\101')\n",
    "print('\\x41')\n",
    "\n",
    "print('See \\\\ what I mean?')\n",
    "\n",
    "print('\\u03A9')  # Output: Ω\n",
    "\n",
    "print('\\N{GREEK CAPITAL LETTER OMEGA}')  # Output: Ω\n",
    " \n",
    "print('\\U0001F600') \n",
    "print('\\U0001F40D')\n"
   ]
  },
  {
   "cell_type": "markdown",
   "id": "90bdf146",
   "metadata": {},
   "source": [
    "## String Basics"
   ]
  },
  {
   "cell_type": "markdown",
   "id": "d6c68189",
   "metadata": {},
   "source": [
    "We can also use a function called len() to check the length of a string!"
   ]
  },
  {
   "cell_type": "code",
   "execution_count": null,
   "id": "73b40eb9",
   "metadata": {},
   "outputs": [],
   "source": [
    "print('hello        w')\n",
    "print(len('hello     w'))\n",
    "print('Hello\\tWorld')"
   ]
  },
  {
   "cell_type": "markdown",
   "id": "17b1b9fa",
   "metadata": {},
   "source": [
    "## String Indexing\n",
    "\n",
    "\n",
    "In Python, we use brackets <code>[]</code> after an object to call its index. We should also note that indexing starts at 0 for Python."
   ]
  },
  {
   "cell_type": "code",
   "execution_count": null,
   "id": "d022846a",
   "metadata": {},
   "outputs": [],
   "source": [
    "s = 'Hello World'\n",
    "print(s)"
   ]
  },
  {
   "cell_type": "code",
   "execution_count": null,
   "id": "390cedd0",
   "metadata": {},
   "outputs": [],
   "source": [
    "print(s[0])\n",
    "print(s[1])\n",
    "print(s[10])\n"
   ]
  },
  {
   "cell_type": "markdown",
   "id": "161baa6f",
   "metadata": {},
   "source": [
    "We can use a <code>:</code> to perform *slicing* which grabs everything up to a designated point. For example:"
   ]
  },
  {
   "cell_type": "code",
   "execution_count": null,
   "id": "b81c982b",
   "metadata": {},
   "outputs": [],
   "source": [
    "print(s[2:])"
   ]
  },
  {
   "cell_type": "code",
   "execution_count": null,
   "id": "7f484152",
   "metadata": {},
   "outputs": [],
   "source": [
    "print(s[:5])"
   ]
  },
  {
   "cell_type": "code",
   "execution_count": null,
   "id": "6047d233",
   "metadata": {},
   "outputs": [],
   "source": [
    "print(s[1:])"
   ]
  },
  {
   "cell_type": "code",
   "execution_count": null,
   "id": "8b9603e9",
   "metadata": {},
   "outputs": [],
   "source": [
    "print(s[:3])"
   ]
  },
  {
   "cell_type": "code",
   "execution_count": null,
   "id": "ac14270f",
   "metadata": {},
   "outputs": [],
   "source": [
    "print(s[::3])"
   ]
  },
  {
   "cell_type": "markdown",
   "id": "127247a1",
   "metadata": {},
   "source": [
    "Here we're telling Python to grab everything from 0 up to 3. It doesn't include the 3rd index. You'll notice this a lot in Python, where statements and are usually in the context of \"up to, but not including\"."
   ]
  },
  {
   "cell_type": "code",
   "execution_count": null,
   "id": "950b00bc",
   "metadata": {},
   "outputs": [],
   "source": [
    "# Note that there is no change to the original s\n",
    "\n",
    "print(s)"
   ]
  },
  {
   "cell_type": "code",
   "execution_count": null,
   "id": "39f54acb",
   "metadata": {},
   "outputs": [],
   "source": [
    "#Everything\n",
    "print(s[:])"
   ]
  },
  {
   "cell_type": "code",
   "execution_count": null,
   "id": "706efdde",
   "metadata": {},
   "outputs": [],
   "source": [
    "# Last letter (one index behind 0 so it loops back around)\n",
    "print(s[-1])"
   ]
  },
  {
   "cell_type": "code",
   "execution_count": null,
   "id": "10243a61",
   "metadata": {},
   "outputs": [],
   "source": [
    "# Grab everything but the last letter\n",
    "print(s[:-1])"
   ]
  },
  {
   "cell_type": "code",
   "execution_count": null,
   "id": "c9b1af28",
   "metadata": {},
   "outputs": [],
   "source": [
    "print(s[-3])"
   ]
  },
  {
   "cell_type": "markdown",
   "id": "6d120b62",
   "metadata": {},
   "source": [
    "We can also use index and slice notation to grab elements of a sequence by a specified step size (the default is 1). For instance we can use two colons in a row and then a number specifying the frequency to grab elements."
   ]
  },
  {
   "cell_type": "code",
   "execution_count": null,
   "id": "f1a7795c",
   "metadata": {},
   "outputs": [],
   "source": [
    "# Grab everything, but go in steps size of 1\n",
    "print(s[:])"
   ]
  },
  {
   "cell_type": "code",
   "execution_count": null,
   "id": "57ea3e8d",
   "metadata": {},
   "outputs": [],
   "source": [
    "# Grab everything, but go in step sizes of 2\n",
    "print(s[::2])"
   ]
  },
  {
   "cell_type": "code",
   "execution_count": null,
   "id": "07d2f641",
   "metadata": {},
   "outputs": [],
   "source": [
    "# We can use this to print a string backwards\n",
    "print(s[::-1])"
   ]
  },
  {
   "cell_type": "markdown",
   "id": "3ab9b70b",
   "metadata": {},
   "source": [
    "## String Properties\n",
    "It's important to note that strings have an important property known as *immutability*. This means that once a string is created, the elements within it can not be changed or replaced. "
   ]
  },
  {
   "cell_type": "code",
   "execution_count": null,
   "id": "214ce337",
   "metadata": {
    "scrolled": true
   },
   "outputs": [],
   "source": [
    "# Let's try to change the first letter to 'x'\n",
    "s[0] = 'x'"
   ]
  },
  {
   "cell_type": "code",
   "execution_count": null,
   "id": "94830554",
   "metadata": {},
   "outputs": [],
   "source": [
    "print(s[0])"
   ]
  },
  {
   "cell_type": "markdown",
   "id": "3715319e",
   "metadata": {},
   "source": [
    "Something we *can* do is concatenate strings!"
   ]
  },
  {
   "cell_type": "code",
   "execution_count": null,
   "id": "e68d296e",
   "metadata": {},
   "outputs": [],
   "source": [
    "print(s + ' concatenate me!')"
   ]
  },
  {
   "cell_type": "code",
   "execution_count": null,
   "id": "43f6f38c",
   "metadata": {},
   "outputs": [],
   "source": [
    "# We can reassign s completely though!\n",
    "s = s + ' concatenate me!'\n",
    "print(s)"
   ]
  },
  {
   "cell_type": "markdown",
   "id": "162be12c",
   "metadata": {},
   "source": [
    "We can use the multiplication symbol to create repetition!"
   ]
  },
  {
   "cell_type": "code",
   "execution_count": null,
   "id": "f1761d2f",
   "metadata": {},
   "outputs": [],
   "source": [
    "letter = 'z'\n",
    "l2 = letter*10\n",
    "print(letter*10)"
   ]
  },
  {
   "cell_type": "markdown",
   "id": "b9e5945e",
   "metadata": {},
   "source": [
    "## Basic Built-in String methods\n",
    "These methods are functions inside the object (we will learn about these in much more depth later) that can perform actions or commands on the object itself.\n",
    "\n",
    "We call methods with a period and then the method name. Methods are in the form:\n",
    "\n",
    "object.method(parameters)\n",
    "\n",
    "Where parameters are extra arguments we can pass into the method."
   ]
  },
  {
   "cell_type": "code",
   "execution_count": null,
   "id": "99bd7d94",
   "metadata": {},
   "outputs": [],
   "source": [
    "print(s.upper())"
   ]
  },
  {
   "cell_type": "code",
   "execution_count": null,
   "id": "59826d9b",
   "metadata": {},
   "outputs": [],
   "source": [
    "# Lower case\n",
    "print(s.lower())"
   ]
  },
  {
   "cell_type": "code",
   "execution_count": null,
   "id": "1275b202",
   "metadata": {},
   "outputs": [],
   "source": [
    "print(s.title())"
   ]
  },
  {
   "cell_type": "code",
   "execution_count": null,
   "id": "bd1f92cf-6e3c-401c-bf3a-d982dfdb1e5c",
   "metadata": {},
   "outputs": [],
   "source": [
    "print(s.capitalize())"
   ]
  },
  {
   "cell_type": "code",
   "execution_count": null,
   "id": "a1e2c62a",
   "metadata": {},
   "outputs": [],
   "source": [
    "# Split a string by blank space (this is the default)\n",
    "print(s.split())"
   ]
  },
  {
   "cell_type": "code",
   "execution_count": null,
   "id": "d603a2fb",
   "metadata": {},
   "outputs": [],
   "source": [
    "# Split by a specific element (doesn't include the element that was split on)\n",
    "print(s.split('W'))"
   ]
  },
  {
   "cell_type": "code",
   "execution_count": null,
   "id": "bf0d6fa9",
   "metadata": {},
   "outputs": [],
   "source": [
    "string1 = \"    Filet Mignon   \"\n",
    "string2 = \"Brisket    \"\n",
    "string3 = \"  Cheeseburger  dfsjhdhjsfj \"\n",
    "\n",
    "print(string1.rstrip())  # Could also use .lstrip()\n",
    "print(string2.strip())  # Could also use .rstrip()\n",
    "print(string3.strip())"
   ]
  },
  {
   "cell_type": "code",
   "execution_count": null,
   "id": "e80cf52b",
   "metadata": {},
   "outputs": [],
   "source": [
    "string1 = \"Becomes\"\n",
    "string2 = \"becomes\"\n",
    "string3 = \"BEAR\"\n",
    "string4 = \"  bEautiful\"\n",
    "\n",
    "print(string1.startswith(\"be\")) # endswith\n",
    "print(string2.startswith(\"be\"))\n",
    "print(string3.startswith(\"be\"))\n",
    "print(string4.startswith(\"be\"))"
   ]
  },
  {
   "cell_type": "code",
   "execution_count": null,
   "id": "705dcd90",
   "metadata": {},
   "outputs": [],
   "source": [
    "my_string = \"mp\"\n",
    "my_int = 3\n",
    "print(my_string + str(my_int))"
   ]
  },
  {
   "cell_type": "code",
   "execution_count": 10,
   "id": "36c1e5f8",
   "metadata": {},
   "outputs": [
    {
     "name": "stdin",
     "output_type": "stream",
     "text": [
      "Enter a number:  10\n",
      "Enter another number:  12\n"
     ]
    },
    {
     "name": "stdout",
     "output_type": "stream",
     "text": [
      "10 x 12 = 120.0\n"
     ]
    }
   ],
   "source": [
    "a = input(\"Enter a number: \")\n",
    "b = input(\"Enter another number: \")\n",
    "product = float(a) * float(b)\n",
    "print( a + \" x \" + b + \" = \" + str(product))"
   ]
  },
  {
   "cell_type": "code",
   "execution_count": 11,
   "id": "20a36fdb",
   "metadata": {},
   "outputs": [
    {
     "name": "stdin",
     "output_type": "stream",
     "text": [
      "Enter a number:  2\n",
      "Enter another number:  4\n"
     ]
    },
    {
     "name": "stdout",
     "output_type": "stream",
     "text": [
      "2 in power of 4 is 16\n"
     ]
    }
   ],
   "source": [
    "a = input(\"Enter a number: \")\n",
    "b = input(\"Enter another number: \")\n",
    "product = int(a) ** int(b)\n",
    "print(str(a)+\" in power of \"+ str(b)+\" is \"+ str(product))"
   ]
  },
  {
   "cell_type": "code",
   "execution_count": 12,
   "id": "93485711",
   "metadata": {},
   "outputs": [
    {
     "name": "stdout",
     "output_type": "stream",
     "text": [
      "4\n",
      "-1\n"
     ]
    }
   ],
   "source": [
    "print(\"hello world\".find(\"o\"))\n",
    "s = \"python class Ai class ML class\"\n",
    "print(s.find('hello'))"
   ]
  },
  {
   "cell_type": "markdown",
   "id": "4247ccce",
   "metadata": {},
   "source": [
    " Cannot find the string \"a\" in the string \"AAA\""
   ]
  },
  {
   "cell_type": "code",
   "execution_count": 14,
   "id": "ba3cdf21",
   "metadata": {
    "scrolled": true
   },
   "outputs": [
    {
     "name": "stdout",
     "output_type": "stream",
     "text": [
      "True\n",
      "Somebody xaid xomething to Samantha.\n"
     ]
    }
   ],
   "source": [
    "phrase = \"Somebody said something to Samantha.\"\n",
    "print('s' in phrase)\n",
    "phrase = phrase.replace(\"s\", \"x\")\n",
    "print(phrase)"
   ]
  },
  {
   "cell_type": "code",
   "execution_count": 15,
   "id": "028a5985",
   "metadata": {},
   "outputs": [
    {
     "name": "stdout",
     "output_type": "stream",
     "text": [
      "22\n"
     ]
    }
   ],
   "source": [
    "s = 'A hello world this is A python'\n",
    "#print(s.split())\n",
    "print(s.rfind(\"A\")) # rfind"
   ]
  },
  {
   "cell_type": "code",
   "execution_count": 16,
   "id": "b930b3e4",
   "metadata": {},
   "outputs": [
    {
     "name": "stdin",
     "output_type": "stream",
     "text": [
      "Enter your email address hellopython@gmail.com\n"
     ]
    },
    {
     "name": "stdout",
     "output_type": "stream",
     "text": [
      "gmail.com\n"
     ]
    }
   ],
   "source": [
    "email = input('Enter your email address')\n",
    "dot = email.index('.') #rindex\n",
    "print(email.split('@')[1])"
   ]
  },
  {
   "cell_type": "code",
   "execution_count": 17,
   "id": "503e3661",
   "metadata": {},
   "outputs": [
    {
     "name": "stdout",
     "output_type": "stream",
     "text": [
      "0\n"
     ]
    }
   ],
   "source": [
    "print(s.count('ML'))"
   ]
  },
  {
   "cell_type": "code",
   "execution_count": 18,
   "id": "b995fef8",
   "metadata": {},
   "outputs": [
    {
     "name": "stdin",
     "output_type": "stream",
     "text": [
      "Enter some text:  lala\n"
     ]
    },
    {
     "name": "stdout",
     "output_type": "stream",
     "text": [
      "1414\n"
     ]
    }
   ],
   "source": [
    "my_text = input(\"Enter some text: \").lower()\n",
    "\n",
    "my_text = my_text.replace(\"a\", \"4\")\n",
    "my_text = my_text.replace(\"b\", \"8\")\n",
    "my_text = my_text.replace(\"e\", \"3\")\n",
    "my_text = my_text.replace(\"l\", \"1\")\n",
    "my_text = my_text.replace(\"o\", \"0\")\n",
    "my_text = my_text.replace(\"s\", \"5\")\n",
    "my_text = my_text.replace(\"t\", \"7\")\n",
    "\n",
    "print(my_text)"
   ]
  },
  {
   "cell_type": "code",
   "execution_count": 68,
   "id": "fe3c1fb3-15ba-4d89-97b9-15a3ca2b593c",
   "metadata": {},
   "outputs": [
    {
     "name": "stdout",
     "output_type": "stream",
     "text": [
      "zzzzzzzz1414zzzzzzzz\n"
     ]
    }
   ],
   "source": [
    "print(my_text.center(20,'z'))\n"
   ]
  },
  {
   "cell_type": "code",
   "execution_count": 70,
   "id": "7a625225-3eb3-441a-9e3a-ed453be59ab0",
   "metadata": {},
   "outputs": [
    {
     "name": "stdout",
     "output_type": "stream",
     "text": [
      "hello   hi\n"
     ]
    }
   ],
   "source": [
    "print('hello\\thi'.expandtabs())"
   ]
  },
  {
   "cell_type": "markdown",
   "id": "c7e6c45c-cbdf-4f00-91ce-7cb16246dae1",
   "metadata": {},
   "source": [
    "We can use <code>partition()</code> to return a tuple that includes the first occurrence of the separator sandwiched between the first half and the end half."
   ]
  },
  {
   "cell_type": "code",
   "execution_count": 72,
   "id": "03d6e6c1-7a02-496c-8515-2f32a43eeb8b",
   "metadata": {},
   "outputs": [
    {
     "name": "stdout",
     "output_type": "stream",
     "text": [
      "('he', 'l', 'lo world')\n"
     ]
    }
   ],
   "source": [
    "s = 'hello world'\n",
    "s2 = s.partition('l')\n",
    "print(s2)"
   ]
  },
  {
   "cell_type": "code",
   "execution_count": 19,
   "id": "bbbf6270",
   "metadata": {},
   "outputs": [],
   "source": [
    "# s.isalpha()\n",
    "# s.isdigit()\n",
    "#https://miguendes.me/python-isdigit-isnumeric-isdecimal\n",
    "# s.isalnum()\n",
    "# s.casefold() Converts string into lower case T\n",
    "# s.encode() Returns an encoded version of the string\n",
    "# s.expandtabs() Sets the tab size of the string\n",
    "# s.format() Formats specified values in a string\n",
    "# s.isdecimal() Returns True if all characters in the string are decimals\n",
    "# s.isidentifier() Returns True if the string is an identifier\n",
    "# s.isnumeric() Returns True if all characters in the string are numeric\n",
    "# s.isprintable() Returns True if all characters in the string are printable\n",
    "# s.join() Joins the elements of an iterable to the end of the stringv\n",
    "# s.ljust() Returns a left justified version of the string\n",
    "# s.maketrans() Returns a translation table to be used in translations\n",
    "# s.splitlines() Splits the string at line breaks and returns a list\n",
    "# s.swapcase() Swaps cases, lower case becomes upper case and vice versa\n",
    "# s.translate() Returns a translated string\n",
    "# s.zfill() Fills the string with a specified number of 0 values at the beginning'\n"
   ]
  }
 ],
 "metadata": {
  "kernelspec": {
   "display_name": "Python 3 (ipykernel)",
   "language": "python",
   "name": "python3"
  },
  "language_info": {
   "codemirror_mode": {
    "name": "ipython",
    "version": 3
   },
   "file_extension": ".py",
   "mimetype": "text/x-python",
   "name": "python",
   "nbconvert_exporter": "python",
   "pygments_lexer": "ipython3",
   "version": "3.12.4"
  }
 },
 "nbformat": 4,
 "nbformat_minor": 5
}
