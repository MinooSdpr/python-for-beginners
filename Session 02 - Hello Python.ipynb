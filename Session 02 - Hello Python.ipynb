{
 "cells": [
  {
   "cell_type": "markdown",
   "id": "48ea7133-0374-4779-9911-ede9246656cb",
   "metadata": {},
   "source": [
    "# 🐍 Let's Start Python\n",
    "\n",
    "Welcome to your Python journey!  \n",
    "Before we dive into programming, let's cover some **essentials** to help you get started smoothly.\n",
    "\n",
    "<div style=\"text-align: center;\">\n",
    "  <a href=\"https://colab.research.google.com/github/MinooSdpr/python-for-beginners/blob/main/Session%2002%20-%20Hello%20Python.ipynb\">\n",
    "    <img src=\"https://colab.research.google.com/assets/colab-badge.svg\" alt=\"Open In Colab\" />\n",
    "  </a>\n",
    "  &nbsp;\n",
    "  <a href=\"https://github.com/MinooSdpr/python-for-beginners/blob/main/Session%2002%20-%20Hello%20Python.ipynb\">\n",
    "    <img src=\"https://img.shields.io/badge/Open%20in-GitHub-24292e?logo=github&logoColor=white\" alt=\"Open In GitHub\" />\n",
    "  </a>\n",
    "</div>\n",
    "\n",
    "\n",
    "\n",
    "## 🛠️ Setting Up Your Python Project\n",
    "\n",
    "✅ We recommend using **PyCharm** (or any code editor like VS Code).  \n",
    "Steps to create your first project:\n",
    "- Open PyCharm\n",
    "- Create a new project (choose a name and location)\n",
    "- Create a new Python file (e.g. `main.py`)\n",
    "- Click **Run** to execute your code\n",
    "\n",
    "💡 Don't worry if you use another editor or Jupyter Notebook — the Python code stays the same.\n",
    "\n",
    "---\n",
    "\n",
    "## 🖨️ Your First Python Command: `print()`\n",
    "\n",
    "The `print()` function lets you **display messages** on the screen."
   ]
  },
  {
   "cell_type": "code",
   "execution_count": 2,
   "id": "01b8aaa4-653f-494d-ada1-0f476a537193",
   "metadata": {},
   "outputs": [
    {
     "name": "stdout",
     "output_type": "stream",
     "text": [
      "Hello World!\n"
     ]
    }
   ],
   "source": [
    "print(\"Hello World!\")"
   ]
  },
  {
   "cell_type": "code",
   "execution_count": 3,
   "id": "8b3449d1-002e-47c2-bfb1-bac1560737e1",
   "metadata": {},
   "outputs": [
    {
     "name": "stdout",
     "output_type": "stream",
     "text": [
      "Hello\n",
      "سلام\n",
      "چطوری؟\n"
     ]
    }
   ],
   "source": [
    "print(\"Hello\")\n",
    "print(\"سلام\")\n",
    "print(\"چطوری؟\")"
   ]
  },
  {
   "cell_type": "code",
   "execution_count": 4,
   "id": "86e9a8cd-3aa5-41e6-9259-8869a273f444",
   "metadata": {},
   "outputs": [
    {
     "name": "stdout",
     "output_type": "stream",
     "text": [
      "2.3568\n"
     ]
    }
   ],
   "source": [
    "print(2.3568)"
   ]
  },
  {
   "cell_type": "code",
   "execution_count": 5,
   "id": "7e3c4b28-3e36-407c-95e8-023da8467c6e",
   "metadata": {},
   "outputs": [
    {
     "name": "stdout",
     "output_type": "stream",
     "text": [
      "👋👋\n"
     ]
    }
   ],
   "source": [
    "print('👋👋')"
   ]
  },
  {
   "cell_type": "code",
   "execution_count": 6,
   "id": "9e657728-7cb4-4399-98a5-81593e383d73",
   "metadata": {},
   "outputs": [
    {
     "name": "stdout",
     "output_type": "stream",
     "text": [
      "Python 3 is fun!\n"
     ]
    }
   ],
   "source": [
    "print(\"Python\", 3 ,\"is\", \"fun!\")"
   ]
  },
  {
   "cell_type": "code",
   "execution_count": 7,
   "id": "540328e9-8a42-4beb-a850-7e9fa42ecc4d",
   "metadata": {},
   "outputs": [
    {
     "name": "stdout",
     "output_type": "stream",
     "text": [
      "Python-3-is-fun!\n"
     ]
    }
   ],
   "source": [
    "print(\"Python\", 3, \"is\", \"fun!\", sep=\"-\")\n"
   ]
  },
  {
   "cell_type": "code",
   "execution_count": 8,
   "id": "7b804811-2696-499e-ab08-c41fdb1f9d50",
   "metadata": {},
   "outputs": [
    {
     "name": "stdout",
     "output_type": "stream",
     "text": [
      "2025/6/24\n"
     ]
    }
   ],
   "source": [
    "print(2025, 6, 24, sep=\"/\")"
   ]
  },
  {
   "cell_type": "code",
   "execution_count": 9,
   "id": "6aa6f266-793a-48b2-b725-7fc1ee559d4c",
   "metadata": {},
   "outputs": [
    {
     "name": "stdout",
     "output_type": "stream",
     "text": [
      "Hello world!\n"
     ]
    }
   ],
   "source": [
    "print(\"Hello\", end=\" \")\n",
    "print(\"world!\")"
   ]
  },
  {
   "cell_type": "code",
   "execution_count": 10,
   "id": "166ca1d7-7492-4b75-8882-f5b3b95bdfee",
   "metadata": {},
   "outputs": [
    {
     "name": "stdout",
     "output_type": "stream",
     "text": [
      "A *** B *** C.finish\n"
     ]
    }
   ],
   "source": [
    "print(\"A\", \"B\", \"C\", sep=\" *** \", end=\".\")\n",
    "print('finish')"
   ]
  },
  {
   "cell_type": "markdown",
   "id": "470cea02-f362-4d5c-bb43-722e30615dd8",
   "metadata": {},
   "source": [
    "## Arithmetic in Python"
   ]
  },
  {
   "cell_type": "code",
   "execution_count": 12,
   "id": "44e15d2b-836a-4b7e-bf0b-c07d8896bbea",
   "metadata": {},
   "outputs": [
    {
     "name": "stdout",
     "output_type": "stream",
     "text": [
      "3\n"
     ]
    }
   ],
   "source": [
    "# Addition\n",
    "print(2+1)"
   ]
  },
  {
   "cell_type": "code",
   "execution_count": 13,
   "id": "a0584f15-d971-40c4-a9f7-6afce87479c9",
   "metadata": {},
   "outputs": [
    {
     "name": "stdout",
     "output_type": "stream",
     "text": [
      "1\n"
     ]
    }
   ],
   "source": [
    "# Subtraction\n",
    "print(2-1)"
   ]
  },
  {
   "cell_type": "code",
   "execution_count": 14,
   "id": "c9611947-791a-4975-a668-69423a890ddf",
   "metadata": {},
   "outputs": [
    {
     "name": "stdout",
     "output_type": "stream",
     "text": [
      "6\n"
     ]
    }
   ],
   "source": [
    "# Multiplication\n",
    "print(2*3)"
   ]
  },
  {
   "cell_type": "code",
   "execution_count": 15,
   "id": "a55b2145-0fa9-4f7a-9f21-891fe246d37e",
   "metadata": {},
   "outputs": [
    {
     "name": "stdout",
     "output_type": "stream",
     "text": [
      "2.0\n"
     ]
    }
   ],
   "source": [
    "# Division\n",
    "print(4/2)"
   ]
  },
  {
   "cell_type": "code",
   "execution_count": 16,
   "id": "9b348fdd-263a-4a6b-8ba1-cf86c7e5171a",
   "metadata": {},
   "outputs": [
    {
     "name": "stdout",
     "output_type": "stream",
     "text": [
      "1.75\n",
      "1\n"
     ]
    }
   ],
   "source": [
    "# Floor Division\n",
    "print(7/4)\n",
    "print(7//4)"
   ]
  },
  {
   "cell_type": "markdown",
   "id": "a0766216-4fd8-43eb-8e3c-5014407546c6",
   "metadata": {},
   "source": [
    "We get this result is because we are using \"*floor*\" division. The // operator (two forward slashes) truncates the decimal without rounding, and returns an integer result."
   ]
  },
  {
   "cell_type": "code",
   "execution_count": 18,
   "id": "ed0f16e9-3c55-4bfc-92b8-fe7d7a0488b1",
   "metadata": {},
   "outputs": [
    {
     "name": "stdout",
     "output_type": "stream",
     "text": [
      "3\n"
     ]
    }
   ],
   "source": [
    "# Modulo\n",
    "print(7%4)"
   ]
  },
  {
   "cell_type": "code",
   "execution_count": 19,
   "id": "5479facd-fda4-48c3-a4f3-5c5401cb751a",
   "metadata": {},
   "outputs": [
    {
     "name": "stdout",
     "output_type": "stream",
     "text": [
      "8\n"
     ]
    }
   ],
   "source": [
    "# Powers\n",
    "print(2**3)"
   ]
  },
  {
   "cell_type": "code",
   "execution_count": 20,
   "id": "0f704dd0-4ddb-4463-9c83-1b56d7eb2a94",
   "metadata": {},
   "outputs": [
    {
     "name": "stdout",
     "output_type": "stream",
     "text": [
      "2.0\n"
     ]
    }
   ],
   "source": [
    "# do roots this way\n",
    "print(4**0.5)"
   ]
  },
  {
   "cell_type": "code",
   "execution_count": 21,
   "id": "b1af0a64-3542-4c13-9a7d-9b621fe6d1c3",
   "metadata": {},
   "outputs": [
    {
     "name": "stdout",
     "output_type": "stream",
     "text": [
      "3.0\n"
     ]
    }
   ],
   "source": [
    "print(27**(1/3))"
   ]
  },
  {
   "cell_type": "code",
   "execution_count": 22,
   "id": "a1470d19-e8ff-4b4c-a36f-8a35c5161cb1",
   "metadata": {},
   "outputs": [
    {
     "name": "stdout",
     "output_type": "stream",
     "text": [
      "136.0\n"
     ]
    }
   ],
   "source": [
    "# Order of Operations followed in Python\n",
    "print(2**3 + 10 * (10 + 3) - 18//4/2)"
   ]
  },
  {
   "cell_type": "code",
   "execution_count": 23,
   "id": "e8019aa7-3d9a-4bba-b2f1-d1f9de6044bd",
   "metadata": {},
   "outputs": [
    {
     "name": "stdout",
     "output_type": "stream",
     "text": [
      "156\n"
     ]
    }
   ],
   "source": [
    "# Can use parentheses to specify orders\n",
    "print((2+10) * (10+3))"
   ]
  },
  {
   "cell_type": "markdown",
   "id": "81719caa-86dc-48b4-8969-756980180dd0",
   "metadata": {},
   "source": [
    "# 🧱 Indentation & Code Blocks\n",
    "\n",
    "In Python, **indentation** is not just about style — it’s **part of the syntax**!  \n",
    "Unlike many other programming languages that use curly braces `{}` to define code blocks, Python uses **whitespace (indentation)**.\n"
   ]
  },
  {
   "cell_type": "code",
   "execution_count": 25,
   "id": "da55fcd1-63aa-47da-9c2a-ed81aff33450",
   "metadata": {},
   "outputs": [
    {
     "ename": "SyntaxError",
     "evalue": "invalid syntax (1134630102.py, line 1)",
     "output_type": "error",
     "traceback": [
      "\u001b[1;36m  Cell \u001b[1;32mIn[25], line 1\u001b[1;36m\u001b[0m\n\u001b[1;33m    print('first')  print('second')\u001b[0m\n\u001b[1;37m                    ^\u001b[0m\n\u001b[1;31mSyntaxError\u001b[0m\u001b[1;31m:\u001b[0m invalid syntax\n"
     ]
    }
   ],
   "source": [
    "print('first')  print('second')"
   ]
  },
  {
   "cell_type": "code",
   "execution_count": 50,
   "id": "7ff34213-8626-497a-a4a5-7a14e5d30886",
   "metadata": {},
   "outputs": [
    {
     "ename": "IndentationError",
     "evalue": "unexpected indent (174960967.py, line 6)",
     "output_type": "error",
     "traceback": [
      "\u001b[1;36m  Cell \u001b[1;32mIn[50], line 6\u001b[1;36m\u001b[0m\n\u001b[1;33m    print('second')\u001b[0m\n\u001b[1;37m    ^\u001b[0m\n\u001b[1;31mIndentationError\u001b[0m\u001b[1;31m:\u001b[0m unexpected indent\n"
     ]
    }
   ],
   "source": [
    "print('first')\n",
    "\n",
    "\n",
    "\n",
    "\n",
    "            print('second')"
   ]
  },
  {
   "cell_type": "code",
   "execution_count": 52,
   "id": "68a4652e-71ff-4837-a8e0-a9f935c4bbbe",
   "metadata": {},
   "outputs": [
    {
     "name": "stdout",
     "output_type": "stream",
     "text": [
      "first\n",
      "second\n"
     ]
    }
   ],
   "source": [
    "print('first') \n",
    "print('second')"
   ]
  },
  {
   "cell_type": "markdown",
   "id": "6e53472d-f7ab-442e-a179-023215582ff8",
   "metadata": {},
   "source": [
    "## Comments in python code"
   ]
  },
  {
   "cell_type": "code",
   "execution_count": 55,
   "id": "baa771c9-71e0-42ea-8f0b-fd8a77c57bd5",
   "metadata": {},
   "outputs": [
    {
     "ename": "SyntaxError",
     "evalue": "invalid syntax (1576252560.py, line 13)",
     "output_type": "error",
     "traceback": [
      "\u001b[1;36m  Cell \u001b[1;32mIn[55], line 13\u001b[1;36m\u001b[0m\n\u001b[1;33m    but this is not a comment and gets error\u001b[0m\n\u001b[1;37m        ^\u001b[0m\n\u001b[1;31mSyntaxError\u001b[0m\u001b[1;31m:\u001b[0m invalid syntax\n"
     ]
    }
   ],
   "source": [
    "# This is a comment and won't be run\n",
    "\"\"\"\n",
    "    this is another comment known as summary\n",
    "    and it will be used to have multiple lines comments\n",
    "    it won't be run again\n",
    "    \"\"\"\n",
    "'''\n",
    "three single quotation is also used to indicate multiple\n",
    "line comments\n",
    "when you run the code they won't be executed.\n",
    "'''\n",
    "\n",
    "but this is not a comment and gets error"
   ]
  },
  {
   "cell_type": "markdown",
   "id": "53123128-09a7-49fb-b07f-f341e382d500",
   "metadata": {},
   "source": [
    "# 🧠 Variable Assignments\n",
    "\n",
    "In Python, we use **variables** to store data — like numbers, text, or results of operations.\n",
    "\n",
    "---\n",
    "\n",
    "## 🧾 Syntax\n",
    "\n",
    "We assign values to variables using a **single equals sign `=`**, which is called the **assignment operator**.\n",
    "\n",
    "### 📌 Format:\n",
    "```python\n",
    "variable_name = value"
   ]
  },
  {
   "cell_type": "code",
   "execution_count": 58,
   "id": "10869764-25f1-4387-a27b-4bda6138b0f9",
   "metadata": {},
   "outputs": [
    {
     "name": "stdout",
     "output_type": "stream",
     "text": [
      "10.74\n"
     ]
    }
   ],
   "source": [
    "a = 5.37\n",
    "print(a+a)"
   ]
  },
  {
   "cell_type": "code",
   "execution_count": 60,
   "id": "1fdc816a-1fed-41e5-9d0f-a44cde7ba4de",
   "metadata": {},
   "outputs": [
    {
     "name": "stdout",
     "output_type": "stream",
     "text": [
      "hello\n"
     ]
    }
   ],
   "source": [
    "text = 'hello'\n",
    "print(text)"
   ]
  },
  {
   "cell_type": "code",
   "execution_count": 62,
   "id": "2c2ad20c-ec38-4163-8423-d239f4dd58c4",
   "metadata": {},
   "outputs": [
    {
     "name": "stdout",
     "output_type": "stream",
     "text": [
      "40\n"
     ]
    }
   ],
   "source": [
    "a = 20\n",
    "a = a + a\n",
    "print(a)"
   ]
  },
  {
   "cell_type": "code",
   "execution_count": 64,
   "id": "024c0832-882a-4b18-9bee-6d353664229f",
   "metadata": {},
   "outputs": [
    {
     "name": "stdout",
     "output_type": "stream",
     "text": [
      "25000000\n",
      "25000000\n"
     ]
    }
   ],
   "source": [
    "num1 = 25_000_000\n",
    "num2 = 25000000\n",
    "print(num1)\n",
    "print(num2)"
   ]
  },
  {
   "cell_type": "code",
   "execution_count": 66,
   "id": "ca3f7760-95ca-44ee-85d2-ff76b6d0e862",
   "metadata": {},
   "outputs": [
    {
     "name": "stdout",
     "output_type": "stream",
     "text": [
      "175000.0\n",
      "inf\n"
     ]
    }
   ],
   "source": [
    "num = 1.75e5\n",
    "print(num)\n",
    "print(2e308)"
   ]
  },
  {
   "cell_type": "markdown",
   "id": "6fde8721-f8ad-4972-b7c9-931b17abaa4f",
   "metadata": {},
   "source": [
    "# ✍️ Variable Name Rules\n",
    "\n",
    "When naming your variables in Python, you must follow a few **important rules** to avoid errors and keep your code clean.\n",
    "\n",
    "---\n",
    "\n",
    "## 🚫 Forbidden Rules (Things You MUST NOT Do)\n",
    "\n",
    "1️⃣ **Do not start a variable name with a number**      \n",
    "2️⃣ **No spaces allowed — use `_` instead**    \n",
    "3️⃣ **Avoid special symbols like:** `: ' \", < > / ? \\ | ( ) ! @ # $ % ^ & * ~ - +`    \n",
    "4️⃣ **Don’t use Python reserved keywords** (like `list`, `str`, `for`, `if`, etc.)    \n",
    "5️⃣ **Use lowercase letters and separate words with underscores**     \n",
    "6️⃣ **Avoid using the characters** 'l' (lowercase letter el), 'O' (uppercase letter oh), \n",
    "       or 'I' (uppercase letter eye) as single character variable names."
   ]
  },
  {
   "cell_type": "code",
   "execution_count": 68,
   "id": "dc1aaa7a-eebc-48fc-becd-097a95e4c418",
   "metadata": {},
   "outputs": [
    {
     "ename": "SyntaxError",
     "evalue": "invalid decimal literal (1818301952.py, line 2)",
     "output_type": "error",
     "traceback": [
      "\u001b[1;36m  Cell \u001b[1;32mIn[68], line 2\u001b[1;36m\u001b[0m\n\u001b[1;33m    1a = 13\u001b[0m\n\u001b[1;37m    ^\u001b[0m\n\u001b[1;31mSyntaxError\u001b[0m\u001b[1;31m:\u001b[0m invalid decimal literal\n"
     ]
    }
   ],
   "source": [
    "a1 = 12\n",
    "1a = 13"
   ]
  },
  {
   "cell_type": "code",
   "execution_count": 70,
   "id": "c5dd25e3-666f-4f8d-ad17-572533a3a588",
   "metadata": {},
   "outputs": [
    {
     "ename": "SyntaxError",
     "evalue": "invalid syntax (2922098485.py, line 2)",
     "output_type": "error",
     "traceback": [
      "\u001b[1;36m  Cell \u001b[1;32mIn[70], line 2\u001b[1;36m\u001b[0m\n\u001b[1;33m    number 2 = 21\u001b[0m\n\u001b[1;37m           ^\u001b[0m\n\u001b[1;31mSyntaxError\u001b[0m\u001b[1;31m:\u001b[0m invalid syntax\n"
     ]
    }
   ],
   "source": [
    "number1 = 20\n",
    "number 2 = 21"
   ]
  },
  {
   "cell_type": "code",
   "execution_count": 72,
   "id": "55462e4c-fea6-45c3-b925-a14a0c4b0835",
   "metadata": {},
   "outputs": [
    {
     "ename": "SyntaxError",
     "evalue": "invalid syntax (3105305966.py, line 2)",
     "output_type": "error",
     "traceback": [
      "\u001b[1;36m  Cell \u001b[1;32mIn[72], line 2\u001b[1;36m\u001b[0m\n\u001b[1;33m    n$ = 223\u001b[0m\n\u001b[1;37m     ^\u001b[0m\n\u001b[1;31mSyntaxError\u001b[0m\u001b[1;31m:\u001b[0m invalid syntax\n"
     ]
    }
   ],
   "source": [
    "_ = 1\n",
    "n$ = 223"
   ]
  },
  {
   "cell_type": "markdown",
   "id": "54be6282-e858-475d-a859-d63d88b26c19",
   "metadata": {},
   "source": [
    "## 🧾 Determining Variable Type\n",
    "\n",
    "In Python, every variable holds a value of a certain **data type**.  \n",
    "To check the **type** of any object or variable, you can use the built-in **`type()`** function. Common data types include:\n",
    "\n",
    "---\n",
    "  \n",
    "\n",
    "| Type    | Description                          | Example                    |\n",
    "| ------- | ------------------------------------ | -------------------------- |\n",
    "| `int`   | Integer numbers                      | `x = 10`                   |\n",
    "| `float` | Decimal (floating point) numbers     | `price = 12.99`            |\n",
    "| `str`   | String (text)                        | `name = \"Alice\"`           |\n",
    "| `bool`  | Boolean (True or False)              | `is_active = True`         |\n",
    "| `list`  | Ordered, changeable sequence         | `colors = [\"red\", \"blue\"]` |\n",
    "| `tuple` | Ordered, unchangeable sequence       | `coords = (1, 2)`          |\n",
    "| `dict`  | Key-value pairs                      | `person = {\"name\": \"Bob\"}` |\n",
    "| `set`   | Unordered collection of unique items | `nums = {1, 2, 3}`         |\n",
    "\n",
    "---\n",
    "\n",
    "## 🔍 Syntax\n",
    "\n",
    "```python\n",
    "type(variable_name)   \n"
   ]
  },
  {
   "cell_type": "code",
   "execution_count": 74,
   "id": "10048f28-eb27-4687-b159-7d421a595a6b",
   "metadata": {},
   "outputs": [
    {
     "name": "stdout",
     "output_type": "stream",
     "text": [
      "<class 'str'>\n"
     ]
    }
   ],
   "source": [
    "name = 'Minoo'\n",
    "print(type(name))"
   ]
  },
  {
   "cell_type": "code",
   "execution_count": 76,
   "id": "0eadf85a-6980-4b0f-b440-298fb80551af",
   "metadata": {},
   "outputs": [
    {
     "name": "stdout",
     "output_type": "stream",
     "text": [
      "<class 'int'>\n"
     ]
    }
   ],
   "source": [
    "age = 27\n",
    "print(type(age))"
   ]
  },
  {
   "cell_type": "code",
   "execution_count": 78,
   "id": "56798b10-839c-449c-8bff-72f7fb45d5be",
   "metadata": {},
   "outputs": [
    {
     "name": "stdout",
     "output_type": "stream",
     "text": [
      "<class 'float'>\n"
     ]
    }
   ],
   "source": [
    "weight = 69.730\n",
    "print(type(weight))"
   ]
  },
  {
   "cell_type": "code",
   "execution_count": 80,
   "id": "19354361-6140-4f07-afc0-ec739182c20f",
   "metadata": {},
   "outputs": [
    {
     "name": "stdout",
     "output_type": "stream",
     "text": [
      "<class 'bool'>\n"
     ]
    }
   ],
   "source": [
    "ismale = False\n",
    "print(type(ismale))"
   ]
  },
  {
   "cell_type": "markdown",
   "id": "8abf33e8-5657-4fe8-aa97-8b30cbab1a4b",
   "metadata": {},
   "source": [
    "## The `input()` Function\n",
    "\n",
    "In Python, the `input()` function allows us to get input from the user.  \n",
    "It pauses the program and waits for the user to type something and press Enter.\n",
    "\n",
    "## 📌 Syntax:\n",
    "```python\n",
    "variable = input(\"Your prompt message here: \")"
   ]
  },
  {
   "cell_type": "code",
   "execution_count": 82,
   "id": "6bc03938-56ca-4873-96e3-69481dd6f4b4",
   "metadata": {},
   "outputs": [
    {
     "name": "stdin",
     "output_type": "stream",
     "text": [
      "What is your name?  Minoo\n"
     ]
    },
    {
     "name": "stdout",
     "output_type": "stream",
     "text": [
      "Hello, Minoo!\n"
     ]
    }
   ],
   "source": [
    "name = input(\"What is your name? \")\n",
    "print(\"Hello, \" + name + \"!\")"
   ]
  },
  {
   "cell_type": "markdown",
   "id": "20605dd8-b88a-4ccc-8447-6bd11355261f",
   "metadata": {},
   "source": [
    "💡 Tip: If you want to get a number from the user, use int() or float() to convert the input."
   ]
  },
  {
   "cell_type": "code",
   "execution_count": 84,
   "id": "886f4cf7-7b11-4c00-a99a-9e2d165f5afa",
   "metadata": {},
   "outputs": [
    {
     "name": "stdin",
     "output_type": "stream",
     "text": [
      "Enter your age:  12\n"
     ]
    },
    {
     "name": "stdout",
     "output_type": "stream",
     "text": [
      "You will be 13 next year.\n"
     ]
    }
   ],
   "source": [
    "age = int(input(\"Enter your age: \"))\n",
    "print(\"You will be\", age + 1, \"next year.\")"
   ]
  },
  {
   "cell_type": "markdown",
   "id": "40276665-cc7c-4fd0-b168-ccd942ac2d8a",
   "metadata": {},
   "source": [
    "### 📝 Exercises\n",
    "\n",
    "1. Calculate the perimeter and area of a square given the length of its side.\n",
    "\n",
    "2. Calculate the area of a circle given its radius (use π = 3.14).\n",
    "\n",
    "3. Convert a temperature from Celsius to Fahrenheit using the formula `F = (C * 9/5) + 32`.    \n",
    "*minoosayyadpour3@gmail.com*"
   ]
  },  
{
   "cell_type": "markdown",
   "id": "a5f7e5a6-4fd6-4883-9f84-a2e015d5d2c3",
   "metadata": {},
   "source": [
    "<div style=\"float:right;\">\n",
    "  <a href=\"https://github.com/MinooSdpr/python-for-beginners/blob/main/Session%2003%20-%20Python%20Operators.ipynb\"\n",
    "     style=\"\n",
    "       display:inline-block;\n",
    "       padding:8px 20px;\n",
    "       background-color:#414f6f;\n",
    "       color:white;\n",
    "       border-radius:12px;\n",
    "       text-decoration:none;\n",
    "       font-family:sans-serif;\n",
    "       transition:background-color 0.3s ease;\n",
    "     \"\n",
    "     onmouseover=\"this.style.backgroundColor='#2f3a52';\"\n",
    "     onmouseout=\"this.style.backgroundColor='#414f6f';\">\n",
    "    ▶️ Next\n",
    "  </a>\n",
    "</div>"
   ]
  }
 ],
 "metadata": {
  "kernelspec": {
   "display_name": "Python 3 (ipykernel)",
   "language": "python",
   "name": "python3"
  },
  "language_info": {
   "codemirror_mode": {
    "name": "ipython",
    "version": 3
   },
   "file_extension": ".py",
   "mimetype": "text/x-python",
   "name": "python",
   "nbconvert_exporter": "python",
   "pygments_lexer": "ipython3",
   "version": "3.12.4"
  }
 },
 "nbformat": 4,
 "nbformat_minor": 5
}
