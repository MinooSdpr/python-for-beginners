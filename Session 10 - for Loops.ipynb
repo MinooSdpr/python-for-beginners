{
 "cells": [
  {
   "cell_type": "markdown",
   "metadata": {},
   "source": [
    "\n",
    "# 📘 Mastering `for` Loops in Python**\n",
    "\n",
    "In this session, we'll dive deep into one of the most essential tools in programming: the **`for` loop**. Whether you're iterating over lists, strings, or ranges, `for` loops help you automate repetitive tasks and make your code cleaner and more efficient.\n",
    "\n",
    "<div style=\"text-align: center;\">\n",
    "  <a href=\"https://colab.research.google.com/github/MinooSdpr/python-for-beginners/blob/main/Session%2007/Session%2007_3%20-%20Tuples%20Quiz.ipynb\">\n",
    "    <img src=\"https://colab.research.google.com/assets/colab-badge.svg\" alt=\"Open In Colab\" />\n",
    "  </a>\n",
    "  &nbsp;\n",
    "  <a href=\"https://github.com/MinooSdpr/python-for-beginners/blob/main/Session%2007/Session%2007_3%20-%20Tuples%20Quiz.ipynb\">\n",
    "    <img src=\"https://img.shields.io/badge/Open%20in-GitHub-24292e?logo=github&logoColor=white\" alt=\"Open In GitHub\" />\n",
    "  </a>\n",
    "</div>\n",
    "\n",
    "## 🎯 **Learning Objectives**\n",
    "\n",
    "By the end of this session, you will be able to:\n",
    "\n",
    "* Understand the syntax and structure of `for` loops in Python\n",
    "* Use `for` loops to iterate over different data structures like lists and strings\n",
    "* Combine `for` loops with functions like `range()` to generate custom sequences\n",
    "* Solve real-world problems using iteration\n",
    "\n",
    "---\n",
    "\n",
    "## 🔁 **Basic Structure of a `for` Loop**\n",
    "\n",
    "Let's begin with a simple example that prints each item in a list:\n",
    "\n",
    "```python\n",
    "\n",
    "for variable in iterable:\n",
    "    # Do sth\n",
    "```\n"
   ]
  },
  {
   "cell_type": "markdown",
   "metadata": {},
   "source": [
    "The variable name used for the item is completely up to the coder, so use your best judgment for choosing a name that makes sense and you will be able to understand when revisiting your code. This item name can then be referenced inside your loop, for example if you wanted to use <code>if</code> statements to perform checks.\n",
    "\n",
    "## Example 1\n",
    "Iterating through a list"
   ]
  },
  {
   "cell_type": "code",
   "execution_count": 1,
   "metadata": {},
   "outputs": [],
   "source": [
    "# We'll learn how to automate this sort of list in the next lecture\n",
    "list1 = [1,2,3,4,5,6,7,8,9,10]"
   ]
  },
  {
   "cell_type": "code",
   "execution_count": 2,
   "metadata": {},
   "outputs": [
    {
     "name": "stdout",
     "output_type": "stream",
     "text": [
      "1\n",
      "2\n",
      "3\n",
      "4\n",
      "5\n",
      "6\n",
      "7\n",
      "8\n",
      "9\n",
      "10\n"
     ]
    }
   ],
   "source": [
    "for num in list1:\n",
    "    print(num)"
   ]
  },
  {
   "cell_type": "markdown",
   "metadata": {},
   "source": [
    "## Example 2\n",
    "Let's print only the even numbers from that list!"
   ]
  },
  {
   "cell_type": "code",
   "execution_count": 3,
   "metadata": {},
   "outputs": [
    {
     "name": "stdout",
     "output_type": "stream",
     "text": [
      "2\n",
      "4\n",
      "6\n",
      "8\n",
      "10\n"
     ]
    }
   ],
   "source": [
    "for num in list1:\n",
    "    if num % 2 == 0:\n",
    "        print(num)"
   ]
  },
  {
   "cell_type": "markdown",
   "metadata": {},
   "source": [
    "We could have also put an <code>else</code> statement in there:"
   ]
  },
  {
   "cell_type": "code",
   "execution_count": 4,
   "metadata": {},
   "outputs": [
    {
     "name": "stdout",
     "output_type": "stream",
     "text": [
      "Odd number\n",
      "2\n",
      "Odd number\n",
      "4\n",
      "Odd number\n",
      "6\n",
      "Odd number\n",
      "8\n",
      "Odd number\n",
      "10\n"
     ]
    }
   ],
   "source": [
    "for num in list1:\n",
    "    if num % 2 == 0:\n",
    "        print(num)\n",
    "    else:\n",
    "        print('Odd number')"
   ]
  },
  {
   "cell_type": "markdown",
   "metadata": {},
   "source": [
    "## Example 3\n",
    "Create a <code>for</code> loop that sums up the list:"
   ]
  },
  {
   "cell_type": "code",
   "execution_count": 5,
   "metadata": {},
   "outputs": [
    {
     "name": "stdout",
     "output_type": "stream",
     "text": [
      "55\n"
     ]
    }
   ],
   "source": [
    "# Start sum at zero\n",
    "list_sum = 0 \n",
    "\n",
    "for num in list1:\n",
    "    list_sum = list_sum + num\n",
    "\n",
    "print(list_sum)"
   ]
  },
  {
   "cell_type": "markdown",
   "metadata": {},
   "source": [
    "Also we could have implemented a <code>+=</code> to perform the addition towards the sum."
   ]
  },
  {
   "cell_type": "code",
   "execution_count": 6,
   "metadata": {},
   "outputs": [
    {
     "name": "stdout",
     "output_type": "stream",
     "text": [
      "55\n"
     ]
    }
   ],
   "source": [
    "# Start sum at zero\n",
    "list_sum = 0 \n",
    "\n",
    "for num in list1:\n",
    "    list_sum += num\n",
    "\n",
    "print(list_sum)"
   ]
  },
  {
   "cell_type": "markdown",
   "metadata": {},
   "source": [
    "## Example 4\n",
    "Remember strings are a sequence so when we iterate through them we will be accessing each item in that string."
   ]
  },
  {
   "cell_type": "code",
   "execution_count": 7,
   "metadata": {},
   "outputs": [
    {
     "name": "stdout",
     "output_type": "stream",
     "text": [
      "T\n",
      "h\n",
      "i\n",
      "s\n",
      " \n",
      "i\n",
      "s\n",
      " \n",
      "a\n",
      " \n",
      "s\n",
      "t\n",
      "r\n",
      "i\n",
      "n\n",
      "g\n",
      ".\n"
     ]
    }
   ],
   "source": [
    "for letter in 'This is a string.':\n",
    "    print(letter)"
   ]
  },
  {
   "cell_type": "markdown",
   "metadata": {},
   "source": [
    "*what about use that for index of any iterator*"
   ]
  },
  {
   "cell_type": "markdown",
   "metadata": {},
   "source": [
    "## 🔢 **Understanding the `range()` Function**\n",
    "\n",
    "The `range()` function is a powerful and commonly used tool in Python that helps you **generate sequences of integers**—perfect for when you need to loop a specific number of times!\n",
    "\n",
    "### 🛠️ **Syntax Overview**\n",
    "\n",
    "```python\n",
    "range(start, stop, step)\n",
    "```\n",
    "\n",
    "* **`start`** *(optional)*: The number to start from (default is `0`)\n",
    "* **`stop`**: The number to stop *before* (this is required)\n",
    "* **`step`** *(optional)*: The difference between each number (default is `1`)\n",
    "\n",
    "### 💡 Why It’s Useful:\n",
    "\n",
    "You’ll use `range()` all the time in loops when you want to:\n",
    "\n",
    "* Repeat an action a fixed number of times\n",
    "* Generate a list of numbers in a specific pattern\n",
    "* Access items in a list using their index\n"
   ]
  },
  {
   "cell_type": "code",
   "execution_count": 8,
   "metadata": {},
   "outputs": [
    {
     "name": "stdout",
     "output_type": "stream",
     "text": [
      "range(0, 11)\n"
     ]
    }
   ],
   "source": [
    "print(range(0,11))"
   ]
  },
  {
   "cell_type": "code",
   "execution_count": 9,
   "metadata": {},
   "outputs": [
    {
     "name": "stdout",
     "output_type": "stream",
     "text": [
      "[0, 1, 2, 3, 4, 5, 6, 7, 8, 9, 10]\n"
     ]
    }
   ],
   "source": [
    "print(list(range(11)))"
   ]
  },
  {
   "cell_type": "code",
   "execution_count": 10,
   "metadata": {},
   "outputs": [
    {
     "name": "stdout",
     "output_type": "stream",
     "text": [
      "[0, 1, 2, 3, 4, 5, 6, 7, 8, 9, 10, 11]\n"
     ]
    }
   ],
   "source": [
    "print(list(range(0,12)))"
   ]
  },
  {
   "cell_type": "code",
   "execution_count": 11,
   "metadata": {},
   "outputs": [
    {
     "name": "stdout",
     "output_type": "stream",
     "text": [
      "[0, 2, 4, 6, 8, 10]\n"
     ]
    }
   ],
   "source": [
    "print(list(range(0,12,2)))"
   ]
  },
  {
   "cell_type": "code",
   "execution_count": 12,
   "metadata": {},
   "outputs": [
    {
     "name": "stdout",
     "output_type": "stream",
     "text": [
      "(10, 20, 30, 40, 50, 60, 70, 80, 90, 100)\n"
     ]
    }
   ],
   "source": [
    "print(tuple(range(10,101,10)))"
   ]
  },
  {
   "cell_type": "code",
   "execution_count": 13,
   "metadata": {},
   "outputs": [
    {
     "name": "stdout",
     "output_type": "stream",
     "text": [
      "Th\n",
      "is\n",
      " i\n",
      "s \n",
      "a \n",
      "st\n",
      "ri\n",
      "ng\n",
      ".\n"
     ]
    }
   ],
   "source": [
    "string = 'This is a string.'\n",
    "for i in range(0, len(string), 2):\n",
    "    print(string[i:i+2])"
   ]
  },
  {
   "cell_type": "markdown",
   "metadata": {},
   "source": [
    "## Example 5\n",
    "Let's now look at how a <code>for</code> loop can be used with a tuple:"
   ]
  },
  {
   "cell_type": "code",
   "execution_count": 14,
   "metadata": {},
   "outputs": [
    {
     "name": "stdout",
     "output_type": "stream",
     "text": [
      "1\n",
      "2\n",
      "3\n",
      "4\n",
      "5\n"
     ]
    }
   ],
   "source": [
    "tup = (1,2,3,4,5)\n",
    "\n",
    "for t in tup:\n",
    "    print(t)"
   ]
  },
  {
   "cell_type": "markdown",
   "metadata": {},
   "source": [
    "## Example 6\n",
    "Tuples have a special quality when it comes to <code>for</code> loops. If you are iterating through a sequence that contains tuples, the item can actually be the tuple itself, this is an example of *tuple unpacking*. During the <code>for</code> loop we will be unpacking the tuple inside of a sequence and we can access the individual items inside that tuple!"
   ]
  },
  {
   "cell_type": "code",
   "execution_count": 15,
   "metadata": {},
   "outputs": [],
   "source": [
    "list2 = [(2,4),(6,8),(10,12)]"
   ]
  },
  {
   "cell_type": "code",
   "execution_count": 16,
   "metadata": {},
   "outputs": [
    {
     "name": "stdout",
     "output_type": "stream",
     "text": [
      "(2, 4)\n",
      "(6, 8)\n",
      "(10, 12)\n"
     ]
    }
   ],
   "source": [
    "for tup in list2:\n",
    "    print(tup)"
   ]
  },
  {
   "cell_type": "code",
   "execution_count": 17,
   "metadata": {},
   "outputs": [
    {
     "name": "stdout",
     "output_type": "stream",
     "text": [
      "2\n",
      "6\n",
      "10\n"
     ]
    }
   ],
   "source": [
    "# Now with unpacking!\n",
    "for (t1,t2) in list2:\n",
    "    print(t1)"
   ]
  },
  {
   "cell_type": "markdown",
   "metadata": {},
   "source": [
    "## Example 7"
   ]
  },
  {
   "cell_type": "code",
   "execution_count": 18,
   "metadata": {},
   "outputs": [],
   "source": [
    "d = {'k1':1,'k2':2,'k3':3}"
   ]
  },
  {
   "cell_type": "code",
   "execution_count": 19,
   "metadata": {},
   "outputs": [
    {
     "name": "stdout",
     "output_type": "stream",
     "text": [
      "k1\n",
      "k2\n",
      "k3\n"
     ]
    }
   ],
   "source": [
    "for item in d:\n",
    "    print(item)"
   ]
  },
  {
   "cell_type": "markdown",
   "metadata": {},
   "source": [
    "Since the .items() method supports iteration, we can perform *dictionary unpacking* to separate keys and values just as we did in the previous examples."
   ]
  },
  {
   "cell_type": "code",
   "execution_count": 20,
   "metadata": {},
   "outputs": [
    {
     "name": "stdout",
     "output_type": "stream",
     "text": [
      "k1\n",
      "1\n",
      "k2\n",
      "2\n",
      "k3\n",
      "3\n"
     ]
    }
   ],
   "source": [
    "# Dictionary unpacking\n",
    "for k,v in d.items():\n",
    "    print(k)\n",
    "    print(v) "
   ]
  },
  {
   "cell_type": "markdown",
   "metadata": {},
   "source": [
    "If you want to obtain a true list of keys, values, or key/value tuples, you can *cast* the view as a list:"
   ]
  },
  {
   "cell_type": "code",
   "execution_count": 21,
   "metadata": {},
   "outputs": [
    {
     "name": "stdout",
     "output_type": "stream",
     "text": [
      "['k1', 'k2', 'k3']\n"
     ]
    }
   ],
   "source": [
    "print(list(d.keys()))"
   ]
  },
  {
   "cell_type": "markdown",
   "metadata": {},
   "source": [
    "Remember that dictionaries are unordered, and that keys and values come back in arbitrary order. You can obtain a sorted list using sorted():"
   ]
  },
  {
   "cell_type": "code",
   "execution_count": 22,
   "metadata": {},
   "outputs": [
    {
     "data": {
      "text/plain": [
       "[1, 2, 3]"
      ]
     },
     "execution_count": 22,
     "metadata": {},
     "output_type": "execute_result"
    }
   ],
   "source": [
    "sorted(d.values())"
   ]
  },
  {
   "cell_type": "markdown",
   "metadata": {},
   "source": [
    "## Example 8\n",
    "print each character in **\"Python Course\"**"
   ]
  },
  {
   "cell_type": "code",
   "execution_count": 23,
   "metadata": {
    "scrolled": true
   },
   "outputs": [
    {
     "name": "stdout",
     "output_type": "stream",
     "text": [
      "P\n",
      "y\n",
      "t\n",
      "h\n",
      "o\n",
      "n\n",
      " \n",
      "C\n",
      "o\n",
      "u\n",
      "r\n",
      "s\n",
      "e\n"
     ]
    }
   ],
   "source": [
    "for i in \"Python Course\":\n",
    "    print(i)"
   ]
  },
  {
   "cell_type": "markdown",
   "metadata": {},
   "source": [
    "## Example 9\n",
    "print each word in **\"Python Course\"**"
   ]
  },
  {
   "cell_type": "code",
   "execution_count": 24,
   "metadata": {},
   "outputs": [
    {
     "name": "stdout",
     "output_type": "stream",
     "text": [
      "Python\n",
      "Course\n"
     ]
    }
   ],
   "source": [
    "for i in \"Python Course\".split():\n",
    "    print(i)\n",
    "\n"
   ]
  },
  {
   "cell_type": "markdown",
   "metadata": {},
   "source": [
    "## Example 10\n",
    "build a list of square of each number in range of 0 to 7 "
   ]
  },
  {
   "cell_type": "code",
   "execution_count": 25,
   "metadata": {},
   "outputs": [
    {
     "name": "stdout",
     "output_type": "stream",
     "text": [
      "[0, 1, 4, 9, 16, 25, 36, 49]\n"
     ]
    }
   ],
   "source": [
    "nums = list(range(8))\n",
    "\n",
    "squares = []\n",
    "\n",
    "for i in nums:\n",
    "    squares.append(i**2)\n",
    "print(squares)"
   ]
  },
  {
   "cell_type": "markdown",
   "metadata": {},
   "source": [
    "## Example 11\n",
    "Find maximum element of a list"
   ]
  },
  {
   "cell_type": "code",
   "execution_count": 26,
   "metadata": {},
   "outputs": [
    {
     "name": "stdout",
     "output_type": "stream",
     "text": [
      "3\n",
      "max1:  5\n",
      "i:  5\n",
      "max1:  12\n",
      "i:  12\n",
      "max1:  65\n",
      "i:  65\n",
      "65\n"
     ]
    }
   ],
   "source": [
    "mylist = [3,5,12,7,65,35]\n",
    "print(mylist[0])\n",
    "\n",
    "max1 = mylist[0]\n",
    "\n",
    "for i in mylist:\n",
    "    if i > max1:\n",
    "        max1 = i\n",
    "        print(\"max1: \", max1)\n",
    "        print(\"i: \", i)\n",
    "print(max1)"
   ]
  },
  {
   "cell_type": "markdown",
   "metadata": {},
   "source": [
    "## Example 12\n",
    "Display all the factors of a number chosen by the user"
   ]
  },
  {
   "cell_type": "code",
   "execution_count": 27,
   "metadata": {},
   "outputs": [
    {
     "name": "stdin",
     "output_type": "stream",
     "text": [
      "Enter a positive integer:  10\n"
     ]
    },
    {
     "name": "stdout",
     "output_type": "stream",
     "text": [
      "1 is a factor of 10\n",
      "2 is a factor of 10\n",
      "5 is a factor of 10\n",
      "10 is a factor of 10\n"
     ]
    }
   ],
   "source": [
    "num = int(input(\"Enter a positive integer: \"))\n",
    "for divisor in range(1, num + 1):\n",
    "    if num % divisor == 0:\n",
    "        print(f\"{divisor} is a factor of {num}\")"
   ]
  },
  {
   "cell_type": "markdown",
   "metadata": {},
   "source": [
    "## 🔂 **Nested `for` Loops in Python**\n",
    "\n",
    "A **nested `for` loop** means placing one loop *inside* another. It’s like looping within a loop — useful when working with **multi-dimensional data** or handling combinations of elements.\n",
    "\n",
    "### 🧠 **Concept**\n",
    "\n",
    "You can use nested loops when:\n",
    "\n",
    "* You need to compare or combine elements from two sequences\n",
    "* You're working with **lists of lists** (like grids or matrices)\n",
    "\n",
    "### 🧾 **General Structure**\n",
    "\n",
    "```python\n",
    "for item1 in object1:\n",
    "    for item2 in object2:\n",
    "        # Do something with item2 or item1\n",
    "    # You can also do something with item1 here\n",
    "```\n",
    "\n",
    "### 📌 **Use Case: Working with a List of Lists**\n",
    "\n",
    "Nested loops are essential when dealing with **2D data structures**, like:"
   ]
  },
  {
   "cell_type": "code",
   "execution_count": 28,
   "metadata": {},
   "outputs": [
    {
     "name": "stdout",
     "output_type": "stream",
     "text": [
      "1 2 3 \n",
      "4 5 6 \n",
      "7 8 9 \n"
     ]
    }
   ],
   "source": [
    "matrix = [\n",
    "    [1, 2, 3],\n",
    "    [4, 5, 6],\n",
    "    [7, 8, 9]\n",
    "]\n",
    "\n",
    "for row in matrix:\n",
    "    for element in row:\n",
    "        print(element, end=\" \")\n",
    "    print() "
   ]
  },
  {
   "cell_type": "code",
   "execution_count": 29,
   "metadata": {},
   "outputs": [
    {
     "name": "stdout",
     "output_type": "stream",
     "text": [
      "1 * 1 = 1\t1 * 2 = 2\t1 * 3 = 3\t1 * 4 = 4\t1 * 5 = 5\t\n",
      "2 * 1 = 2\t2 * 2 = 4\t2 * 3 = 6\t2 * 4 = 8\t2 * 5 = 10\t\n",
      "3 * 1 = 3\t3 * 2 = 6\t3 * 3 = 9\t3 * 4 = 12\t3 * 5 = 15\t\n",
      "4 * 1 = 4\t4 * 2 = 8\t4 * 3 = 12\t4 * 4 = 16\t4 * 5 = 20\t\n",
      "5 * 1 = 5\t5 * 2 = 10\t5 * 3 = 15\t5 * 4 = 20\t5 * 5 = 25\t\n",
      "6 * 1 = 6\t6 * 2 = 12\t6 * 3 = 18\t6 * 4 = 24\t6 * 5 = 30\t\n",
      "7 * 1 = 7\t7 * 2 = 14\t7 * 3 = 21\t7 * 4 = 28\t7 * 5 = 35\t\n",
      "8 * 1 = 8\t8 * 2 = 16\t8 * 3 = 24\t8 * 4 = 32\t8 * 5 = 40\t\n",
      "9 * 1 = 9\t9 * 2 = 18\t9 * 3 = 27\t9 * 4 = 36\t9 * 5 = 45\t\n",
      "10 * 1 = 10\t10 * 2 = 20\t10 * 3 = 30\t10 * 4 = 40\t10 * 5 = 50\t\n"
     ]
    }
   ],
   "source": [
    "for i in range(1, 11):\n",
    "    for j in range(1, 6):\n",
    "        result = i * j\n",
    "        print(f\"{i} * {j} = {result}\",end = '\\t')\n",
    "        \n",
    "    print()"
   ]
  },
  {
   "cell_type": "code",
   "execution_count": 30,
   "metadata": {},
   "outputs": [
    {
     "name": "stdin",
     "output_type": "stream",
     "text": [
      "Enter number of rows:  3\n"
     ]
    },
    {
     "name": "stdout",
     "output_type": "stream",
     "text": [
      "  *\n",
      " ***\n",
      "*****\n"
     ]
    }
   ],
   "source": [
    "rows = int(input('Enter number of rows: '))\n",
    "\n",
    "# Outer loop for rows\n",
    "for i in range(rows):\n",
    "    # Print spaces before the stars\n",
    "    for j in range(rows - i - 1):\n",
    "        print(\" \", end=\"\")\n",
    "    \n",
    "    # Print stars\n",
    "    for k in range(2 * i + 1):\n",
    "        print(\"*\", end=\"\")\n",
    "    \n",
    "    print()"
   ]
  },
  {
   "cell_type": "code",
   "execution_count": 31,
   "metadata": {},
   "outputs": [
    {
     "name": "stdin",
     "output_type": "stream",
     "text": [
      "Enter number of rows:  5\n"
     ]
    },
    {
     "name": "stdout",
     "output_type": "stream",
     "text": [
      "*********\n",
      " *******\n",
      "  *****\n",
      "   ***\n",
      "    *\n"
     ]
    }
   ],
   "source": [
    "rows = int(input('Enter number of rows: '))\n",
    "\n",
    "# Outer loop for rows\n",
    "for i in range(rows):\n",
    "    # Print spaces before the stars\n",
    "    for j in range(i):\n",
    "        print(\" \", end=\"\")\n",
    "    \n",
    "    # Print stars\n",
    "    for k in range(2 * (rows - i) - 1):\n",
    "        print(\"*\", end=\"\")\n",
    "    \n",
    "    print()"
   ]
  },
  {
   "cell_type": "markdown",
   "metadata": {},
   "source": [
    "\n",
    "\n",
    "## 🧠 **Quiz Time**\n",
    "\n",
    "### 1️⃣ **Average Student Height**\n",
    "\n",
    "📥 Prompt the user to enter a list of student heights (in cm), separated by spaces.\n",
    "📊 Calculate and display the **average height**.\n",
    "\n",
    "### 2️⃣ **Highest Student Score**\n",
    "\n",
    "📥 Ask the user for a list of student scores (e.g., 0–100).\n",
    "🏆 Print out the **maximum score**.\n",
    "\n",
    "### 3️⃣ **Prime Numbers Finder**\n",
    "\n",
    "🔢 Ask the user for a number, and display all **prime numbers** from `1` to that number.\n",
    "\n",
    "\n",
    "### 4️⃣ **Count Vowels in a Sentence**\n",
    "\n",
    "🗣️ Ask the user for a sentence, and count how many **vowels** it contains.\n",
    "\n",
    "### 5️⃣ **Grade Summary Report (Using Dictionary + `for` Loop)**\n",
    "\n",
    "🧾 You are given a dictionary that contains student names and their scores.\n",
    "🔁 Use a `for` loop to print each student's name along with a message saying whether they **passed** (score ≥ 60) or **failed**.\n",
    "\n",
    "```python\n",
    "students = {\n",
    "    \"Alice\": 85,\n",
    "    \"Bob\": 42,\n",
    "    \"Charlie\": 77,\n",
    "    \"Diana\": 59,\n",
    "    \"Ethan\": 90\n",
    "}\n",
    "```\n",
    "\n",
    "---"
   ]
  },
  {
   "cell_type": "code",
   "execution_count": null,
   "metadata": {},
   "outputs": [],
   "source": []
  },
  {
   "cell_type": "markdown",
   "metadata": {},
   "source": [
    "<div style=\"float:right;\">\n",
    "  <a href=\"https://github.com/MinooSdpr/python-for-beginners/blob/main/Session%2008/Session%2008_1%20-%20Sets%20and%20Booleans.ipynb\"\n",
    "     style=\"\n",
    "       display:inline-block;\n",
    "       padding:8px 20px;\n",
    "       background-color:#414f6f;\n",
    "       color:white;\n",
    "       border-radius:12px;\n",
    "       text-decoration:none;\n",
    "       font-family:sans-serif;\n",
    "       transition:background-color 0.3s ease;\n",
    "     \"\n",
    "     onmouseover=\"this.style.backgroundColor='#2f3a52';\"\n",
    "     onmouseout=\"this.style.backgroundColor='#414f6f';\">\n",
    "    ▶️ Next\n",
    "  </a>\n",
    "</div>"
   ]
  }
 ],
 "metadata": {
  "kernelspec": {
   "display_name": "Python [conda env:base] *",
   "language": "python",
   "name": "conda-base-py"
  },
  "language_info": {
   "codemirror_mode": {
    "name": "ipython",
    "version": 3
   },
   "file_extension": ".py",
   "mimetype": "text/x-python",
   "name": "python",
   "nbconvert_exporter": "python",
   "pygments_lexer": "ipython3",
   "version": "3.12.7"
  }
 },
 "nbformat": 4,
 "nbformat_minor": 4
}
