{
 "cells": [
  {
   "cell_type": "markdown",
   "metadata": {},
   "source": [
    "# 📆 Python `datetime` Module Tutorial\n",
    "\n",
    "This notebook is a hands-on guide to using the built-in `datetime` module in Python. It covers everything from basic date and time handling to formatting, parsing, arithmetic, and working with time zones. Whether you're working with logs, timestamps, schedules, or any time-based data, this tutorial will help you understand how to manipulate temporal data effectively.\n",
    "\n",
    "## 🚀 What You'll Learn:\n",
    "\n",
    "1. 📦 **Importing Basics**  \n",
    "   How to import `date`, `time`, `datetime`, `timedelta`.\n",
    "\n",
    "2. 📅 **Dates**  \n",
    "   - Get today’s date  \n",
    "   - Create & inspect custom dates\n",
    "\n",
    "3. ⏰ **Times**  \n",
    "   - Create `time` objects  \n",
    "   - Access hour, minute, second\n",
    "\n",
    "4. 📆 **Datetimes**  \n",
    "   - Current datetime  \n",
    "   - Custom datetime creation  \n",
    "   - Extract parts (year, hour, etc.)\n",
    "\n",
    "5. ➕ **`timedelta` Arithmetic**  \n",
    "   - Add/subtract time  \n",
    "   - Calculate date differences\n",
    "\n",
    "6. 🕐 **Formatting with `strftime`**  \n",
    "   - Turn datetimes into strings  \n",
    "   - Format codes guide: [strftime.org](https://strftime.org/)\n",
    "\n",
    "7. 🔄 **Parsing with `strptime`**  \n",
    "   - Convert strings to datetime\n",
    "\n",
    "8. 🌍 **Time Zones (Python 3.9+)**  \n",
    "   - Use `zoneinfo`  \n",
    "   - Convert between time zones\n",
    "\n",
    "---\n",
    "\n",
    "<div style=\"text-align: center;\">\n",
    "  <a href=\"https://colab.research.google.com/github/MinooSdpr/python-for-beginners/blob/main/Session%2007/Session%2007_3%20-%20Tuples%20Quiz.ipynb\">\n",
    "    <img src=\"https://colab.research.google.com/assets/colab-badge.svg\" alt=\"Open In Colab\" />\n",
    "  </a>\n",
    "  &nbsp;\n",
    "  <a href=\"https://github.com/MinooSdpr/python-for-beginners/blob/main/Session%2007/Session%2007_3%20-%20Tuples%20Quiz.ipynb\">\n",
    "    <img src=\"https://img.shields.io/badge/Open%20in-GitHub-24292e?logo=github&logoColor=white\" alt=\"Open In GitHub\" />\n",
    "  </a>\n",
    "</div>"
   ]
  },
  {
   "cell_type": "code",
   "execution_count": 1,
   "metadata": {},
   "outputs": [],
   "source": [
    "import datetime"
   ]
  },
  {
   "cell_type": "markdown",
   "metadata": {},
   "source": [
    "## 📅 Working with `date`\n",
    "\n",
    "The `date` class from the `datetime` module is used to work with calendar dates (year, month, and day).\n",
    "\n",
    "### In this section, you'll learn how to:\n",
    "- Get today's date\n",
    "- Create a specific date\n",
    "- Access individual components (year, month, day)\n"
   ]
  },
  {
   "cell_type": "code",
   "execution_count": 2,
   "metadata": {},
   "outputs": [
    {
     "name": "stdout",
     "output_type": "stream",
     "text": [
      "2025-07-30\n",
      "ctime: Wed Jul 30 00:00:00 2025\n",
      "tuple: time.struct_time(tm_year=2025, tm_mon=7, tm_mday=30, tm_hour=0, tm_min=0, tm_sec=0, tm_wday=2, tm_yday=211, tm_isdst=-1)\n",
      "ordinal: 739462\n"
     ]
    }
   ],
   "source": [
    "today = datetime.date.today()\n",
    "print(today)\n",
    "print('ctime:', today.ctime())\n",
    "print('tuple:', today.timetuple())\n",
    "print('ordinal:', today.toordinal())"
   ]
  },
  {
   "cell_type": "code",
   "execution_count": 3,
   "metadata": {},
   "outputs": [
    {
     "name": "stdout",
     "output_type": "stream",
     "text": [
      "Earliest  : 0001-01-01\n",
      "Latest    : 9999-12-31\n",
      "Resolution: 1 day, 0:00:00\n"
     ]
    }
   ],
   "source": [
    "print('Earliest  :', datetime.date.min)\n",
    "print('Latest    :', datetime.date.max)\n",
    "print('Resolution:', datetime.date.resolution)"
   ]
  },
  {
   "cell_type": "code",
   "execution_count": 4,
   "metadata": {},
   "outputs": [
    {
     "name": "stdout",
     "output_type": "stream",
     "text": [
      "🗓️ Specific date: 2025-07-30\n",
      "Year: 2025\n",
      "Month: 7\n",
      "Day: 30\n"
     ]
    }
   ],
   "source": [
    "from datetime import date\n",
    "\n",
    "specific_date = date(2025, 7, 30)\n",
    "print(\"🗓️ Specific date:\", specific_date)\n",
    "\n",
    "print(\"Year:\", specific_date.year)\n",
    "print(\"Month:\", specific_date.month)\n",
    "print(\"Day:\", specific_date.day)"
   ]
  },
  {
   "cell_type": "code",
   "execution_count": 5,
   "metadata": {},
   "outputs": [
    {
     "name": "stdout",
     "output_type": "stream",
     "text": [
      "Weekday (0=Mon): 2\n",
      "ISO Weekday (1=Mon): 3\n"
     ]
    }
   ],
   "source": [
    "print(\"Weekday (0=Mon):\", today.weekday())\n",
    "print(\"ISO Weekday (1=Mon):\", today.isoweekday())"
   ]
  },
  {
   "cell_type": "code",
   "execution_count": 6,
   "metadata": {},
   "outputs": [
    {
     "name": "stdout",
     "output_type": "stream",
     "text": [
      "Is d1 before d2? True\n"
     ]
    }
   ],
   "source": [
    "d1 = date(2025, 1, 1)\n",
    "d2 = date(2025, 12, 31)\n",
    "print(\"Is d1 before d2?\", d1 < d2)"
   ]
  },
  {
   "cell_type": "markdown",
   "metadata": {},
   "source": [
    "## ⏰ Working with `time`\n",
    "\n",
    "The `time` class from the `datetime` module is used to represent time independent of any date — specifically the hour, minute, second, microsecond, and timezone.\n",
    "\n",
    "### In this section, you'll learn how to:\n",
    "- Create a time object\n",
    "- Access individual components (hour, minute, second, microsecond)\n",
    "- Format the time\n",
    "- Understand default values\n",
    "- Explore min, max, and resolution of `time`\n"
   ]
  },
  {
   "cell_type": "code",
   "execution_count": 7,
   "metadata": {},
   "outputs": [
    {
     "name": "stdout",
     "output_type": "stream",
     "text": [
      "🕒 Full time: 14:30:15.500000\n",
      "Hour: 14\n",
      "Minute: 30\n",
      "Second: 15\n",
      "Microsecond: 500000\n",
      "🕑 Default time (no arguments): 00:00:00\n",
      "Formatted time (12-hour): 02:30:15 PM\n",
      "⏱️ Minimum time: 00:00:00\n",
      "⏱️ Maximum time: 23:59:59.999999\n",
      "⏱️ Smallest resolution: 0:00:00.000001\n"
     ]
    }
   ],
   "source": [
    "from datetime import time\n",
    "\n",
    "t = time(14, 30, 15, 500000)\n",
    "print(\"🕒 Full time:\", t)\n",
    "\n",
    "print(\"Hour:\", t.hour)\n",
    "print(\"Minute:\", t.minute)\n",
    "print(\"Second:\", t.second)\n",
    "print(\"Microsecond:\", t.microsecond)\n",
    "\n",
    "# Default values if not specified\n",
    "default_time = time()\n",
    "print(\"🕑 Default time (no arguments):\", default_time)\n",
    "\n",
    "# Formatting the time using strftime\n",
    "formatted_time = t.strftime(\"%I:%M:%S %p\")  # 12-hour format\n",
    "print(\"Formatted time (12-hour):\", formatted_time)\n",
    "\n",
    "print(\"⏱️ Minimum time:\", time.min)       \n",
    "print(\"⏱️ Maximum time:\", time.max)        \n",
    "print(\"⏱️ Smallest resolution:\", time.resolution)\n"
   ]
  },
  {
   "cell_type": "code",
   "execution_count": 8,
   "metadata": {},
   "outputs": [
    {
     "name": "stdout",
     "output_type": "stream",
     "text": [
      "Original: 14:30:00\n",
      "Modified: 14:00:00\n"
     ]
    }
   ],
   "source": [
    "t = time(14, 30)\n",
    "new_time = t.replace(minute=0, second=0)\n",
    "print(\"Original:\", t)\n",
    "print(\"Modified:\", new_time)"
   ]
  },
  {
   "cell_type": "code",
   "execution_count": 9,
   "metadata": {},
   "outputs": [
    {
     "name": "stdout",
     "output_type": "stream",
     "text": [
      "ISO format: 09:15:45.123456\n"
     ]
    }
   ],
   "source": [
    "t = time(9, 15, 45, 123456)\n",
    "print(\"ISO format:\", t.isoformat())"
   ]
  },
  {
   "cell_type": "code",
   "execution_count": 10,
   "metadata": {},
   "outputs": [
    {
     "name": "stdout",
     "output_type": "stream",
     "text": [
      "Formatted: 18:00 PM\n"
     ]
    }
   ],
   "source": [
    "t = time(18, 0)\n",
    "print(\"Formatted:\", t.strftime(\"%H:%M %p\"))"
   ]
  },
  {
   "cell_type": "markdown",
   "metadata": {},
   "source": [
    "## 📆 Working with `datetime`\n",
    "\n",
    "The `datetime` class is the most versatile class in the `datetime` module. It combines both **date** and **time** into a single object, allowing you to work with full timestamps.\n",
    "\n",
    "### In this section, you'll learn how to:\n",
    "- Get the current date and time\n",
    "- Create specific `datetime` objects\n",
    "- Extract date and time components\n",
    "- Use `datetime.combine()` to merge a date and time\n",
    "- Use `isoformat()` and formatting with `strftime()`\n"
   ]
  },
  {
   "cell_type": "code",
   "execution_count": 11,
   "metadata": {},
   "outputs": [
    {
     "name": "stdout",
     "output_type": "stream",
     "text": [
      "Datetime from timestamp: 1970-01-01 03:30:01\n"
     ]
    }
   ],
   "source": [
    "from datetime import datetime\n",
    " \n",
    "date_time = datetime.fromtimestamp(1)\n",
    "print(\"Datetime from timestamp:\", date_time)\n"
   ]
  },
  {
   "cell_type": "code",
   "execution_count": 12,
   "metadata": {},
   "outputs": [
    {
     "name": "stdout",
     "output_type": "stream",
     "text": [
      "🕓 Current datetime: 2025-07-30 20:16:59.013317\n",
      "📆 Specific datetime: 2025-07-30 14:30:00\n",
      "Year: 2025\n",
      "Month: 7\n",
      "Day: 30\n",
      "Hour: 14\n",
      "Minute: 30\n",
      "Second: 0\n",
      "Date part: 2025-07-30\n",
      "Time part: 14:30:00\n",
      "🎄 Combined datetime: 2025-12-25 09:00:00\n",
      "ISO format: 2025-07-30T14:30:00\n",
      "Formatted: Wednesday, 30 July 2025 - 02:30 PM\n"
     ]
    }
   ],
   "source": [
    "from datetime import datetime, date, time\n",
    "\n",
    "now = datetime.now()\n",
    "print(\"🕓 Current datetime:\", now)\n",
    "\n",
    "dt = datetime(2025, 7, 30, 14, 30, 0)\n",
    "print(\"📆 Specific datetime:\", dt)\n",
    "\n",
    "print(\"Year:\", dt.year)\n",
    "print(\"Month:\", dt.month)\n",
    "print(\"Day:\", dt.day)\n",
    "print(\"Hour:\", dt.hour)\n",
    "print(\"Minute:\", dt.minute)\n",
    "print(\"Second:\", dt.second)\n",
    "\n",
    "print(\"Date part:\", dt.date())\n",
    "print(\"Time part:\", dt.time())\n",
    "\n",
    "d = date(2025, 12, 25)\n",
    "t = time(9, 0)\n",
    "combined = datetime.combine(d, t)\n",
    "print(\"🎄 Combined datetime:\", combined)\n",
    "\n",
    "print(\"ISO format:\", dt.isoformat())\n",
    "\n",
    "print(\"Formatted:\", dt.strftime(\"%A, %d %B %Y - %I:%M %p\"))\n",
    "\n"
   ]
  },
  {
   "cell_type": "code",
   "execution_count": 13,
   "metadata": {},
   "outputs": [
    {
     "name": "stdout",
     "output_type": "stream",
     "text": [
      "Formatted datetime: 2025-07-30 20:16:59\n",
      "Parsed datetime: 2025-07-30 14:45:00\n"
     ]
    }
   ],
   "source": [
    "from datetime import datetime\n",
    "\n",
    "now = datetime.now()\n",
    "formatted = now.strftime(\"%Y-%m-%d %H:%M:%S\")\n",
    "print(\"Formatted datetime:\", formatted)\n",
    "\n",
    "date_str = \"2025/07/30 14:45:00\"\n",
    "parsed = datetime.strptime(date_str, \"%Y/%m/%d %H:%M:%S\")\n",
    "print(\"Parsed datetime:\", parsed)\n"
   ]
  },
  {
   "cell_type": "markdown",
   "metadata": {},
   "source": [
    "## ➕ Using `timedelta` for Date Arithmetic\n",
    "\n",
    "The `timedelta` class in the `datetime` module represents a **duration** — the difference between two dates or times.\n",
    "\n",
    "### In this section, you'll learn how to:\n",
    "- Add or subtract days, weeks, or time to/from a date or datetime\n",
    "- Calculate the difference between two dates or datetimes\n",
    "- Access attributes like `.days`, `.seconds`, and `.total_seconds()`\n",
    "\n",
    "| Parameter      | Unit         | Description                         |\n",
    "| -------------- | ------------ | ----------------------------------- |\n",
    "| `days`         | Days         | Number of days                      |\n",
    "| `seconds`      | Seconds      | Number of seconds                   |\n",
    "| `microseconds` | Microseconds | Number of microseconds              |\n",
    "| `milliseconds` | Milliseconds | Number of milliseconds (1/1000 sec) |\n",
    "| `minutes`      | Minutes      | Number of minutes                   |\n",
    "| `hours`        | Hours        | Number of hours                     |\n",
    "| `weeks`        | Weeks        | Number of weeks (7 days each)       |\n"
   ]
  },
  {
   "cell_type": "code",
   "execution_count": 14,
   "metadata": {},
   "outputs": [
    {
     "name": "stdout",
     "output_type": "stream",
     "text": [
      "📅 Today: 2025-07-30\n",
      "📅 7 days later: 2025-08-06\n",
      "📅 30 days ago: 2025-06-30\n",
      "📅 In two weeks: 2025-08-13\n",
      "🧮 Difference: 26 days, 0:00:00\n",
      "Days between: 26\n",
      "⏰ 90 minutes from now: 2025-07-30 21:46:59.083672\n",
      "Total days: 2\n",
      "Total seconds: 192600.0\n"
     ]
    }
   ],
   "source": [
    "from datetime import datetime, timedelta, date\n",
    "\n",
    "today = date.today()\n",
    "print(\"📅 Today:\", today)\n",
    "\n",
    "next_week = today + timedelta(days=7)\n",
    "print(\"📅 7 days later:\", next_week)\n",
    "\n",
    "last_month = today - timedelta(days=30)\n",
    "print(\"📅 30 days ago:\", last_month)\n",
    "\n",
    "in_two_weeks = today + timedelta(weeks=2)\n",
    "print(\"📅 In two weeks:\", in_two_weeks)\n",
    "\n",
    "d1 = date(2025, 8, 25)\n",
    "d2 = date(2025, 7, 30)\n",
    "diff = d1 - d2\n",
    "print(\"🧮 Difference:\", diff)\n",
    "print(\"Days between:\", diff.days)\n",
    "\n",
    "now = datetime.now()\n",
    "in_90_minutes = now + timedelta(minutes=90)\n",
    "print(\"⏰ 90 minutes from now:\", in_90_minutes)\n",
    "\n",
    "delta = timedelta(days=2, hours=5, minutes=30)\n",
    "print(\"Total days:\", delta.days)\n",
    "print(\"Total seconds:\", delta.total_seconds())\n"
   ]
  },
  {
   "cell_type": "markdown",
   "metadata": {},
   "source": [
    "## 🌍 Timezones and Aware `datetime`\n",
    "\n",
    "By default, `datetime` objects are **naive**, meaning they don't include any timezone information.\n",
    "\n",
    "To work with timezones, you need **timezone-aware datetime objects**, which allow you to:\n",
    "\n",
    "- Convert between timezones (e.g., UTC to local)\n",
    "- Handle Daylight Saving Time correctly\n",
    "- Work with global applications and logs\n",
    "\n",
    "### Python 3.9+ — Use `zoneinfo` (standard library)\n",
    "The `zoneinfo` module provides access to the IANA time zone database."
   ]
  },
  {
   "cell_type": "code",
   "execution_count": 15,
   "metadata": {},
   "outputs": [
    {
     "name": "stdout",
     "output_type": "stream",
     "text": [
      "🕓 Local naive datetime: 2025-07-30 20:16:59.121414\n",
      "🌐 UTC aware datetime: 2025-07-30 16:46:59.123424+00:00\n",
      "🗽 New York time: 2025-07-30 12:46:59.124431-04:00\n",
      "🗾 Tokyo time: 2025-07-31 01:46:59.124431+09:00\n",
      "🇮🇷 Iran time: 2025-07-30 20:16:59.128450+03:30\n",
      "📅 Fixed London time: 2025-07-30 12:00:00+01:00\n"
     ]
    }
   ],
   "source": [
    "from datetime import datetime\n",
    "from zoneinfo import ZoneInfo\n",
    "\n",
    "local_now = datetime.now()\n",
    "print(\"🕓 Local naive datetime:\", local_now)\n",
    "\n",
    "utc_now = datetime.now(ZoneInfo(\"UTC\"))\n",
    "print(\"🌐 UTC aware datetime:\", utc_now)\n",
    "\n",
    "ny_time = datetime.now(ZoneInfo(\"America/New_York\"))\n",
    "print(\"🗽 New York time:\", ny_time)\n",
    "\n",
    "tokyo_time = ny_time.astimezone(ZoneInfo(\"Asia/Tokyo\"))\n",
    "print(\"🗾 Tokyo time:\", tokyo_time)\n",
    "\n",
    "iran_time = datetime.now(ZoneInfo(\"Asia/Tehran\"))\n",
    "print(\"🇮🇷 Iran time:\", iran_time)\n",
    "\n",
    "dt = datetime(2025, 7, 30, 12, 0, tzinfo=ZoneInfo(\"Europe/London\"))\n",
    "print(\"📅 Fixed London time:\", dt)\n"
   ]
  },
  {
   "cell_type": "markdown",
   "metadata": {},
   "source": [
    "## ❓Questions\n",
    "\n",
    "1. **Get yesterday's date.**  \n",
    "   Write a snippet to retrieve the date of the previous day from today.\n",
    "\n",
    "2. **Create a function that tells how many days are left until a given birthday.**  \n",
    "   The function should accept a date (month and day) and return the number of days remaining until that date next occurs.\n",
    "\n",
    "3. **Convert a list of date strings into datetime objects.**  \n",
    "   Given a list of date strings (e.g., `[\"2025-07-30\", \"2025-08-01\"]`), write code to convert each into a `datetime` object.\n",
    "\n",
    "4. **Write a function to check if a date is a weekend.**  \n",
    "   The function should return `True` if the given date falls on a Saturday or Sunday, `False` otherwise.\n",
    "\n",
    "5. **Find the difference in days between two dates.**  \n",
    "   Write a function that takes one dates and returns the absolute number of days between them.\n",
    "\n",
    "6. **Generate a list of all Mondays in a given month and year.**  \n",
    "   Create a function that returns all the dates that fall on a Monday for a specified month and year.\n",
    "\n"
   ]
  },
  {
   "cell_type": "code",
   "execution_count": null,
   "metadata": {},
   "outputs": [],
   "source": []
  },
  {
   "cell_type": "markdown",
   "metadata": {},
   "source": [
    "<div style=\"float:right;\">\n",
    "  <a href=\"https://github.com/MinooSdpr/python-for-beginners/blob/main/Session%2008/Session%2008_1%20-%20Sets%20and%20Booleans.ipynb\"\n",
    "     style=\"\n",
    "       display:inline-block;\n",
    "       padding:8px 20px;\n",
    "       background-color:#414f6f;\n",
    "       color:white;\n",
    "       border-radius:12px;\n",
    "       text-decoration:none;\n",
    "       font-family:sans-serif;\n",
    "       transition:background-color 0.3s ease;\n",
    "     \"\n",
    "     onmouseover=\"this.style.backgroundColor='#2f3a52';\"\n",
    "     onmouseout=\"this.style.backgroundColor='#414f6f';\">\n",
    "    ▶️ Next\n",
    "  </a>\n",
    "</div>\n",
    "\n",
    "for more:  [this](https://docs.python.org/3/library/datetime.html)\n"
   ]
  }
 ],
 "metadata": {
  "kernelspec": {
   "display_name": "Python [conda env:base] *",
   "language": "python",
   "name": "conda-base-py"
  },
  "language_info": {
   "codemirror_mode": {
    "name": "ipython",
    "version": 3
   },
   "file_extension": ".py",
   "mimetype": "text/x-python",
   "name": "python",
   "nbconvert_exporter": "python",
   "pygments_lexer": "ipython3",
   "version": "3.12.7"
  }
 },
 "nbformat": 4,
 "nbformat_minor": 4
}
