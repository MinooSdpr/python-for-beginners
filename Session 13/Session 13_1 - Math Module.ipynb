{
 "cells": [
  {
   "cell_type": "markdown",
   "metadata": {},
   "source": [
    "# 📊 Python Math and Random Modules\n",
    "\n",
    "Python provides powerful built-in modules for performing mathematical computations:  \n",
    "> The `math` module offers access to many standard mathematical functions and constants.\n",
    "\n",
    "In this lesson, you'll learn how to:\n",
    "\n",
    "✅ Use important functions from the `math` module for calculations  \n",
    "✅ Work with constants like `pi`, `e`, and `tau`  \n",
    "✅ Perform logarithmic and trigonometric operations  \n",
    "✅ Understand how floating-point math works with very large/small numbers  \n",
    "\n",
    "---\n",
    "\n",
    "<div style=\"text-align: center;\">\n",
    "  <a href=\"https://colab.research.google.com/github/MinooSdpr/python-for-beginners/blob/main/Session%2013/Session%2013_1%20-%20Math%20Module.ipynb\">\n",
    "    <img src=\"https://colab.research.google.com/assets/colab-badge.svg\" alt=\"Open In Colab\" />\n",
    "  </a>\n",
    "  &nbsp;\n",
    "  <a href=\"https://github.com/MinooSdpr/python-for-beginners/blob/main/Session%2013/Session%2013_1%20-%20Math%20Module.ipynb\">\n",
    "    <img src=\"https://img.shields.io/badge/Open%20in-GitHub-24292e?logo=github&logoColor=white\" alt=\"Open In GitHub\" />\n",
    "  </a>\n",
    "</div>\n",
    "\n",
    "🔍 For detailed documentation, check out:  \n",
    "- [Python `math` module](https://docs.python.org/3/library/math.html)  \n",
    "\n",
    "Let’s get started by exploring the `math` module!\n"
   ]
  },
  {
   "cell_type": "markdown",
   "metadata": {},
   "source": [
    "## 🧮 Useful Math Functions: Rounding and Constants\n",
    "\n",
    "The `math` module provides several useful functions to handle rounding and mathematical constants. Let's explore some of them:\n",
    "\n",
    "- `floor(x)`: Rounds **down** to the nearest integer less than or equal to `x`\n",
    "- `ceil(x)`: Rounds **up** to the nearest integer greater than or equal to `x`\n",
    "- `trunc(x)`: Truncates the decimal part, effectively removing it without rounding\n",
    "- `fabs(x)`: Returns the absolute value as a float\n",
    "- Constants like `pi`, `e`, and `tau` are available for precision calculations\n"
   ]
  },
  {
   "cell_type": "code",
   "execution_count": 1,
   "metadata": {},
   "outputs": [
    {
     "name": "stdout",
     "output_type": "stream",
     "text": [
      "floor(value): 4\n",
      "ceil(value): 5\n",
      "trunc(value): 4\n",
      "trunc(-3.651561): -3\n",
      "fabs(-12.5): 12.5\n"
     ]
    }
   ],
   "source": [
    "from math import *\n",
    "\n",
    "value = 4.0113256\n",
    "\n",
    "print(\"floor(value):\", floor(value))   \n",
    "print(\"ceil(value):\", ceil(value))    \n",
    "print(\"trunc(value):\", trunc(value))  \n",
    "print(\"trunc(-3.651561):\", trunc(-3.651561))  \n",
    "\n",
    "print(\"fabs(-12.5):\", fabs(-12.5))    \n",
    "\n",
    "\n"
   ]
  },
  {
   "cell_type": "code",
   "execution_count": 4,
   "metadata": {},
   "outputs": [
    {
     "name": "stdout",
     "output_type": "stream",
     "text": [
      "pi: 3.141592653589793\n",
      "e: 2.718281828459045\n",
      "tau (2 * pi): 6.283185307179586\n",
      "nan\n",
      "inf\n"
     ]
    }
   ],
   "source": [
    "print(\"pi:\", pi)  \n",
    "print(\"e:\", e)     \n",
    "print(\"tau (2 * pi):\", tau)\n",
    "print(nan)\n",
    "print(inf)"
   ]
  },
  {
   "cell_type": "markdown",
   "metadata": {},
   "source": [
    "## 🔢 Number Theory and Summation Functions\n",
    "\n",
    "The `math` module also provides handy functions for working with integers and series:\n",
    "\n",
    "- `gcd(a, b)`: Computes the greatest common divisor of `a` and `b`\n",
    "- `factorial(n)`: Calculates the factorial of `n` (n!)\n",
    "- `fsum(iterable)`: Accurately sums floating-point numbers in an iterable, avoiding precision errors\n",
    "- We can calculate the least common multiple (LCM) using `gcd` as a helper\n",
    "\n",
    "Let's see them in action:\n"
   ]
  },
  {
   "cell_type": "code",
   "execution_count": 3,
   "metadata": {},
   "outputs": [
    {
     "name": "stdout",
     "output_type": "stream",
     "text": [
      "The greatest common divisor of 60 and 48 is: 12\n",
      "The least common multiple of 60 and 48 is: 240\n",
      "Factorial of 5 is: 120\n",
      "Sum of numbers: 18.0\n",
      "Sum of large numbers: 1.942668892225729e+84\n"
     ]
    }
   ],
   "source": [
    "from math import gcd, factorial, fsum\n",
    "\n",
    "# Greatest Common Divisor\n",
    "a, b = 60, 48\n",
    "print(f\"The greatest common divisor of {a} and {b} is: {gcd(a, b)}\")\n",
    "\n",
    "# Least Common Multiple calculated using gcd\n",
    "lcm = abs(a * b) // gcd(a, b)\n",
    "print(f\"The least common multiple of {a} and {b} is: {lcm}\")\n",
    "\n",
    "n = 5\n",
    "print(f\"Factorial of {n} is: {factorial(n)}\")\n",
    "\n",
    "numbers = [1.2, 3.4, 5.6, 7.8]\n",
    "print(\"Sum of numbers:\", fsum(numbers))\n",
    "\n",
    "large_numbers = [1e100, 2e100, -3e100]\n",
    "print(\"Sum of large numbers:\", fsum(large_numbers))\n"
   ]
  },
  {
   "cell_type": "markdown",
   "metadata": {},
   "source": [
    "## 📈 Logarithmic and Exponential Functions\n",
    "\n",
    "The `math` module provides essential functions for working with logarithms and exponentials:\n",
    "\n",
    "- `log(x, base)`: Computes the logarithm of `x` to the given `base` (default base is *e*)\n",
    "- `exp(x)`: Calculates *e* raised to the power of `x` (i.e., \\( e^x \\))\n",
    "- `expm1(x)`: Calculates \\( e^x - 1 \\), useful for small values of `x` to maintain precision\n",
    "- Note: `log(0)` or `log` of negative numbers will raise a **ValueError**\n",
    "\n",
    "Let's explore these with some examples:\n"
   ]
  },
  {
   "cell_type": "code",
   "execution_count": 5,
   "metadata": {},
   "outputs": [
    {
     "name": "stdout",
     "output_type": "stream",
     "text": [
      "log(e): 1.0\n",
      "log(10): 2.302585092994046\n",
      "log10(10): 1.0\n",
      "e ** log(10): 10.000000000000002\n",
      "exp(3): 20.085536923187668\n",
      "expm1(1e-10): 1.00000000005e-10\n",
      "log(8, 2): 3.0\n"
     ]
    }
   ],
   "source": [
    "from math import log, exp, expm1, e\n",
    "\n",
    "# Natural logarithm (base e)\n",
    "print(\"log(e):\", log(e))\n",
    "\n",
    "# print(log(0))  # Uncomment to see the ValueError: math domain error\n",
    "\n",
    "print(\"log(10):\", log(10)) \n",
    "\n",
    "print(\"log10(10):\", log10(10)) \n",
    "\n",
    "# Inverse of log base e\n",
    "print(\"e ** log(10):\", e ** log(10))\n",
    "\n",
    "print(\"exp(3):\", exp(3))\n",
    "\n",
    "# expm1 for small x: exp(x) - 1\n",
    "print(\"expm1(1e-10):\", expm1(1e-10))\n",
    "\n",
    "# Logarithm with custom base\n",
    "print(\"log(8, 2):\", log(8, 2))\n"
   ]
  },
  {
   "cell_type": "markdown",
   "metadata": {},
   "source": [
    "## 📐 Trigonometric Functions and Angle Conversions\n",
    "\n",
    "The `math` module provides standard trigonometric functions that work with **radians**:\n",
    "\n",
    "- `sin(x)`, `cos(x)`, `tan(x)`: Sine, cosine, and tangent of angle `x` (in radians)\n",
    "- `radians(deg)`: Converts degrees to radians\n",
    "- `degrees(rad)`: Converts radians to degrees\n",
    "\n",
    "Remember, many math functions expect angles in radians, so conversion is often necessary.\n",
    "\n",
    "Let's explore these functions:"
   ]
  },
  {
   "cell_type": "code",
   "execution_count": 6,
   "metadata": {},
   "outputs": [
    {
     "name": "stdout",
     "output_type": "stream",
     "text": [
      "sin(90): 0.8939966636005579\n",
      "sin(pi/2): 1.0\n",
      "radians(180): 3.141592653589793\n",
      "cos(0): 1.0\n",
      "degrees(pi/2): 90.0\n"
     ]
    }
   ],
   "source": [
    "from math import *\n",
    "\n",
    "print(\"sin(90):\", sin(90)) \n",
    "\n",
    "# Correct way: convert degrees to radians first\n",
    "print(\"sin(pi/2):\", sin(pi/2))\n",
    "\n",
    "print(\"radians(180):\", radians(180))\n",
    "\n",
    "print(\"cos(0):\", cos(0))  \n",
    "\n",
    "print(\"degrees(pi/2):\", degrees(pi/2)) \n"
   ]
  },
  {
   "cell_type": "markdown",
   "metadata": {},
   "source": [
    "## 🔧 Other Useful Functions in the `math` Module\n",
    "\n",
    "Here are some additional handy functions that you may find useful in various calculations:\n",
    "\n",
    "- `copysign(x, y)`: Returns `x` with the sign of `y`  \n",
    "- `modf(x)`: Returns the fractional and integer parts of `x` as a tuple `(frac_part, int_part)`  \n",
    "- `remainder(x, y)`: Computes the IEEE 754-style remainder of `x / y`  \n",
    "- `isclose(a, b, rel_tol, abs_tol)`: Checks if two floats are close within a tolerance  \n",
    "- `isfinite(x)`, `isinf(x)`, `isnan(x)`: Check if a float is finite, infinite, or NaN\n",
    "\n",
    "Let's see some examples:\n"
   ]
  },
  {
   "cell_type": "code",
   "execution_count": 7,
   "metadata": {},
   "outputs": [
    {
     "name": "stdout",
     "output_type": "stream",
     "text": [
      "copysign(10, -3): -10.0\n",
      "modf(5.67): (0.6699999999999999, 5.0)\n",
      "remainder(10, 3): 1.0\n",
      "isclose(0.1 + 0.2, 0.3): True\n",
      "isfinite(inf): False\n",
      "isinf(inf): True\n",
      "isnan(nan): True\n"
     ]
    }
   ],
   "source": [
    "from math import *\n",
    "\n",
    "print(\"copysign(10, -3):\", copysign(10, -3))    \n",
    "\n",
    "\n",
    "frac, integer = modf(5.67)\n",
    "print(\"modf(5.67):\", (frac, integer))           \n",
    "\n",
    "print(\"remainder(10, 3):\", remainder(10, 3))     \n",
    "\n",
    "print(\"isclose(0.1 + 0.2, 0.3):\", isclose(0.1 + 0.2, 0.3))  \n",
    "\n",
    "print(\"isfinite(inf):\", isfinite(inf))           \n",
    "print(\"isinf(inf):\", isinf(inf))                \n",
    "print(\"isnan(nan):\", isnan(nan))               \n"
   ]
  },
  {
   "cell_type": "code",
   "execution_count": 9,
   "metadata": {},
   "outputs": [
    {
     "name": "stdout",
     "output_type": "stream",
     "text": [
      "Distance between points (2, -1, 5) and (7, 4, 1) is 8.12\n"
     ]
    }
   ],
   "source": [
    "point_a = (2, -1, 5)\n",
    "point_b = (7, 4, 1)\n",
    "\n",
    "distance = dist(point_a, point_b)\n",
    "\n",
    "print(f\"Distance between points {point_a} and {point_b} is {distance:.2f}\")"
   ]
  },
  {
   "cell_type": "markdown",
   "metadata": {},
   "source": [
    "## 🚀 Exercises:\n",
    "\n",
    "1. Write a program that takes three positive numbers representing the lengths of the sides of a triangle. Use the `math` module to:\n",
    "\n",
    "- Check if the three lengths can form a valid triangle (use the triangle inequality theorem)\n",
    "- Calculate the squares of the side lengths\n",
    "- Determine the type of triangle:\n",
    "  - **Equilateral:** all sides equal\n",
    "  - **Isosceles:** exactly two sides equal\n",
    "  - **Scalene:** all sides different\n",
    "  - **Right-angled:** satisfies the Pythagorean theorem \\(a^2 + b^2 = c^2\\) (consider floating point precision using `math.isclose`)\n",
    "\n",
    "Print the kind of triangle or state if the inputs cannot form a triangle.\n",
    "\n",
    "2. **Sum of Factorials:**  \n",
    "   Using a `for` loop and `math.factorial()`, compute the sum of factorials from 1 to `n` (inclusive), where `n` is a positive integer input.\n",
    "3. Problem: Calculate the Time of Flight and Maximum Height of a Projectile\n",
    "\n",
    "**Given:**\n",
    "\n",
    "* Initial velocity $v_0$ (m/s)\n",
    "* Launch angle $\\theta$ (degrees)\n",
    "* Acceleration due to gravity $g = 9.81 \\, m/s^2$\n",
    "\n",
    "**Find:**\n",
    "\n",
    "* Total time the projectile stays in the air (time of flight)\n",
    "$$\n",
    "T = \\frac{2 v_0 \\sin \\theta}{g}\n",
    "$$\n",
    "\n",
    "> This formula calculates the total time the projectile spends in the air, assuming it lands at the same height from which it was launched.\n",
    "\n",
    "* Maximum height reached\n",
    "\n",
    "$$\n",
    "H = \\frac{v_0^2 \\sin^2 \\theta}{2 g}\n",
    "$$\n",
    "\n",
    "> This formula gives the peak vertical height reached by the projectile during its flight.\n",
    "\n",
    "---\n",
    "\n",
    "**Note:**\n",
    "\n",
    "* Angles need to be converted from degrees to radians when using trigonometric functions in programming languages.\n",
    "* The formulas assume no air resistance and level ground launch and landing.\n",
    "\n"
   ]
  },
  {
   "cell_type": "code",
   "execution_count": null,
   "metadata": {},
   "outputs": [],
   "source": []
  },
  {
   "cell_type": "markdown",
   "metadata": {},
   "source": [
    "<div style=\"float:right;\">\n",
    "  <a href=\"https://github.com/MinooSdpr/python-for-beginners/blob/main/Session%2008/Session%2008_1%20-%20Sets%20and%20Booleans.ipynb\"\n",
    "     style=\"\n",
    "       display:inline-block;\n",
    "       padding:8px 20px;\n",
    "       background-color:#414f6f;\n",
    "       color:white;\n",
    "       border-radius:12px;\n",
    "       text-decoration:none;\n",
    "       font-family:sans-serif;\n",
    "       transition:background-color 0.3s ease;\n",
    "     \"\n",
    "     onmouseover=\"this.style.backgroundColor='#2f3a52';\"\n",
    "     onmouseout=\"this.style.backgroundColor='#414f6f';\">\n",
    "    ▶️ Next\n",
    "  </a>\n",
    "</div>"
   ]
  }
 ],
 "metadata": {
  "kernelspec": {
   "display_name": "Python [conda env:base] *",
   "language": "python",
   "name": "conda-base-py"
  },
  "language_info": {
   "codemirror_mode": {
    "name": "ipython",
    "version": 3
   },
   "file_extension": ".py",
   "mimetype": "text/x-python",
   "name": "python",
   "nbconvert_exporter": "python",
   "pygments_lexer": "ipython3",
   "version": "3.12.7"
  }
 },
 "nbformat": 4,
 "nbformat_minor": 4
}
