{
 "cells": [
  {
   "cell_type": "markdown",
   "id": "cd648784-ec40-40a6-ba40-34e3e6722c22",
   "metadata": {},
   "source": [
    "# 🏛️ Defining a Class in Python\n",
    "\n",
    "In Python, a **class** is a blueprint for creating objects. It allows you to bundle data (attributes) and behavior (methods) together.\n",
    "\n",
    "<div style=\"text-align: center;\">\n",
    "  <a href=\"https://colab.research.google.com/github/MinooSdpr/python-for-beginners/blob/main/Session%2017/17_1%20-%20class%20in%20python.ipynb\">\n",
    "    <img src=\"https://colab.research.google.com/assets/colab-badge.svg\" alt=\"Open In Colab\" />\n",
    "  </a>\n",
    "  &nbsp;\n",
    "  <a href=\"https://github.com/MinooSdpr/python-for-beginners/blob/main/Session%2017/17_1%20-%20class%20in%20python.ipynb\">\n",
    "    <img src=\"https://img.shields.io/badge/Open%20in-GitHub-24292e?logo=github&logoColor=white\" alt=\"Open In GitHub\" />\n",
    "  </a>\n",
    "</div>\n",
    "\n",
    "For this lesson we will construct our knowledge of OOP in Python by building on the following topics:\n",
    "\n",
    "* Objects\n",
    "* Using the *class* keyword\n",
    "* Creating class attributes\n",
    "* Creating methods in a class\n",
    "* Learning about Inheritance\n",
    "* Learning about Polymorphism\n",
    "* Learning about Special Methods for classes\n",
    "\n",
    "Lets start the lesson by remembering about the Basic Python Objects.\n",
    "\n",
    "---\n",
    "## Objects\n",
    "In Python, *everything is an object*. Remember from previous lectures we can use type() to check the type of object something is:"
   ]
  },
  {
   "cell_type": "code",
   "execution_count": 2,
   "id": "785af8dc-b61b-4d86-b0f9-6962e75ce2fe",
   "metadata": {},
   "outputs": [
    {
     "name": "stdout",
     "output_type": "stream",
     "text": [
      "<class 'int'>\n",
      "<class 'list'>\n",
      "<class 'tuple'>\n",
      "<class 'dict'>\n"
     ]
    }
   ],
   "source": [
    "print(type(1))\n",
    "print(type([]))\n",
    "print(type(()))\n",
    "print(type({}))"
   ]
  },
  {
   "cell_type": "markdown",
   "id": "ff62b81c-b90a-4344-a4c5-4fe8bd794566",
   "metadata": {},
   "source": [
    "## class\n",
    "User defined objects are created using the `class` keyword. The class is a blueprint that defines the nature of a future object. From classes we can construct instances. An instance is a specific object created from a particular class. For example, above we created the object <code>lst</code> which was an instance of a list object. "
   ]
  },
  {
   "cell_type": "code",
   "execution_count": 4,
   "id": "af634505-4e7e-41ae-af93-a54726ebb3c4",
   "metadata": {},
   "outputs": [
    {
     "name": "stdout",
     "output_type": "stream",
     "text": [
      "<__main__.Sample object at 0x0000023118E38B00>\n"
     ]
    }
   ],
   "source": [
    "class Sample:\n",
    "    pass\n",
    "\n",
    "    \n",
    "x = Sample()\n",
    "print(x)"
   ]
  },
  {
   "cell_type": "markdown",
   "id": "b276696b-6002-4329-a66b-ad036016b310",
   "metadata": {},
   "source": [
    "## 🔧 `__init__` Method (Constructor) in Python\n",
    "\n",
    "The `__init__` method is a special method in Python classes. It **runs automatically** when a new object is created and is commonly used to **initialize attributes** of the object.\n",
    "\n",
    "\n",
    "* `__init__` is called the **constructor**.\n",
    "* The first parameter is always `self`, which refers to the current object.\n",
    "* You can pass additional parameters to initialize specific values.\n",
    "\n",
    "### Attributes\n",
    "The syntax for creating an attribute is:\n",
    "    \n",
    "    self.attribute = something\n",
    "    \n",
    "There is a special method called:\n",
    "\n",
    "    __init__()\n",
    "\n",
    "This method is used to initialize the attributes of an object. For example:"
   ]
  },
  {
   "cell_type": "code",
   "execution_count": 6,
   "id": "f6efb055-7db4-42e2-b758-448994db6f58",
   "metadata": {},
   "outputs": [],
   "source": [
    "class ClassName:\n",
    "    def __init__(self, parameters):\n",
    "        self.attribute = parameters"
   ]
  },
  {
   "cell_type": "code",
   "execution_count": 14,
   "id": "109e2f10-2595-4e99-b033-73b0f8413118",
   "metadata": {},
   "outputs": [],
   "source": [
    "class Person:\n",
    "    def __init__(self, name, age):\n",
    "        self.name = name \n",
    "        self.age = age\n",
    "\n",
    "person1 = Person(\"Alice\", 30)\n"
   ]
  },
  {
   "cell_type": "code",
   "execution_count": 16,
   "id": "794dc3a0-0ccf-435e-8dfc-82f0dd99aef3",
   "metadata": {},
   "outputs": [
    {
     "name": "stdout",
     "output_type": "stream",
     "text": [
      "Alice\n"
     ]
    }
   ],
   "source": [
    "print(person1.name)"
   ]
  },
  {
   "cell_type": "code",
   "execution_count": 19,
   "id": "82312227-2916-4197-9f19-ec65d7cfd8d3",
   "metadata": {},
   "outputs": [
    {
     "name": "stdout",
     "output_type": "stream",
     "text": [
      "20\n"
     ]
    }
   ],
   "source": [
    "person1.age = 20\n",
    "print(person1.age)"
   ]
  },
  {
   "cell_type": "markdown",
   "id": "0f76d814-7d42-45e5-9d9a-bb790af768ac",
   "metadata": {},
   "source": [
    "## 🔹 Instance Methods in Python\n",
    "\n",
    "**Instance methods** are functions defined inside a class that operate on instances (objects) of that class. They can access and modify instance attributes using the `self` parameter.\n",
    "\n",
    "* The first parameter is always `self`, which represents the instance calling the method.\n",
    "* Instance methods allow objects to perform actions or behaviors.\n",
    "\n",
    "### 📌 Syntax\n",
    "\n",
    "```python\n",
    "class ClassName:\n",
    "    def method_name(self, other_parameters):\n",
    "        # method body\n",
    "```\n",
    "\n",
    "---"
   ]
  },
  {
   "cell_type": "code",
   "execution_count": 10,
   "id": "547eaffa-64e6-4d6f-8270-3834835c7e12",
   "metadata": {},
   "outputs": [],
   "source": [
    "class Car:\n",
    "    def __init__(self, brand, model, year):\n",
    "        self.brand = brand\n",
    "        self.model = model\n",
    "        self.year = year\n",
    "\n",
    "    def display_info(self):\n",
    "        print(f\"{self.year} {self.brand} {self.model}\")"
   ]
  },
  {
   "cell_type": "code",
   "execution_count": 12,
   "id": "1439a22d-e1b0-45ef-87ae-3cf2bde754db",
   "metadata": {},
   "outputs": [],
   "source": [
    "car1 = Car(\"Toyota\", \"Camry\", 2020)\n",
    "car2 = Car(\"Tesla\", \"Model 3\", 2022)"
   ]
  },
  {
   "cell_type": "markdown",
   "id": "48c93c4c-4a0f-4ae1-b54d-ea9f6df7f62e",
   "metadata": {},
   "source": [
    "## 🏷️ Class Attributes and Class Methods\n",
    "\n",
    "### Class Attributes\n",
    "\n",
    "* **Class attributes** are variables shared across all instances of a class.\n",
    "* They are defined directly inside the class but outside any instance methods.\n",
    "* All instances share the same copy of class attributes.\n",
    "\n",
    "---\n",
    "\n",
    "### Class Methods (`@classmethod`)\n",
    "\n",
    "* Class methods are methods bound to the class, not the instance.\n",
    "* They take `cls` (the class itself) as the first parameter instead of `self`.\n",
    "* Use the `@classmethod` decorator to define them.\n",
    "* Often used to access or modify class attributes or create alternative constructors.\n",
    "\n",
    "---\n",
    "\n",
    "### 🧠 Key Takeaways\n",
    "\n",
    "* Class attributes are shared among all instances.\n",
    "* Class methods can modify class attributes and are called on the class itself.\n",
    "* Use `cls` inside class methods to refer to the class.\n",
    "\n"
   ]
  },
  {
   "cell_type": "code",
   "execution_count": 22,
   "id": "e70f1369-593f-40f2-b027-f307c8ac8f90",
   "metadata": {},
   "outputs": [
    {
     "name": "stdout",
     "output_type": "stream",
     "text": [
      "Alice works as a Developer at TechCorp\n",
      "Bob works as a Designer at TechCorp\n",
      "Alice works as a Developer at GAM Academy\n",
      "Bob works as a Designer at GAM Academy\n"
     ]
    }
   ],
   "source": [
    "class Employee:\n",
    "    company = \"TechCorp\"\n",
    "\n",
    "    def __init__(self, name, position):\n",
    "        self.name = name         \n",
    "        self.position = position \n",
    "\n",
    "    def display(self):\n",
    "        print(f\"{self.name} works as a {self.position} at {Employee.company}\")\n",
    "\n",
    "    @classmethod\n",
    "    def change_company(cls, new_company):\n",
    "        cls.company = new_company\n",
    "\n",
    "emp1 = Employee(\"Alice\", \"Developer\")\n",
    "emp2 = Employee(\"Bob\", \"Designer\")\n",
    "\n",
    "emp1.display()\n",
    "emp2.display()\n",
    "\n",
    "Employee.change_company(\"GAM Academy\")\n",
    "\n",
    "emp1.display()  \n",
    "emp2.display()"
   ]
  },
  {
   "cell_type": "markdown",
   "id": "6475e018-3fe1-4bf5-aa85-48f20fd16176",
   "metadata": {},
   "source": [
    "## ⚙️ Static Methods\n",
    "\n",
    "A **static method** is a method inside a class that does **not** receive an implicit first argument (`self` or `cls`). It behaves like a regular function but lives inside the class’s namespace.\n",
    "\n",
    "* Use the `@staticmethod` decorator to define one.\n",
    "* Static methods **do not** access or modify instance or class attributes.\n",
    "* Useful for utility functions related to the class but not tied to any specific object.\n",
    "\n",
    "---\n",
    "\n",
    "### 🧠 When to Use Static Methods?\n",
    "\n",
    "* When you need a utility function related to a class but independent of instance or class data.\n",
    "* To keep related functions grouped inside a class for better organization.\n"
   ]
  },
  {
   "cell_type": "code",
   "execution_count": 26,
   "id": "58da1d25-f3d8-45ab-aaae-2db6af8ddb84",
   "metadata": {},
   "outputs": [
    {
     "name": "stdout",
     "output_type": "stream",
     "text": [
      "12\n",
      "True\n",
      "7\n"
     ]
    }
   ],
   "source": [
    "class MathUtils:\n",
    "    @staticmethod\n",
    "    def add(a, b):\n",
    "        return a + b\n",
    "\n",
    "    @staticmethod\n",
    "    def is_even(number):\n",
    "        return number % 2 == 0\n",
    "\n",
    "print(MathUtils.add(5, 7))       \n",
    "print(MathUtils.is_even(10))     \n",
    "\n",
    "utils = MathUtils()\n",
    "print(utils.add(3, 4))  "
   ]
  },
  {
   "cell_type": "markdown",
   "id": "4eb2cc06-ce7f-40f3-a6ec-da5b28a837bf",
   "metadata": {},
   "source": [
    "## 📝 Python OOP Exercise\n",
    "\n",
    "### 1. Define a `Student` class with:\n",
    "\n",
    "* Instance attributes: name, age, and grade, student id , term\n",
    "* An instance method `introduce()` that prints:\n",
    "  `\"Hi, my name is {name} and I am {age} years old. My average score is: {average}\"`\n",
    "\n",
    "### 2. Add a **class attribute** `school_name` to `Student`, initialized to `\"Farzanegan\"`.\n",
    "\n",
    "Modify `introduce()` so it also prints:\n",
    "`\"I study at {school_name}.\"`\n",
    "\n",
    "\n",
    "### 3. Add a **class method** `change_school(cls, new_school)` that changes the `school_name` for all students.\n",
    "\n",
    "\n",
    "### 4. Add a **static method** `is_adult(age)` that returns `True` if age is 18 or older, otherwise `False`.\n",
    "\n",
    "\n",
    "### 5. Create two `Student` objects and demonstrate:\n",
    "\n",
    "* Calling the `introduce()` method on both.\n",
    "* Changing the school name using the class method and showing the update in `introduce()`.\n",
    "* Using the static method `is_adult()` to check if a student is an adult.\n",
    "\n",
    "---\n",
    "\n",
    "**Create a class called Rectangle that has attributes width and height. Include methods to calculate the area and perimeter of the rectangle.**\n"
   ]
  },
  {
   "cell_type": "markdown",
   "id": "4acc8e33-b507-498f-a7c1-95af22d085a1",
   "metadata": {},
   "source": [
    "# Good Job!\n",
    "\n",
    "<div style=\"float:right;\">\n",
    "  <a href=\"https://github.com/MinooSdpr/python-for-beginners/blob/main/Session%2008/Session%2008_1%20-%20Sets%20and%20Booleans.ipynb\"\n",
    "     style=\"\n",
    "       display:inline-block;\n",
    "       padding:8px 20px;\n",
    "       background-color:#414f6f;\n",
    "       color:white;\n",
    "       border-radius:12px;\n",
    "       text-decoration:none;\n",
    "       font-family:sans-serif;\n",
    "       transition:background-color 0.3s ease;\n",
    "     \"\n",
    "     onmouseover=\"this.style.backgroundColor='#2f3a52';\"\n",
    "     onmouseout=\"this.style.backgroundColor='#414f6f';\">\n",
    "    ▶️ Next\n",
    "  </a>\n",
    "</div>"
   ]
  }
 ],
 "metadata": {
  "kernelspec": {
   "display_name": "Python 3 (ipykernel)",
   "language": "python",
   "name": "python3"
  },
  "language_info": {
   "codemirror_mode": {
    "name": "ipython",
    "version": 3
   },
   "file_extension": ".py",
   "mimetype": "text/x-python",
   "name": "python",
   "nbconvert_exporter": "python",
   "pygments_lexer": "ipython3",
   "version": "3.12.4"
  }
 },
 "nbformat": 4,
 "nbformat_minor": 5
}
