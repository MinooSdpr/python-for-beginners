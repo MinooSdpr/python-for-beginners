{
 "cells": [
  {
   "cell_type": "markdown",
   "id": "d9ae48bb-7a40-428f-8e66-b846f5847a05",
   "metadata": {},
   "source": [
    "# Class in python\n",
    "\n",
    "<div style=\"text-align: center;\">\n",
    "  <a href=\"https://colab.research.google.com/github/MinooSdpr/python-for-beginners/blob/main/Session%2015/Session%2015_3%20-%20Functions%20and%20Methods%20Assessment%20Test.ipynb\">\n",
    "    <img src=\"https://colab.research.google.com/assets/colab-badge.svg\" alt=\"Open In Colab\" />\n",
    "  </a>\n",
    "  &nbsp;\n",
    "  <a href=\"https://github.com/MinooSdpr/python-for-beginners/blob/main/Session%2015/Session%2015_3%20-%20Functions%20and%20Methods%20Assessment%20Test.ipynb\">\n",
    "    <img src=\"https://img.shields.io/badge/Open%20in-GitHub-24292e?logo=github&logoColor=white\" alt=\"Open In GitHub\" />\n",
    "  </a>\n",
    "</div>"
   ]
  },
  {
   "cell_type": "markdown",
   "id": "fe1190ad-b322-4831-b498-72cb8c51b8ea",
   "metadata": {},
   "source": [
    "## Private Attributes in Python Classes\n",
    "\n",
    "In Python, **private attributes** are variables intended to be accessed *only within the class itself*.  \n",
    "While Python doesn't enforce true privacy, it uses **name mangling** to make it harder (but not impossible) to access them from outside.\n",
    "\n",
    "### Syntax\n",
    "A private attribute is defined by prefixing its name with **two underscores** (`__`):\n",
    "\n",
    "\n",
    "### Key Points\n",
    "\n",
    "* **Prefix** with `__` to make it private.\n",
    "* Python changes `__balance` → `_ClassName__balance` internally (**name mangling**).\n",
    "* Intended for internal use; external access is discouraged but possible.\n",
    "* Use getter/setter methods to safely interact with private data."
   ]
  },
  {
   "cell_type": "code",
   "execution_count": 2,
   "id": "50b0a8d4-10f5-4807-ae38-ecb933726a94",
   "metadata": {},
   "outputs": [
    {
     "name": "stdout",
     "output_type": "stream",
     "text": [
      "Alice\n"
     ]
    }
   ],
   "source": [
    "class BankAccount:\n",
    "    def __init__(self, account_holder, balance):\n",
    "        self.account_holder = account_holder   \n",
    "        self.__balance = balance              \n",
    "\n",
    "    def deposit(self, amount):\n",
    "        self.__balance += amount\n",
    "\n",
    "    def get_balance(self):\n",
    "        return self.__balance\n",
    "\n",
    "account = BankAccount(\"Alice\", 1000)\n",
    "\n",
    "print(account.account_holder)    "
   ]
  },
  {
   "cell_type": "code",
   "execution_count": 3,
   "id": "a0cec2c4-e7d9-470d-9a47-015853991020",
   "metadata": {},
   "outputs": [
    {
     "name": "stdout",
     "output_type": "stream",
     "text": [
      "1000\n"
     ]
    }
   ],
   "source": [
    "print(account.get_balance())     "
   ]
  },
  {
   "cell_type": "code",
   "execution_count": 4,
   "id": "a16e217a-04e8-4fd9-af04-43e1725daa88",
   "metadata": {},
   "outputs": [
    {
     "ename": "AttributeError",
     "evalue": "'BankAccount' object has no attribute '__balance'",
     "output_type": "error",
     "traceback": [
      "\u001b[1;31m---------------------------------------------------------------------------\u001b[0m",
      "\u001b[1;31mAttributeError\u001b[0m                            Traceback (most recent call last)",
      "Cell \u001b[1;32mIn[4], line 1\u001b[0m\n\u001b[1;32m----> 1\u001b[0m \u001b[38;5;28mprint\u001b[39m(\u001b[43maccount\u001b[49m\u001b[38;5;241;43m.\u001b[39;49m\u001b[43m__balance\u001b[49m)\n",
      "\u001b[1;31mAttributeError\u001b[0m: 'BankAccount' object has no attribute '__balance'"
     ]
    }
   ],
   "source": [
    "print(account.__balance)"
   ]
  },
  {
   "cell_type": "code",
   "execution_count": 18,
   "id": "8d558b30-dd67-405d-a143-6faa6e5d8d46",
   "metadata": {},
   "outputs": [
    {
     "name": "stdout",
     "output_type": "stream",
     "text": [
      "1000\n"
     ]
    }
   ],
   "source": [
    "print(account._BankAccount__balance)"
   ]
  },
  {
   "cell_type": "markdown",
   "id": "86929ab6-3554-4388-bcee-588756b8fef4",
   "metadata": {},
   "source": [
    "## Weakly Private vs Strongly Private Attributes in Python\n",
    "\n",
    "Python doesn't have *true* private attributes like some other languages,  \n",
    "but it uses **naming conventions** and **name mangling** to signal intent.\n",
    "\n",
    "### 1. Weakly Private\n",
    "- **Single underscore prefix**: `_attribute`\n",
    "- **Convention** only — tells other programmers “this is internal; don't touch.”\n",
    "- **No restriction** from Python; you can still access it normally.\n",
    "- Commonly used for *protected* members (meant for internal or subclass use).\n",
    "\n",
    "---\n",
    "\n",
    "### 2. Strongly Private\n",
    "\n",
    "* **Double underscore prefix**: `__attribute`\n",
    "* Triggers **name mangling**: Python changes the name internally to `_ClassName__attribute`.\n",
    "* Makes accidental access from outside harder, but still possible with the mangled name.\n",
    "* Intended to avoid attribute name clashes in subclasses and signal “for internal use only.”\n",
    "\n",
    "---\n",
    "\n",
    "### Summary Table\n",
    "\n",
    "| Prefix | Example          | Privacy Level    | Mechanism       | Access from Outside  |\n",
    "| ------ | ---------------- | ---------------- | --------------- | -------------------- |\n",
    "| None   | `public_data`    | Public           | No restriction  | Direct               |\n",
    "| `_`    | `_internal_data` | Weakly private   | Convention only | Direct (discouraged) |\n",
    "| `__`   | `__secret_data`  | Strongly private | Name mangling   | Needs mangled name   |\n",
    "\n",
    "**Key Takeaway:**\n",
    "Python’s “privacy” is about signaling intent, not enforcing it.\n",
    "The underscore prefix is a **warning label**, not a locked door.\n",
    "\n"
   ]
  },
  {
   "cell_type": "code",
   "execution_count": 20,
   "id": "2209f791-580a-49ea-b622-c6c398c9e4db",
   "metadata": {},
   "outputs": [
    {
     "name": "stdout",
     "output_type": "stream",
     "text": [
      "weakly private\n"
     ]
    }
   ],
   "source": [
    "class Example:\n",
    "    def __init__(self):\n",
    "        self._internal_data = \"weakly private\"\n",
    "\n",
    "obj = Example()\n",
    "print(obj._internal_data) "
   ]
  },
  {
   "cell_type": "markdown",
   "id": "6cec2d0c-5b07-4135-aac2-17522f07ae35",
   "metadata": {},
   "source": [
    "## Magic (Dunder) Methods in Python\n",
    "\n",
    "**Magic methods** — also called **dunder methods** (short for “double underscore”) —  \n",
    "are special methods with names surrounded by double underscores, e.g., `__init__`, `__str__`.  \n",
    "\n",
    "They let you define how objects of your class behave in **built-in operations** like printing, addition, iteration, etc.\n",
    "\n",
    "---\n",
    "\n",
    "### Common Magic Methods\n",
    "\n",
    "| Method          | Purpose                                             | Example Trigger |\n",
    "|-----------------|-----------------------------------------------------|-----------------|\n",
    "| `__init__`      | Object constructor                                  | `obj = MyClass()` |\n",
    "| `__str__`       | Human-readable string representation                | `print(obj)` |\n",
    "| `__repr__`      | Developer-friendly string representation            | `repr(obj)` |\n",
    "| `__len__`       | Length of object                                    | `len(obj)` |\n",
    "| `__getitem__`   | Index/key access                                    | `obj[key]` |\n",
    "| `__setitem__`   | Assign value to key                                 | `obj[key] = value` |\n",
    "| `__call__`      | Make instance callable like a function              | `obj()` |\n",
    "| `__del__`       | Destructor, called when object is about to be deleted | `del obj` |\n",
    "\n",
    "\n",
    "---\n"
   ]
  },
  {
   "cell_type": "code",
   "execution_count": 22,
   "id": "d4402f9b-8b02-4f25-890b-36e48e08f4cf",
   "metadata": {},
   "outputs": [],
   "source": [
    "class Notebook:\n",
    "    def __init__(self, title):\n",
    "        self.title = title\n",
    "        self.pages = []\n",
    "        print(f\"Notebook '{self.title}' created.\")  # To show __init__ effect\n",
    "\n",
    "    def __str__(self):\n",
    "        return f\"Notebook: {self.title} with {len(self.pages)} pages\"\n",
    "\n",
    "    def __repr__(self):\n",
    "        return f\"Notebook({self.title!r})\"\n",
    "\n",
    "    def __len__(self):\n",
    "        return len(self.pages)\n",
    "\n",
    "    def __getitem__(self, index):\n",
    "        return self.pages[index]\n",
    "\n",
    "    def __setitem__(self, index, content):\n",
    "        if index < len(self.pages):\n",
    "            self.pages[index] = content\n",
    "        else:\n",
    "            self.pages.append(content)\n",
    "\n",
    "    def __call__(self):\n",
    "        print(f\"Opening notebook '{self.title}'...\")\n",
    "\n",
    "    def __del__(self):\n",
    "        print(f\"Notebook '{self.title}' is being deleted.\")\n"
   ]
  },
  {
   "cell_type": "code",
   "execution_count": 24,
   "id": "5afaf4ff-4b15-4089-b99b-ba2f62e24146",
   "metadata": {},
   "outputs": [
    {
     "name": "stdout",
     "output_type": "stream",
     "text": [
      "Notebook 'Ideas' created.\n",
      "Notebook: Ideas with 2 pages\n"
     ]
    }
   ],
   "source": [
    "nb = Notebook(\"Ideas\")      \n",
    "nb[0] = \"First idea\"       \n",
    "nb[1] = \"Second idea\"\n",
    "print(nb)                  "
   ]
  },
  {
   "cell_type": "code",
   "execution_count": 26,
   "id": "2729340b-ce61-4cdc-815a-c7c9d4f2eef4",
   "metadata": {},
   "outputs": [
    {
     "name": "stdout",
     "output_type": "stream",
     "text": [
      "Notebook('Ideas')\n",
      "Length: 2\n",
      "Page 1: First idea\n"
     ]
    }
   ],
   "source": [
    "print(repr(nb))              \n",
    "print(f\"Length: {len(nb)}\")  \n",
    "print(f\"Page 1: {nb[0]}\")   "
   ]
  },
  {
   "cell_type": "code",
   "execution_count": 28,
   "id": "b5adcbe1-6770-4ef1-877f-3be8d23c2d99",
   "metadata": {},
   "outputs": [
    {
     "name": "stdout",
     "output_type": "stream",
     "text": [
      "Opening notebook 'Ideas'...\n",
      "Notebook 'Ideas' is being deleted.\n"
     ]
    }
   ],
   "source": [
    "nb()                         \n",
    "del nb "
   ]
  },
  {
   "cell_type": "markdown",
   "id": "71db0018-29a3-42e5-8996-df6d02ef6c64",
   "metadata": {},
   "source": [
    "## Operator Overloading in Python\n",
    "\n",
    "Operator overloading lets you define **custom behavior** for Python's built-in operators when used with your objects.\n",
    "\n",
    "Below is an example showing one function for each operator kind.\n",
    "\n",
    "---\n",
    "\n",
    "## Table of Categories & Magic Methods\n",
    "\n",
    "| Category   | Operator Example | Magic Method  | Trigger Example      |\n",
    "|------------|-----------------|--------------|----------------------|\n",
    "| Arithmetic | `+`              | `__add__`    | `obj1 + obj2`        |\n",
    "| Logical    | `and` / `or`*    | `__bool__`   | `if obj1 and obj2:`  |\n",
    "| Relational | `>`              | `__gt__`     | `obj1 > obj2`        |\n",
    "| Bitwise    | `&`              | `__and__`    | `obj1 & obj2`        |\n",
    "| Assignment | `+=`             | `__iadd__`   | `obj1 += obj2`       |\n",
    "| Membership | `in`             | `__contains__` | `item in obj1`    |\n",
    "\n",
    "> **Note:** Logical operators (`and`, `or`) don’t have direct magic methods. They rely on `__bool__` or `__len__` to decide truthiness.\n",
    "\n",
    "---"
   ]
  },
  {
   "cell_type": "code",
   "execution_count": 30,
   "id": "5cc6c910-5bc3-4542-9777-bebd76ca7cdf",
   "metadata": {},
   "outputs": [],
   "source": [
    "class Matrix:\n",
    "    def __init__(self, data):\n",
    "        self.data = data  # list of lists\n",
    "\n",
    "    def __str__(self):\n",
    "        return \"\\n\".join(str(row) for row in self.data)\n",
    "\n",
    "    def __add__(self, other):\n",
    "        rows = len(self.data)\n",
    "        cols = len(self.data[0])\n",
    "        result = [\n",
    "            [self.data[i][j] + other.data[i][j] for j in range(cols)]\n",
    "            for i in range(rows)\n",
    "        ]\n",
    "        return Matrix(result)\n",
    "\n",
    "    def __bool__(self):\n",
    "        return any(any(cell != 0 for cell in row) for row in self.data)\n",
    "\n",
    "    def __gt__(self, other):\n",
    "        return self.sum_elements() > other.sum_elements()\n",
    "\n",
    "    def __and__(self, other):\n",
    "        rows = len(self.data)\n",
    "        cols = len(self.data[0])\n",
    "        result = [\n",
    "            [self.data[i][j] & other.data[i][j] for j in range(cols)]\n",
    "            for i in range(rows)\n",
    "        ]\n",
    "        return Matrix(result)\n",
    "\n",
    "    def __iadd__(self, other):\n",
    "        rows = len(self.data)\n",
    "        cols = len(self.data[0])\n",
    "        for i in range(rows):\n",
    "            for j in range(cols):\n",
    "                self.data[i][j] += other.data[i][j]\n",
    "        return self\n",
    "\n",
    "    def __contains__(self, value):\n",
    "        return any(value in row for row in self.data)\n",
    "\n",
    "    def sum_elements(self):\n",
    "        return sum(sum(row) for row in self.data)"
   ]
  },
  {
   "cell_type": "code",
   "execution_count": 32,
   "id": "b6c098e4-a449-458e-b612-2c8fbf96ac1d",
   "metadata": {},
   "outputs": [
    {
     "name": "stdout",
     "output_type": "stream",
     "text": [
      "Matrix 1:\n",
      "[1, 2]\n",
      "[3, 4]\n",
      "Matrix 2:\n",
      "[5, 6]\n",
      "[7, 8]\n"
     ]
    }
   ],
   "source": [
    "m1 = Matrix([[1, 2], [3, 4]])\n",
    "m2 = Matrix([[5, 6], [7, 8]])\n",
    "\n",
    "print(\"Matrix 1:\")\n",
    "print(m1)\n",
    "print(\"Matrix 2:\")\n",
    "print(m2)"
   ]
  },
  {
   "cell_type": "code",
   "execution_count": 34,
   "id": "9d67a212-c8ef-4270-a032-bd338947491d",
   "metadata": {},
   "outputs": [
    {
     "name": "stdout",
     "output_type": "stream",
     "text": [
      "\n",
      "Addition:\n",
      "[6, 8]\n",
      "[10, 12]\n",
      "\n",
      "Both matrices have non-zero elements\n"
     ]
    }
   ],
   "source": [
    "print(\"\\nAddition:\")\n",
    "print(m1 + m2)\n",
    "\n",
    "if m1 and m2:\n",
    "    print(\"\\nBoth matrices have non-zero elements\")"
   ]
  },
  {
   "cell_type": "code",
   "execution_count": 36,
   "id": "dcd095f9-6384-410c-a3f2-9e7790b7d9c6",
   "metadata": {},
   "outputs": [
    {
     "name": "stdout",
     "output_type": "stream",
     "text": [
      "\n",
      "Is m1 > m2?\n",
      "False\n",
      "\n",
      "Bitwise AND:\n",
      "[1, 2]\n",
      "[3, 0]\n"
     ]
    }
   ],
   "source": [
    "print(\"\\nIs m1 > m2?\")\n",
    "print(m1 > m2)\n",
    "\n",
    "print(\"\\nBitwise AND:\")\n",
    "print(m1 & m2)"
   ]
  },
  {
   "cell_type": "code",
   "execution_count": 38,
   "id": "b691cd01-b168-43f8-af22-2e004c12242a",
   "metadata": {},
   "outputs": [
    {
     "name": "stdout",
     "output_type": "stream",
     "text": [
      "\n",
      "In-place addition (m1 += m2):\n",
      "[6, 8]\n",
      "[10, 12]\n"
     ]
    }
   ],
   "source": [
    "print(\"\\nIn-place addition (m1 += m2):\")\n",
    "m1 += m2\n",
    "print(m1)"
   ]
  },
  {
   "cell_type": "code",
   "execution_count": 40,
   "id": "2971bc43-607d-4ad0-8662-b3b7f052a605",
   "metadata": {},
   "outputs": [
    {
     "name": "stdout",
     "output_type": "stream",
     "text": [
      "\n",
      "Is 5 in m1?\n",
      "False\n"
     ]
    }
   ],
   "source": [
    "print(\"\\nIs 5 in m1?\")\n",
    "print(5 in m1)"
   ]
  },
  {
   "cell_type": "markdown",
   "id": "57478ba1-ecc2-4529-896c-db54db4bcc32",
   "metadata": {},
   "source": [
    "### **Exercise 1 – Extend the Matrix Class**\n",
    "\n",
    "Add the following operator overloads to the `Matrix` class:\n",
    "\n",
    "1. **Subtraction (`-`)** → Element-wise subtraction.\n",
    "2. **Equality (`==`)** → Return `True` if both matrices have the same dimensions *and* identical elements.\n",
    "\n",
    "**Requirements:**\n",
    "\n",
    "* Use `__sub__` for subtraction.\n",
    "* Use `__eq__` for equality.\n",
    "* Test your implementation with at least **two equal matrices** and **two unequal matrices**.\n",
    "\n",
    "**Example Expected Output:**\n",
    "\n",
    "```\n",
    "Matrix 1 - Matrix 2:\n",
    "[-4, -4]\n",
    "[-4, -4]\n",
    "Matrix 1 == Matrix 2? False\n",
    "```\n",
    "\n",
    "---\n",
    "\n",
    "### **Exercise 2 – Scalar Operations**\n",
    "\n",
    "Modify the `Matrix` class so it supports adding a **number** to every element using `+` and `+=`.\n",
    "\n",
    "**Requirements:**\n",
    "\n",
    "* Update `__add__` and `__iadd__` so they work when `other` is an `int` or `float`, in addition to another `Matrix`.\n",
    "* Example: `m1 + 10` should add 10 to every element in `m1`.\n",
    "* Make sure to still support matrix-to-matrix addition.\n",
    "\n",
    "**Example Expected Output:**\n",
    "\n",
    "```\n",
    "Original Matrix:\n",
    "[1, 2]\n",
    "[3, 4]\n",
    "After m1 + 10:\n",
    "[11, 12]\n",
    "[13, 14]\n",
    "After m1 += 5:\n",
    "[16, 17]\n",
    "[18, 19]\n",
    "```\n",
    "\n",
    "\n",
    "<div style=\"float:right;\">\n",
    "  <a href=\"https://github.com/MinooSdpr/python-for-beginners/blob/main/Session%2008/Session%2008_1%20-%20Sets%20and%20Booleans.ipynb\"\n",
    "     style=\"\n",
    "       display:inline-block;\n",
    "       padding:8px 20px;\n",
    "       background-color:#414f6f;\n",
    "       color:white;\n",
    "       border-radius:12px;\n",
    "       text-decoration:none;\n",
    "       font-family:sans-serif;\n",
    "       transition:background-color 0.3s ease;\n",
    "     \"\n",
    "     onmouseover=\"this.style.backgroundColor='#2f3a52';\"\n",
    "     onmouseout=\"this.style.backgroundColor='#414f6f';\">\n",
    "    ▶️ Next\n",
    "  </a>\n",
    "</div>"
   ]
  }
 ],
 "metadata": {
  "kernelspec": {
   "display_name": "Python 3 (ipykernel)",
   "language": "python",
   "name": "python3"
  },
  "language_info": {
   "codemirror_mode": {
    "name": "ipython",
    "version": 3
   },
   "file_extension": ".py",
   "mimetype": "text/x-python",
   "name": "python",
   "nbconvert_exporter": "python",
   "pygments_lexer": "ipython3",
   "version": "3.12.4"
  }
 },
 "nbformat": 4,
 "nbformat_minor": 5
}
