{
 "cells": [
  {
   "cell_type": "markdown",
   "id": "5b5d3974",
   "metadata": {},
   "source": [
    "# Object Oriented Programming\n",
    "\n",
    "We learn what Object Oriented Programming (OOP) is, what Classes are and how to write our own, and we learn how to make graphs using OOP and and the `matplotlib` package."
   ]
  },
  {
   "cell_type": "code",
   "execution_count": 1,
   "id": "2a8aa2ff",
   "metadata": {},
   "outputs": [],
   "source": [
    "class Point():\n",
    "    \"\"\"Holds on a point (x,y) in the plane\"\"\"\n",
    "    def __init__(self, x=0, y=0):\n",
    "        assert isinstance(x, (int, float)) and isinstance(y, (int, float))\n",
    "        self.x = float(x)\n",
    "        self.y = float(y)\n",
    "    def __repr__(self):\n",
    "        return \"Point(\" + str(self.x) + \", \" + str(self.y) + \")\"\n",
    "    def __eq__(self, other):\n",
    "        return (self.x, self.y) == (other.x, other.y)\n",
    "    def __lt__(self, other):\n",
    "        return (self.x < other.x and self.y < other.y)\n",
    "    def __add__(self, other):\n",
    "        assert isinstance(other, (int, Point))\n",
    "        if isinstance(other, Point):\n",
    "            return Point(self.x + other.x , self.y + other.y)\n",
    "        else: # other is int, taken as (int, int)\n",
    "            return Point(self.x + other , self.y + other)\n",
    "    def increment(self, other): \n",
    "        '''this method changes self (add \"inplace\")'''\n",
    "        assert isinstance(other,Point)\n",
    "        self.x += other.x\n",
    "        self.y += other.y\n",
    "    \n",
    "    def is_extreme(self, *points):\n",
    "        for point in points:\n",
    "            if not self > point:\n",
    "                return False\n",
    "        return True\n",
    "\n"
   ]
  },
  {
   "cell_type": "code",
   "execution_count": 2,
   "id": "e654643e",
   "metadata": {},
   "outputs": [
    {
     "data": {
      "text/plain": [
       "True"
      ]
     },
     "execution_count": 2,
     "metadata": {},
     "output_type": "execute_result"
    }
   ],
   "source": [
    "p = Point(5, 6)\n",
    "p.is_extreme(Point(1,1))"
   ]
  },
  {
   "cell_type": "code",
   "execution_count": 3,
   "id": "8368ab5a",
   "metadata": {},
   "outputs": [
    {
     "data": {
      "text/plain": [
       "True"
      ]
     },
     "execution_count": 3,
     "metadata": {},
     "output_type": "execute_result"
    }
   ],
   "source": [
    "Point.is_extreme(Point(7,8), Point(1,1), Point(4,5), Point(2,3))"
   ]
  },
  {
   "cell_type": "code",
   "execution_count": 4,
   "id": "478debe2",
   "metadata": {},
   "outputs": [],
   "source": [
    "class Rectangle1():\n",
    "    \"\"\"\n",
    "    Holds a parallel-axes rectangle by storing two points\n",
    "    lower left vertex - llv\n",
    "    upper right vertex - urv\n",
    "    \"\"\"\n",
    "    def __init__(self, lower_left_vertex, upper_right_vertex):\n",
    "        assert isinstance(lower_left_vertex, Point)\n",
    "        assert isinstance(upper_right_vertex, Point)\n",
    "        assert lower_left_vertex < upper_right_vertex \n",
    "        self.llv = lower_left_vertex\n",
    "        self.urv = upper_right_vertex\n",
    "        \n",
    "    def __repr__(self):\n",
    "        representation = \"Rectangle with lower left {0} and upper right {1}\"\n",
    "        return representation.format(self.llv, self.urv)\n",
    "\n",
    "    def dimensions(self):\n",
    "        height = self.urv.y - self.llv.y\n",
    "        width = self.urv.x - self.llv.x\n",
    "        return height, width\n",
    "    \n",
    "    def area(self):\n",
    "        height, width = self.dimensions()\n",
    "        area = height * width\n",
    "        return area\n",
    "    \n",
    "    def transpose(self):\n",
    "        \"\"\"\n",
    "        Reflection with regard to the line passing through lower left vertex with angle 315 (-45) degrees\n",
    "        \"\"\"\n",
    "        height, width = self.dimensions()\n",
    "        self.urv = self.llv\n",
    "        self.llv = Point(self.urv.x - height, self.urv.y - width)"
   ]
  },
  {
   "cell_type": "code",
   "execution_count": 5,
   "id": "46815a69",
   "metadata": {},
   "outputs": [
    {
     "name": "stdout",
     "output_type": "stream",
     "text": [
      "Rectangle with lower left Point(0.0, 0.0) and upper right Point(2.0, 1.0)\n",
      "Area: 2.0\n",
      "Dimensions: (1.0, 2.0)\n",
      "Transposed: Rectangle with lower left Point(-1.0, -2.0) and upper right Point(0.0, 0.0)\n"
     ]
    }
   ],
   "source": [
    "rec = Rectangle1(Point(), Point(2,1))\n",
    "print(rec)\n",
    "print(\"Area:\", rec.area())\n",
    "print(\"Dimensions:\", rec.dimensions())\n",
    "rec.transpose()\n",
    "print(\"Transposed:\", rec)"
   ]
  },
  {
   "cell_type": "code",
   "execution_count": 6,
   "id": "ebddc635",
   "metadata": {},
   "outputs": [],
   "source": [
    "%matplotlib inline\n",
    "import numpy as np\n",
    "import matplotlib.pyplot as plt"
   ]
  },
  {
   "cell_type": "markdown",
   "id": "495e1008",
   "metadata": {},
   "source": [
    "### A Triangle Class\n"
   ]
  },
  {
   "cell_type": "code",
   "execution_count": 18,
   "id": "db6d25fc",
   "metadata": {},
   "outputs": [],
   "source": [
    "class Triangle:\n",
    "    def __init__(self, x0y0, x1y1, x2y2,color):\n",
    "        self.x0y0 = x0y0\n",
    "        self.x1y1 = x1y1\n",
    "        self.x2y2 = x2y2\n",
    "        self.x = np.array([self.x0y0[0], self.x1y1[0], self.x2y2[0]])\n",
    "        self.y = np.array([self.x0y0[1], self.x1y1[1], self.x2y2[1]])\n",
    "        self.color = color\n",
    "    def __repr__(self):\n",
    "        return f'Triangle with corners: {self.x0y0}, {self.x1y1}, {self.x2y2}'\n",
    "    def area(self):\n",
    "        A = 0.5 * np.abs((self.x[0] - self.x[2]) * (self.y[1] - self.y[0]) - \n",
    "                         (self.x[0] - self.x[1]) * (self.y[2] - self.y[0]))\n",
    "        return A\n",
    "    def plot(self):\n",
    "        plt.fill(self.x, self.y, color=self.color)"
   ]
  },
  {
   "cell_type": "code",
   "execution_count": 19,
   "id": "e8c9ebff",
   "metadata": {},
   "outputs": [
    {
     "name": "stdout",
     "output_type": "stream",
     "text": [
      "4.0\n"
     ]
    }
   ],
   "source": [
    "t1 = Triangle( (0,1), (3,0), (2,3),'r')\n",
    "print(t1.area())"
   ]
  },
  {
   "cell_type": "code",
   "execution_count": 20,
   "id": "f1ea3e2e",
   "metadata": {},
   "outputs": [
    {
     "data": {
      "text/plain": [
       "(-2.5, 8.5, -1.35, 6.35)"
      ]
     },
     "execution_count": 20,
     "metadata": {},
     "output_type": "execute_result"
    },
    {
     "data": {
      "image/png": "[encoded data removed]",
      "text/plain": [
       "<Figure size 640x480 with 1 Axes>"
      ]
     },
     "metadata": {},
     "output_type": "display_data"
    }
   ],
   "source": [
    "tlist = []  # start with an empty list\n",
    "t1 = Triangle((0, 1), (5, 0), (3, 3), 'b')\n",
    "tlist.append(t1)  # add t1 to the list\n",
    "t2 = Triangle((3, 4), (1, 6), (-2, 3), 'r')\n",
    "tlist.append(t2)\n",
    "t3 = Triangle((8, -1), (6, 4), (2, 6), 'g')\n",
    "tlist.append(t3)\n",
    "plt.figure()\n",
    "for t in tlist:\n",
    "    t.plot()\n",
    "plt.axis('scaled')"
   ]
  }
 ],
 "metadata": {
  "kernelspec": {
   "display_name": "Python 3 (ipykernel)",
   "language": "python",
   "name": "python3"
  },
  "language_info": {
   "codemirror_mode": {
    "name": "ipython",
    "version": 3
   },
   "file_extension": ".py",
   "mimetype": "text/x-python",
   "name": "python",
   "nbconvert_exporter": "python",
   "pygments_lexer": "ipython3",
   "version": "3.10.6"
  }
 },
 "nbformat": 4,
 "nbformat_minor": 5
}
