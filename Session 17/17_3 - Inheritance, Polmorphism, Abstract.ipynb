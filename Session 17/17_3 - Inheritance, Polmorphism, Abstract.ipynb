{
 "cells": [
  {
   "cell_type": "markdown",
   "id": "ff7b29fc-f6bf-4bfc-a2dc-3fb1ebbbbed1",
   "metadata": {},
   "source": [
    "# 🐍 Python Inheritance, Polmorphism, Abstract\n",
    "\n",
    "<div style=\"text-align: center;\">\n",
    "  <a href=\"https://colab.research.google.com/github/MinooSdpr/python-for-beginners/blob/main/Session%2017/17_3%20-%20Inheritance%2C%20Polmorphism%2C%20Abstract.ipynb\">\n",
    "    <img src=\"https://colab.research.google.com/assets/colab-badge.svg\" alt=\"Open In Colab\" />\n",
    "  </a>\n",
    "  &nbsp;\n",
    "  <a href=\"https://github.com/MinooSdpr/python-for-beginners/blob/main/Session%2017/17_3%20-%20Inheritance%2C%20Polmorphism%2C%20Abstract.ipynb\">\n",
    "    <img src=\"https://img.shields.io/badge/Open%20in-GitHub-24292e?logo=github&logoColor=white\" alt=\"Open In GitHub\" />\n",
    "  </a>\n",
    "</div>\n",
    "\n",
    "---\n",
    "\n",
    "## 🧠 1. Introduction to Inheritance\n",
    "\n",
    "> Inheritance allows a class (child/subclass) to inherit attributes and methods from another class (parent/superclass). This promotes **code reuse** and **modularity**."
   ]
  },
  {
   "cell_type": "code",
   "execution_count": 1,
   "id": "6d5e9061-a92b-4130-b668-14e3047d3e7a",
   "metadata": {},
   "outputs": [
    {
     "name": "stdout",
     "output_type": "stream",
     "text": [
      "The animal makes a sound.\n"
     ]
    }
   ],
   "source": [
    "class Animal:\n",
    "    def speak(self):\n",
    "        print(\"The animal makes a sound.\")\n",
    "\n",
    "class Dog(Animal):\n",
    "    pass\n",
    "\n",
    "my_dog = Dog()\n",
    "my_dog.speak() "
   ]
  },
  {
   "cell_type": "markdown",
   "id": "b27391fd-807f-4c12-ad6c-958df3010152",
   "metadata": {},
   "source": [
    "## 🧱 2. The `super()` Function\n",
    "\n",
    "> The `super()` function allows you to call methods from the parent class in a child class—commonly used to extend the constructor."
   ]
  },
  {
   "cell_type": "code",
   "execution_count": 2,
   "id": "22867f7d-b257-46bc-8433-505335acf9b5",
   "metadata": {},
   "outputs": [
    {
     "name": "stdout",
     "output_type": "stream",
     "text": [
      "Buddy is a Golden Retriever.\n"
     ]
    }
   ],
   "source": [
    "class Animal:\n",
    "    def __init__(self, name):\n",
    "        self.name = name\n",
    "\n",
    "class Dog(Animal):\n",
    "    def __init__(self, name, breed):\n",
    "        super().__init__(name)\n",
    "        self.breed = breed\n",
    "\n",
    "    def describe(self):\n",
    "        print(f\"{self.name} is a {self.breed}.\")\n",
    "\n",
    "dog = Dog(\"Buddy\", \"Golden Retriever\")\n",
    "dog.describe()"
   ]
  },
  {
   "cell_type": "markdown",
   "id": "e9a9cc84-0aec-446e-8940-5abbf0b89e1f",
   "metadata": {},
   "source": [
    "## 🔁 3. Method Overriding\n",
    "\n",
    "> A child class can **override** methods defined in the parent class to change their behavior."
   ]
  },
  {
   "cell_type": "code",
   "execution_count": 3,
   "id": "bddb73d6-b19a-4121-8455-f4f5dd06de0a",
   "metadata": {},
   "outputs": [
    {
     "name": "stdout",
     "output_type": "stream",
     "text": [
      "Woof!\n"
     ]
    }
   ],
   "source": [
    "class Animal:\n",
    "    def speak(self):\n",
    "        print(\"The animal makes a sound.\")\n",
    "\n",
    "class Dog(Animal):\n",
    "    def speak(self):\n",
    "        print(\"Woof!\")\n",
    "\n",
    "my_dog = Dog()\n",
    "my_dog.speak() "
   ]
  },
  {
   "cell_type": "markdown",
   "id": "d1ebfca6-ef7f-4c52-beb6-73811265802a",
   "metadata": {},
   "source": [
    "## 🧬 4. Types of Inheritance in Python\n",
    "\n",
    "### ✅ 4.1 Single Inheritance\n"
   ]
  },
  {
   "cell_type": "code",
   "execution_count": 4,
   "id": "ee4ad477-b04e-4778-b318-928fb24ad4f9",
   "metadata": {},
   "outputs": [
    {
     "name": "stdout",
     "output_type": "stream",
     "text": [
      "A method\n",
      "B method\n"
     ]
    }
   ],
   "source": [
    "class A:\n",
    "    def method_A(self):\n",
    "        print(\"A method\")\n",
    "\n",
    "class B(A):\n",
    "    def method_B(self):\n",
    "        print(\"B method\")\n",
    "\n",
    "obj = B()\n",
    "obj.method_A()\n",
    "obj.method_B()"
   ]
  },
  {
   "cell_type": "markdown",
   "id": "0841829a-0413-4f4b-bb32-cd1b24922b14",
   "metadata": {},
   "source": [
    "### ✅ 4.2 Multiple Inheritance"
   ]
  },
  {
   "cell_type": "code",
   "execution_count": 5,
   "id": "035c8426-aa0a-4ca6-86d5-917c8e72daaf",
   "metadata": {},
   "outputs": [
    {
     "name": "stdout",
     "output_type": "stream",
     "text": [
      "A method\n",
      "B method\n"
     ]
    }
   ],
   "source": [
    "class A:\n",
    "    def method_A(self):\n",
    "        print(\"A method\")\n",
    "\n",
    "class B:\n",
    "    def method_B(self):\n",
    "        print(\"B method\")\n",
    "\n",
    "class C(A, B):\n",
    "    pass\n",
    "\n",
    "obj = C()\n",
    "obj.method_A()\n",
    "obj.method_B()"
   ]
  },
  {
   "cell_type": "markdown",
   "id": "029e5140-829d-4ee0-97f9-c6e28660ff93",
   "metadata": {},
   "source": [
    "### ✅ 4.3 Multilevel Inheritance"
   ]
  },
  {
   "cell_type": "code",
   "execution_count": 6,
   "id": "fb06dceb-3165-47e0-844f-ac78f43d52f3",
   "metadata": {},
   "outputs": [
    {
     "name": "stdout",
     "output_type": "stream",
     "text": [
      "A method\n",
      "B method\n",
      "C method\n"
     ]
    }
   ],
   "source": [
    "class A:\n",
    "    def method_A(self):\n",
    "        print(\"A method\")\n",
    "\n",
    "class B(A):\n",
    "    def method_B(self):\n",
    "        print(\"B method\")\n",
    "\n",
    "class C(B):\n",
    "    def method_C(self):\n",
    "        print(\"C method\")\n",
    "\n",
    "obj = C()\n",
    "obj.method_A()\n",
    "obj.method_B()\n",
    "obj.method_C()"
   ]
  },
  {
   "cell_type": "markdown",
   "id": "717bb0b5-3193-4b08-8ba0-8c8c2121c285",
   "metadata": {},
   "source": [
    "### ✅ 4.4 Hierarchical Inheritance"
   ]
  },
  {
   "cell_type": "code",
   "execution_count": 7,
   "id": "35f867f4-e2a2-43f8-b036-d6584aaa9156",
   "metadata": {},
   "outputs": [
    {
     "name": "stdout",
     "output_type": "stream",
     "text": [
      "A method\n",
      "A method\n"
     ]
    }
   ],
   "source": [
    "class A:\n",
    "    def method_A(self):\n",
    "        print(\"A method\")\n",
    "\n",
    "class B(A):\n",
    "    def method_B(self):\n",
    "        print(\"B method\")\n",
    "\n",
    "class C(A):\n",
    "    def method_C(self):\n",
    "        print(\"C method\")\n",
    "\n",
    "obj1 = B()\n",
    "obj2 = C()\n",
    "obj1.method_A()\n",
    "obj2.method_A()"
   ]
  },
  {
   "cell_type": "markdown",
   "id": "cf7d879d-aeef-486f-9a2e-d8865cf0be6c",
   "metadata": {},
   "source": [
    "### 🧭 5. Method Resolution Order (MRO)\n",
    "\n",
    "> Especially important in **multiple inheritance**, MRO determines the order in which base classes are searched when calling a method."
   ]
  },
  {
   "cell_type": "code",
   "execution_count": 8,
   "id": "49349e36-c62b-40d9-a788-3b6e666afb1e",
   "metadata": {},
   "outputs": [
    {
     "name": "stdout",
     "output_type": "stream",
     "text": [
      "B\n",
      "(<class '__main__.D'>, <class '__main__.B'>, <class '__main__.C'>, <class '__main__.A'>, <class 'object'>)\n"
     ]
    }
   ],
   "source": [
    "class A:\n",
    "    def whoami(self):\n",
    "        print(\"A\")\n",
    "\n",
    "class B(A):\n",
    "    def whoami(self):\n",
    "        print(\"B\")\n",
    "\n",
    "class C(A):\n",
    "    def whoami(self):\n",
    "        print(\"C\")\n",
    "\n",
    "class D(B, C):\n",
    "    pass\n",
    "\n",
    "d = D()\n",
    "d.whoami()\n",
    "print(D.__mro__)  # Shows method resolution order"
   ]
  },
  {
   "cell_type": "markdown",
   "id": "afb8593c-d046-4b83-a855-ff25016e7110",
   "metadata": {},
   "source": [
    "# 🐍 Polymorphism in Python\n",
    "\n",
    "---\n",
    "\n",
    "## 1. What is Polymorphism?\n",
    "\n",
    "> Polymorphism means “many forms.” In Python, it allows objects of different classes to be treated as instances of the same superclass, usually by implementing methods with the same name.\n",
    "\n",
    "---\n",
    "\n",
    "## 2. Polymorphism with Inheritance (Method Overriding)"
   ]
  },
  {
   "cell_type": "code",
   "execution_count": 9,
   "id": "bdac9231-6969-410d-a4c1-aa2a33c693b5",
   "metadata": {},
   "outputs": [
    {
     "name": "stdout",
     "output_type": "stream",
     "text": [
      "Woof!\n",
      "Meow!\n"
     ]
    }
   ],
   "source": [
    "class Animal:\n",
    "    def speak(self):\n",
    "        print(\"Some generic sound\")\n",
    "\n",
    "class Dog(Animal):\n",
    "    def speak(self):\n",
    "        print(\"Woof!\")\n",
    "\n",
    "class Cat(Animal):\n",
    "    def speak(self):\n",
    "        print(\"Meow!\")\n",
    "\n",
    "# Using polymorphism\n",
    "def make_animal_speak(animal):\n",
    "    animal.speak()\n",
    "\n",
    "dog = Dog()\n",
    "cat = Cat()\n",
    "\n",
    "make_animal_speak(dog)\n",
    "make_animal_speak(cat) "
   ]
  },
  {
   "cell_type": "markdown",
   "id": "4254910a-0586-437d-8e62-e5ac14c96b4d",
   "metadata": {},
   "source": [
    "*Explain:* The same method call (`speak`) behaves differently based on the object’s class.\n",
    "\n",
    "---\n",
    "\n",
    "## 3. Polymorphism without Inheritance (Duck Typing)"
   ]
  },
  {
   "cell_type": "code",
   "execution_count": 10,
   "id": "17eab738-5b9d-4086-9f05-81d7dbffaec7",
   "metadata": {},
   "outputs": [
    {
     "name": "stdout",
     "output_type": "stream",
     "text": [
      "Bird is flying\n",
      "Airplane is flying\n"
     ]
    }
   ],
   "source": [
    "class Bird:\n",
    "    def fly(self):\n",
    "        print(\"Bird is flying\")\n",
    "\n",
    "class Airplane:\n",
    "    def fly(self):\n",
    "        print(\"Airplane is flying\")\n",
    "\n",
    "def let_it_fly(flying_thing):\n",
    "    flying_thing.fly()\n",
    "\n",
    "bird = Bird()\n",
    "plane = Airplane()\n",
    "\n",
    "let_it_fly(bird)\n",
    "let_it_fly(plane) "
   ]
  },
  {
   "cell_type": "markdown",
   "id": "68e376a4-ea40-4a9c-8592-9a476510770a",
   "metadata": {},
   "source": [
    "*Explain:* Python uses **duck typing**: if an object has the required method, it can be used regardless of class inheritance.\n",
    "\n",
    "## 4. Polymorphism with Built-in Functions\n"
   ]
  },
  {
   "cell_type": "code",
   "execution_count": 11,
   "id": "359cd555-49cf-4095-aeac-1a74caf5e3dd",
   "metadata": {},
   "outputs": [
    {
     "name": "stdout",
     "output_type": "stream",
     "text": [
      "5\n",
      "3\n",
      "2\n"
     ]
    }
   ],
   "source": [
    "print(len(\"hello\"))     \n",
    "print(len([1, 2, 3]))   \n",
    "\n",
    "print(len({'a': 1, 'b': 2}))"
   ]
  },
  {
   "cell_type": "markdown",
   "id": "5ef3c0e2-2ae7-45c8-9199-4ea25423cb0d",
   "metadata": {},
   "source": [
    "*Explain:* Different data types respond to the same function call differently.\n",
    "\n",
    "---"
   ]
  },
  {
   "cell_type": "markdown",
   "id": "26e7c620-087f-433a-98d0-e4583c509d78",
   "metadata": {},
   "source": [
    "## 5. Abstract Base Classes and Polymorphism\n",
    "\n",
    "### What is an Abstract Class?\n",
    "\n",
    "An **abstract class** is a class that **cannot be instantiated directly** — meaning you **cannot create objects** from it. Instead, it serves as a **blueprint** for other classes. It defines methods that **must be implemented** by its subclasses.\n",
    "\n",
    "Think of it like a contract: if you inherit from an abstract class, you **must** implement the methods it declares as abstract.\n",
    "\n",
    "---\n",
    "\n",
    "### Why Use Abstract Classes?\n",
    "\n",
    "* To **enforce** certain methods in child classes.\n",
    "* To provide a common interface for a group of related classes.\n",
    "* To help organize and structure your code for better design.\n",
    "\n",
    "---\n",
    "\n",
    "### How to Create an Abstract Class in Python\n",
    "\n",
    "Python provides the **`abc` module** to define abstract classes.\n",
    "\n",
    "#### Key Points:\n",
    "\n",
    "* Import `ABC` (stands for Abstract Base Class) and `abstractmethod` decorator.\n",
    "* Create a class that inherits from `ABC`.\n",
    "* Use the `@abstractmethod` decorator to mark methods that must be implemented.\n",
    "\n",
    "---\n",
    "\n",
    "| Concept         | Explanation                                             |\n",
    "| --------------- | ------------------------------------------------------- |\n",
    "| Abstract Class  | A class you can’t instantiate directly                  |\n",
    "| Abstract Method | A method with no implementation, must be overridden     |\n",
    "| Purpose         | To define a common interface for subclasses             |\n",
    "| `abc` module    | Provides tools (`ABC`, `abstractmethod`) to create them |\n"
   ]
  },
  {
   "cell_type": "code",
   "execution_count": 14,
   "id": "9e61414d-c331-4c3a-b85c-ccc0d52b50dd",
   "metadata": {},
   "outputs": [
    {
     "name": "stdout",
     "output_type": "stream",
     "text": [
      "Woof!\n",
      "Meow!\n"
     ]
    }
   ],
   "source": [
    "from abc import ABC, abstractmethod\n",
    "\n",
    "class Animal(ABC):\n",
    "    @abstractmethod\n",
    "    def speak(self):\n",
    "        pass \n",
    "\n",
    "# Trying to instantiate this will cause an error\n",
    "# animal = Animal()  # ERROR: Can't instantiate abstract class Animal\n",
    "\n",
    "class Dog(Animal):\n",
    "    def speak(self):\n",
    "        print(\"Woof!\")\n",
    "\n",
    "class Cat(Animal):\n",
    "    def speak(self):\n",
    "        print(\"Meow!\")\n",
    "\n",
    "dog = Dog()\n",
    "dog.speak()  \n",
    "\n",
    "cat = Cat()\n",
    "cat.speak()"
   ]
  },
  {
   "cell_type": "code",
   "execution_count": 13,
   "id": "713e2bc5-00ab-4abb-a508-f324fcd39ac7",
   "metadata": {},
   "outputs": [
    {
     "name": "stdout",
     "output_type": "stream",
     "text": [
      "78.54\n",
      "16\n"
     ]
    }
   ],
   "source": [
    "from abc import ABC, abstractmethod\n",
    "\n",
    "class Shape(ABC):\n",
    "    @abstractmethod\n",
    "    def area(self):\n",
    "        pass\n",
    "\n",
    "class Circle(Shape):\n",
    "    def __init__(self, radius):\n",
    "        self.radius = radius\n",
    "\n",
    "    def area(self):\n",
    "        return 3.1416 * self.radius * self.radius\n",
    "\n",
    "class Square(Shape):\n",
    "    def __init__(self, side):\n",
    "        self.side = side\n",
    "\n",
    "    def area(self):\n",
    "        return self.side * self.side\n",
    "\n",
    "shapes = [Circle(5), Square(4)]\n",
    "\n",
    "for shape in shapes:\n",
    "    print(shape.area())"
   ]
  },
  {
   "cell_type": "markdown",
   "id": "559946f7-3582-44d5-83d4-2fcfc63fcd5a",
   "metadata": {},
   "source": [
    "---\n",
    "\n",
    "### 🎯 Practice Exercises\n",
    "\n",
    "**✅ Exercise 1: Define a base class `Vehicle` with a method `start_engine`, and subclass `Car` that overrides it.**\n",
    "\n",
    "**✅ Exercise 2: Create a class `Person`, then a subclass `Employee` that adds `employee_id` and prints it.**\n",
    "\n",
    "**✅ Exercise 3: Use multiple inheritance to create a `FlyingCar` from both `Car` and `Airplane`.**\n",
    "Sure! Here are **three programming exercises** that cover **abstract classes** and **polymorphism** to practice those concepts:\n",
    "\n",
    "**Exercise 4: Abstract Class and Method Implementation**\n",
    "\n",
    "**Task:**\n",
    "Create an abstract class called `Shape` with an abstract method `area()`.\n",
    "Then, create two subclasses:\n",
    "\n",
    "* `Rectangle` (with attributes `width` and `height`)\n",
    "* `Circle` (with attribute `radius`)\n",
    "\n",
    "Implement the `area()` method in both subclasses to calculate and return the area of the shape.\n",
    "\n",
    "**Bonus:** Create objects of each class and print their areas.\n",
    "\n",
    "**Exercise 5: Polymorphic Function Using Abstract Classes**\n",
    "\n",
    "**Task:**\n",
    "Using the `Shape` class and subclasses from Exercise 1, write a function `print_area(shape)` that accepts any `Shape` object and prints its area.\n",
    "\n",
    "Test this function by passing different `Shape` subclass instances to it.\n"
   ]
  },
  {
   "cell_type": "markdown",
   "id": "0d0c58a9-68a9-4cef-a6e0-a7bfbc31d0af",
   "metadata": {},
   "source": [
    "<div style=\"float:right;\">\n",
    "  <a href=\"https://github.com/MinooSdpr/python-for-beginners/blob/main/Session%2008/Session%2008_1%20-%20Sets%20and%20Booleans.ipynb\"\n",
    "     style=\"\n",
    "       display:inline-block;\n",
    "       padding:8px 20px;\n",
    "       background-color:#414f6f;\n",
    "       color:white;\n",
    "       border-radius:12px;\n",
    "       text-decoration:none;\n",
    "       font-family:sans-serif;\n",
    "       transition:background-color 0.3s ease;\n",
    "     \"\n",
    "     onmouseover=\"this.style.backgroundColor='#2f3a52';\"\n",
    "     onmouseout=\"this.style.backgroundColor='#414f6f';\">\n",
    "    ▶️ Next\n",
    "  </a>\n",
    "</div>"
   ]
  }
 ],
 "metadata": {
  "kernelspec": {
   "display_name": "Python [conda env:base] *",
   "language": "python",
   "name": "conda-base-py"
  },
  "language_info": {
   "codemirror_mode": {
    "name": "ipython",
    "version": 3
   },
   "file_extension": ".py",
   "mimetype": "text/x-python",
   "name": "python",
   "nbconvert_exporter": "python",
   "pygments_lexer": "ipython3",
   "version": "3.12.7"
  }
 },
 "nbformat": 4,
 "nbformat_minor": 5
}
